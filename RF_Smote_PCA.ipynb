{
 "cells": [
  {
   "cell_type": "code",
   "execution_count": 11,
   "metadata": {},
   "outputs": [],
   "source": [
    "import pandas as pd\n",
    "import numpy as np\n",
    "import matplotlib.pyplot as plt\n",
    "import seaborn as sns\n",
    "from sklearn.model_selection import train_test_split\n",
    "from imblearn.over_sampling import SMOTE\n",
    "from sklearn.preprocessing import StandardScaler\n",
    "from sklearn.decomposition import PCA\n",
    "from sklearn.ensemble import RandomForestClassifier\n",
    "from sklearn.metrics import accuracy_score, classification_report, confusion_matrix\n",
    "from sklearn.model_selection import GridSearchCV\n"
   ]
  },
  {
   "cell_type": "code",
   "execution_count": 12,
   "metadata": {},
   "outputs": [
    {
     "name": "stdout",
     "output_type": "stream",
     "text": [
      "X_train shape: (36168, 49)\n",
      "X_test shape: (9042, 49)\n"
     ]
    }
   ],
   "source": [
    "# Load the dataset \n",
    "data = pd.read_csv('processed_data_Encoding.csv')\n",
    "\n",
    "# Separate features and target\n",
    "X = data.drop('y', axis=1)  # Features\n",
    "y = data['y']  # Target\n",
    "\n",
    "\n",
    "# Split into training and testing datasets\n",
    "X_train, X_test, y_train, y_test = train_test_split(X, y, test_size=0.2, random_state=42)\n",
    "print(f\"X_train shape: {X_train.shape}\")\n",
    "print(f\"X_test shape: {X_test.shape}\")"
   ]
  },
  {
   "cell_type": "code",
   "execution_count": 13,
   "metadata": {},
   "outputs": [
    {
     "name": "stdout",
     "output_type": "stream",
     "text": [
      "Original class distribution (train): y\n",
      "0    31972\n",
      "1     4196\n",
      "Name: count, dtype: int64\n",
      "Resampled class distribution (train): y\n",
      "0    31972\n",
      "1    31972\n",
      "Name: count, dtype: int64\n"
     ]
    }
   ],
   "source": [
    "# Apply SMOTE to the training data\n",
    "smote = SMOTE(random_state=42)\n",
    "X_train_res, y_train_res = smote.fit_resample(X_train, y_train)\n",
    "\n",
    "# Check the distribution of classes after resampling\n",
    "print(\"Original class distribution (train):\", y_train.value_counts())\n",
    "print(\"Resampled class distribution (train):\", y_train_res.value_counts())"
   ]
  },
  {
   "cell_type": "code",
   "execution_count": 14,
   "metadata": {},
   "outputs": [],
   "source": [
    "# Specify numerical columns for scaling and PCA\n",
    "numerical_cols = ['age', 'balance', 'campaign', 'previous','balance_no_previous'] \n",
    "\n",
    "# Apply scaling only to the specified numerical columns\n",
    "scaler = StandardScaler()\n",
    "X_train_scaled = X_train_res.copy()  # Copy to preserve other columns\n",
    "X_test_scaled = X_test.copy()  # Copy to preserve other columns\n",
    "\n",
    "# Scale only the numerical columns\n",
    "X_train_scaled[numerical_cols] = scaler.fit_transform(X_train_res[numerical_cols])\n",
    "X_test_scaled[numerical_cols] = scaler.transform(X_test[numerical_cols])"
   ]
  },
  {
   "cell_type": "code",
   "execution_count": 15,
   "metadata": {},
   "outputs": [],
   "source": [
    "# Apply PCA only to the scaled numerical columns\n",
    "pca = PCA(n_components=0.95)  # Retain 95% variance\n",
    "X_train_pca = pca.fit_transform(X_train_scaled[numerical_cols])\n",
    "X_test_pca = pca.transform(X_test_scaled[numerical_cols])\n",
    "\n",
    "# Drop original numerical columns from the data\n",
    "X_train_scaled.drop(columns=numerical_cols, inplace=True)\n",
    "X_test_scaled.drop(columns=numerical_cols, inplace=True)\n",
    "\n",
    "# Add the PCA components to the scaled data\n",
    "X_train_scaled = pd.DataFrame(X_train_scaled)\n",
    "X_test_scaled = pd.DataFrame(X_test_scaled)\n",
    "\n",
    "# Add PCA components as new columns\n",
    "pca_columns = [f'PCA_{i+1}' for i in range(X_train_pca.shape[1])]\n",
    "X_train_scaled[pca_columns] = X_train_pca\n",
    "X_test_scaled[pca_columns] = X_test_pca"
   ]
  },
  {
   "cell_type": "code",
   "execution_count": 16,
   "metadata": {},
   "outputs": [
    {
     "name": "stdout",
     "output_type": "stream",
     "text": [
      "(63944, 4)\n"
     ]
    }
   ],
   "source": [
    "print(X_train_pca.shape)\n"
   ]
  },
  {
   "cell_type": "code",
   "execution_count": 17,
   "metadata": {},
   "outputs": [
    {
     "data": {
      "text/plain": [
       "(9042, 48)"
      ]
     },
     "execution_count": 17,
     "metadata": {},
     "output_type": "execute_result"
    }
   ],
   "source": [
    "X_test_scaled.shape"
   ]
  },
  {
   "cell_type": "code",
   "execution_count": 18,
   "metadata": {},
   "outputs": [
    {
     "name": "stdout",
     "output_type": "stream",
     "text": [
      "Random Forest - Training Accuracy: 0.9339734767921931\n",
      "Random Forest - Test Accuracy: 0.8779031187790312\n",
      "Random Forest - Classification Report:\n",
      "              precision    recall  f1-score   support\n",
      "\n",
      "           0       0.92      0.94      0.93      7949\n",
      "           1       0.49      0.39      0.44      1093\n",
      "\n",
      "    accuracy                           0.88      9042\n",
      "   macro avg       0.71      0.67      0.68      9042\n",
      "weighted avg       0.87      0.88      0.87      9042\n",
      "\n"
     ]
    },
    {
     "data": {
      "image/png": "[encoded data removed]",
      "text/plain": [
       "<Figure size 640x480 with 2 Axes>"
      ]
     },
     "metadata": {},
     "output_type": "display_data"
    }
   ],
   "source": [
    "# Initialize Random Forest Classifier\n",
    "rf_model = RandomForestClassifier(\n",
    "    n_estimators=200, \n",
    "    max_depth=20, \n",
    "    min_samples_split=10, \n",
    "    min_samples_leaf=4, \n",
    "    class_weight='balanced',\n",
    "    random_state=42\n",
    ")\n",
    "# {'class_weight': 'balanced_subsample', 'max_depth': None, 'min_samples_leaf': 1, 'min_samples_split': 2, 'n_estimators': 200}\n",
    "\n",
    "# rf_model = RandomForestClassifier(random_state=42)\n",
    "\n",
    "\n",
    "rf_model.fit(X_train_scaled, y_train_res)\n",
    "\n",
    "# Make predictions\n",
    "rf_y_pred_train = rf_model.predict(X_train_scaled)\n",
    "rf_y_pred_test = rf_model.predict(X_test_scaled)\n",
    "\n",
    "\n",
    "# # Predict probabilities\n",
    "# y_pred_proba = rf_model.predict_proba(X_test_scaled)[:, 1]\n",
    "\n",
    "# # Choose a new threshold\n",
    "# threshold = 0.4\n",
    "# rf_y_pred_test = (y_pred_proba >= threshold).astype(int)\n",
    "\n",
    "# Evaluate Model\n",
    "print(\"Random Forest - Training Accuracy:\", accuracy_score(y_train_res, rf_y_pred_train))\n",
    "print(\"Random Forest - Test Accuracy:\", accuracy_score(y_test, rf_y_pred_test))\n",
    "print(\"Random Forest - Classification Report:\")\n",
    "print(classification_report(y_test, rf_y_pred_test))\n",
    "\n",
    "# Confusion Matrix\n",
    "conf_matrix = confusion_matrix(y_test, rf_y_pred_test)\n",
    "sns.heatmap(conf_matrix, annot=True, fmt='d', cmap='Blues')\n",
    "plt.title(\"Random Forest - Confusion Matrix\")\n",
    "plt.xlabel(\"Predicted\")\n",
    "plt.ylabel(\"Actual\")\n",
    "plt.show()\n"
   ]
  },
  {
   "cell_type": "code",
   "execution_count": 19,
   "metadata": {},
   "outputs": [
    {
     "name": "stdout",
     "output_type": "stream",
     "text": [
      "ROC-AUC Score: 0.7868593205748863\n"
     ]
    }
   ],
   "source": [
    "# Get predicted probabilities for the positive class\n",
    "y_pred_prob = rf_model.predict_proba(X_test_scaled)[:, 1]\n",
    "\n",
    "from sklearn.metrics import roc_auc_score\n",
    "\n",
    "# Calculate ROC-AUC score\n",
    "roc_auc = roc_auc_score(y_test, y_pred_prob)\n",
    "print(\"ROC-AUC Score:\", roc_auc)"
   ]
  },
  {
   "cell_type": "markdown",
   "metadata": {},
   "source": [
    "# Tunning"
   ]
  },
  {
   "cell_type": "code",
   "execution_count": 20,
   "metadata": {},
   "outputs": [],
   "source": [
    "# from sklearn.ensemble import RandomForestClassifier\n",
    "# rf_model = RandomForestClassifier(random_state=42)\n",
    "\n",
    "# # Define parameter grid for GridSearchCV\n",
    "# param_grid = {\n",
    "#     'n_estimators': [100, 200, 300],\n",
    "#     'max_depth': [10, 20, None],\n",
    "#     'min_samples_split': [2, 5, 10],\n",
    "#     'min_samples_leaf': [1, 2, 4],\n",
    "#     'class_weight': ['balanced', 'balanced_subsample']\n",
    "# }\n",
    "\n",
    "# # param_grid = {\n",
    "# #     'n_estimators': [100, 200, 300],           # Number of trees\n",
    "# #     'max_depth': [10, 15, 20, None],           # Max depth of the trees\n",
    "# #     'min_samples_split': [2, 5, 10],           # Minimum samples to split a node\n",
    "# #     'min_samples_leaf': [1, 2, 4],             # Minimum samples per leaf\n",
    "# #     'max_samples': [0.8, 1.0],                 # Fraction of samples to train each tree (80% or 100%)\n",
    "# #     'class_weight': ['balanced_subsample'],    # Balanced weights for each bootstrap sample\n",
    "# # }\n",
    "\n",
    "# # Initialize GridSearchCV\n",
    "# grid_search = GridSearchCV(estimator=rf_model, param_grid=param_grid, cv=3, scoring='f1', verbose=2, n_jobs=-1)\n",
    "\n",
    "# grid_search.fit(X_train_scaled, y_train_res)\n",
    "\n",
    "# # Best parameters\n",
    "# print(\"Best Parameters:\", grid_search.best_params_)\n",
    "\n",
    "# # Get the best model from GridSearchCV\n",
    "# best_rf_model = grid_search.best_estimator_\n",
    "\n",
    "# # Make predictions with the tuned model\n",
    "# rf_tune_y_pred_train = best_rf_model.predict(X_train_scaled)\n",
    "# rf_tune_y_pred_test = best_rf_model.predict(X_test_scaled)\n",
    "\n",
    "# # Evaluate tuned model\n",
    "# print(\"Random Forest Post-Tuning - Training Accuracy:\", accuracy_score(y_train_res, rf_tune_y_pred_train))\n",
    "# print(\"Random Forest Post-Tuning - Test Accuracy:\", accuracy_score(y_test, rf_tune_y_pred_test))\n",
    "# print(\"Random Forest Post-Tuning - Classification Report:\")\n",
    "# print(classification_report(y_test, rf_tune_y_pred_test))\n",
    "\n",
    "# # Confusion Matrix for tuned model\n",
    "# conf_matrix = confusion_matrix(y_test, rf_tune_y_pred_test)\n",
    "# sns.heatmap(conf_matrix, annot=True, fmt='d', cmap='Blues')\n",
    "# plt.title(\"Random Forest - Confusion Matrix\")\n",
    "# plt.xlabel(\"Predicted\")\n",
    "# plt.ylabel(\"Actual\")\n",
    "# plt.show()"
   ]
  },
  {
   "cell_type": "code",
   "execution_count": 21,
   "metadata": {},
   "outputs": [],
   "source": [
    "# # Get predicted probabilities for the positive class\n",
    "# y_pred_prob = best_rf_model.predict_proba(X_test_scaled)[:, 1]\n",
    "\n",
    "# from sklearn.metrics import roc_auc_score\n",
    "\n",
    "# # Calculate ROC-AUC score\n",
    "# roc_auc = roc_auc_score(y_test, y_pred_prob)\n",
    "# print(\"ROC-AUC Score:\", roc_auc)"
   ]
  },
  {
   "cell_type": "code",
   "execution_count": 22,
   "metadata": {},
   "outputs": [],
   "source": [
    "# import matplotlib.pyplot as plt\n",
    "# from sklearn.metrics import roc_curve\n",
    "\n",
    "# # Get ROC curve data\n",
    "# fpr, tpr, thresholds = roc_curve(y_test, y_pred_prob)\n",
    "\n",
    "# # Plot the ROC curve\n",
    "# plt.figure(figsize=(8, 6))\n",
    "# plt.plot(fpr, tpr, color='blue', label='ROC curve (AUC = %0.2f)' % roc_auc)\n",
    "# plt.plot([0, 1], [0, 1], color='gray', linestyle='--')  # Diagonal line (no discrimination)\n",
    "# plt.xlabel('False Positive Rate')\n",
    "# plt.ylabel('True Positive Rate')\n",
    "# plt.title('ROC Curve')\n",
    "# plt.legend(loc='lower right')\n",
    "# plt.show()\n"
   ]
  }
 ],
 "metadata": {
  "kernelspec": {
   "display_name": "Python 3",
   "language": "python",
   "name": "python3"
  },
  "language_info": {
   "codemirror_mode": {
    "name": "ipython",
    "version": 3
   },
   "file_extension": ".py",
   "mimetype": "text/x-python",
   "name": "python",
   "nbconvert_exporter": "python",
   "pygments_lexer": "ipython3",
   "version": "3.11.4"
  }
 },
 "nbformat": 4,
 "nbformat_minor": 2
}
