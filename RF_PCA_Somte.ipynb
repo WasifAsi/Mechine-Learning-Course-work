{
 "cells": [
  {
   "cell_type": "code",
   "execution_count": 5,
   "metadata": {},
   "outputs": [],
   "source": [
    "import pandas as pd\n",
    "import numpy as np\n",
    "import matplotlib.pyplot as plt\n",
    "import seaborn as sns\n",
    "from sklearn.metrics import accuracy_score, classification_report, confusion_matrix\n"
   ]
  },
  {
   "cell_type": "markdown",
   "metadata": {},
   "source": [
    "# Data Loading "
   ]
  },
  {
   "cell_type": "code",
   "execution_count": 6,
   "metadata": {},
   "outputs": [
    {
     "name": "stdout",
     "output_type": "stream",
     "text": [
      "X_train shape: (36168, 37)\n",
      "X_test shape: (9043, 37)\n"
     ]
    }
   ],
   "source": [
    "from sklearn.model_selection import train_test_split\n",
    "\n",
    "# Load the dataset \n",
    "data = pd.read_csv('processed_data_Encoding.csv')\n",
    "\n",
    "# Separate features and target\n",
    "X = data.drop('y', axis=1) \n",
    "y = data['y']\n",
    "\n",
    "# Split into training and testing datasets\n",
    "X_train, X_test, y_train, y_test = train_test_split(X, y, test_size=0.2, random_state=42)\n",
    "\n",
    "# Example: Check the shape of the datasets\n",
    "print(f\"X_train shape: {X_train.shape}\")\n",
    "print(f\"X_test shape: {X_test.shape}\")\n"
   ]
  },
  {
   "cell_type": "markdown",
   "metadata": {},
   "source": [
    "smote"
   ]
  },
  {
   "cell_type": "code",
   "execution_count": 7,
   "metadata": {},
   "outputs": [],
   "source": [
    "from imblearn.over_sampling import SMOTE\n",
    "\n",
    "# Apply SMOTE to the training data\n",
    "smote = SMOTE(random_state=42)\n",
    "X_train_res, y_train_res = smote.fit_resample(X_train, y_train)"
   ]
  },
  {
   "cell_type": "markdown",
   "metadata": {},
   "source": [
    "scaller "
   ]
  },
  {
   "cell_type": "code",
   "execution_count": 8,
   "metadata": {},
   "outputs": [],
   "source": [
    "from sklearn.preprocessing import StandardScaler\n",
    "\n",
    "# Apply scaling only to the specified numerical columns\n",
    "scaler = StandardScaler()\n",
    "X_train_scaled= scaler.fit_transform(X_train_res)\n",
    "X_test_scaled = scaler.transform(X_test)\n"
   ]
  },
  {
   "cell_type": "markdown",
   "metadata": {},
   "source": [
    "pca"
   ]
  },
  {
   "cell_type": "code",
   "execution_count": 9,
   "metadata": {},
   "outputs": [],
   "source": [
    "# from sklearn.decomposition import PCA\n",
    "\n",
    "# pca = PCA(n_components=0.95)\n",
    "\n",
    "# X_train_pca = pca.fit_transform(X_train_scaled)\n",
    "# X_test_pca = pca.transform(X_test_scaled)"
   ]
  },
  {
   "cell_type": "markdown",
   "metadata": {},
   "source": [
    "RF model"
   ]
  },
  {
   "cell_type": "code",
   "execution_count": 10,
   "metadata": {},
   "outputs": [
    {
     "name": "stdout",
     "output_type": "stream",
     "text": [
      "Random Forest - Training Accuracy: 0.999843603378167\n",
      "Random Forest - Test Accuracy: 0.8737144752847507\n",
      "Random Forest - Classification Report:\n",
      "              precision    recall  f1-score   support\n",
      "\n",
      "           0       0.91      0.95      0.93      7952\n",
      "           1       0.46      0.29      0.36      1091\n",
      "\n",
      "    accuracy                           0.87      9043\n",
      "   macro avg       0.69      0.62      0.64      9043\n",
      "weighted avg       0.85      0.87      0.86      9043\n",
      "\n"
     ]
    },
    {
     "data": {
      "image/png": "[encoded data removed]",
      "text/plain": [
       "<Figure size 640x480 with 2 Axes>"
      ]
     },
     "metadata": {},
     "output_type": "display_data"
    }
   ],
   "source": [
    "from sklearn.ensemble import RandomForestClassifier\n",
    "from sklearn.metrics import accuracy_score, classification_report, confusion_matrix\n",
    "\n",
    "# Initialize the model\n",
    "rf_model = RandomForestClassifier(random_state=42)\n",
    "\n",
    "# rf_model = RandomForestClassifier(\n",
    "#     n_estimators=200, \n",
    "#     max_depth=20, \n",
    "#     min_samples_split=10, \n",
    "#     min_samples_leaf=4, \n",
    "#     class_weight='balanced',\n",
    "#     random_state=42\n",
    "# )\n",
    "\n",
    "\n",
    "# Train the model\n",
    "rf_model.fit(X_train_scaled, y_train_res)\n",
    "\n",
    "# Make predictions\n",
    "rf_y_pred_train = rf_model.predict(X_train_scaled)\n",
    "rf_y_pred_test = rf_model.predict(X_test_scaled)\n",
    "\n",
    "# Evaluate\n",
    "print(\"Random Forest - Training Accuracy:\", accuracy_score(y_train_res, rf_y_pred_train))\n",
    "print(\"Random Forest - Test Accuracy:\", accuracy_score(y_test, rf_y_pred_test))\n",
    "\n",
    "# Classification Report\n",
    "print(\"Random Forest - Classification Report:\")\n",
    "print(classification_report(y_test, rf_y_pred_test))\n",
    "\n",
    "# Confusion Matrix\n",
    "conf_matrix = confusion_matrix(y_test, rf_y_pred_test)\n",
    "sns.heatmap(conf_matrix, annot=True, fmt='d', cmap='Blues')\n",
    "plt.title(\"Random Forest - Confusion Matrix\")\n",
    "plt.xlabel(\"Predicted\")\n",
    "plt.ylabel(\"Actual\")\n",
    "plt.show()"
   ]
  },
  {
   "cell_type": "code",
   "execution_count": 12,
   "metadata": {},
   "outputs": [
    {
     "name": "stdout",
     "output_type": "stream",
     "text": [
      "Fitting 3 folds for each of 162 candidates, totalling 486 fits\n"
     ]
    },
    {
     "name": "stderr",
     "output_type": "stream",
     "text": [
      "c:\\Users\\wasif\\AppData\\Local\\Programs\\Python\\Python311\\Lib\\site-packages\\numpy\\ma\\core.py:2846: RuntimeWarning: invalid value encountered in cast\n",
      "  _data = np.array(data, dtype=dtype, copy=copy,\n"
     ]
    },
    {
     "name": "stdout",
     "output_type": "stream",
     "text": [
      "Best Parameters: {'class_weight': 'balanced_subsample', 'max_depth': None, 'min_samples_leaf': 1, 'min_samples_split': 2, 'n_estimators': 200}\n",
      "Random Forest Post-Tuning - Training Accuracy: 0.9998748827025337\n",
      "Random Forest Post-Tuning - Test Accuracy: 0.8724980648015039\n",
      "Random Forest Post-Tuning - Classification Report:\n",
      "              precision    recall  f1-score   support\n",
      "\n",
      "           0       0.91      0.95      0.93      7952\n",
      "           1       0.46      0.29      0.35      1091\n",
      "\n",
      "    accuracy                           0.87      9043\n",
      "   macro avg       0.68      0.62      0.64      9043\n",
      "weighted avg       0.85      0.87      0.86      9043\n",
      "\n"
     ]
    },
    {
     "data": {
      "image/png": "[encoded data removed]",
      "text/plain": [
       "<Figure size 640x480 with 2 Axes>"
      ]
     },
     "metadata": {},
     "output_type": "display_data"
    }
   ],
   "source": [
    "from sklearn.model_selection import GridSearchCV\n",
    "\n",
    "# Define parameter grid\n",
    "param_grid = {\n",
    "    'n_estimators': [100, 200, 300],\n",
    "    'max_depth': [10, 20, None],\n",
    "    'min_samples_split': [2, 5, 10],\n",
    "    'min_samples_leaf': [1, 2, 4],\n",
    "    'class_weight': ['balanced', 'balanced_subsample']\n",
    "}\n",
    "# param_grid = {\n",
    "#     'n_estimators': [100, 300, 500, 700],        # Vary number of trees; more trees can stabilize predictions.\n",
    "#     'max_depth': [10, 20, 30, None],            # Test deeper trees for complex relationships.\n",
    "#     'min_samples_split': [2, 5, 10, 15],        # Experiment with more restrictive splits.\n",
    "#     'min_samples_leaf': [1, 2, 4, 8],           # Larger leaf size helps regularize and prevents overfitting.\n",
    "#     'max_features': ['sqrt', 'log2', 0.3, 0.5], # Test square root, log2, and fractions of features.\n",
    "#     # 'bootstrap': [True, False],                 # Test bootstrap sampling or use the entire dataset.\n",
    "#     'class_weight': ['balanced', 'balanced_subsample', None] # Compare auto-balancing vs. no weighting.\n",
    "# }\n",
    "\n",
    "\n",
    "# Initialize Random Forest and GridSearch\n",
    "rf_model = RandomForestClassifier(random_state=42)\n",
    "\n",
    "# Initialize GridSearchCV\n",
    "grid_search = GridSearchCV(estimator=rf_model, param_grid=param_grid, cv=3, scoring='f1', verbose=2, n_jobs=-1)\n",
    "\n",
    "# Fit GridSearch\n",
    "grid_search.fit(X_train_scaled, y_train_res)\n",
    "\n",
    "# Best Parameters\n",
    "print(\"Best Parameters:\", grid_search.best_params_)\n",
    "\n",
    "# Use the best model\n",
    "best_rf_model = grid_search.best_estimator_\n",
    "\n",
    "\n",
    "# Make predictions\n",
    "rf_tune_y_pred_train = best_rf_model.predict(X_train_scaled)\n",
    "rf_tune_y_pred_test = best_rf_model.predict(X_test_scaled)\n",
    "\n",
    "# Evaluate\n",
    "print(\"Random Forest Post-Tuning - Training Accuracy:\", accuracy_score(y_train_res, rf_tune_y_pred_train))\n",
    "print(\"Random Forest Post-Tuning - Test Accuracy:\", accuracy_score(y_test, rf_tune_y_pred_test))\n",
    "\n",
    "# Classification Report\n",
    "print(\"Random Forest Post-Tuning - Classification Report:\")\n",
    "print(classification_report(y_test, rf_tune_y_pred_test))\n",
    "\n",
    "## Confusion Matrix\n",
    "conf_matrix = confusion_matrix(y_test, rf_tune_y_pred_test)\n",
    "sns.heatmap(conf_matrix, annot=True, fmt='d', cmap='Blues')\n",
    "plt.title(\"Random Forest - Confusion Matrix\")\n",
    "plt.xlabel(\"Predicted\")\n",
    "plt.ylabel(\"Actual\")\n",
    "plt.show()\n"
   ]
  }
 ],
 "metadata": {
  "kernelspec": {
   "display_name": "Python 3",
   "language": "python",
   "name": "python3"
  },
  "language_info": {
   "codemirror_mode": {
    "name": "ipython",
    "version": 3
   },
   "file_extension": ".py",
   "mimetype": "text/x-python",
   "name": "python",
   "nbconvert_exporter": "python",
   "pygments_lexer": "ipython3",
   "version": "3.11.4"
  }
 },
 "nbformat": 4,
 "nbformat_minor": 2
}
