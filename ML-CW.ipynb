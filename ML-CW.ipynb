{
 "cells": [
  {
   "cell_type": "markdown",
   "metadata": {},
   "source": [
    "# Data Preprocessing"
   ]
  },
  {
   "cell_type": "markdown",
   "metadata": {},
   "source": [
    "## Import neccesary libarys"
   ]
  },
  {
   "cell_type": "code",
   "execution_count": 47,
   "metadata": {},
   "outputs": [],
   "source": [
    "import pandas as pd\n",
    "import numpy as np\n",
    "import matplotlib.pyplot as plt\n",
    "import seaborn as sns"
   ]
  },
  {
   "cell_type": "markdown",
   "metadata": {},
   "source": [
    "## Reading the DataSet"
   ]
  },
  {
   "cell_type": "code",
   "execution_count": 48,
   "metadata": {},
   "outputs": [
    {
     "data": {
      "text/html": [
       "<div>\n",
       "<style scoped>\n",
       "    .dataframe tbody tr th:only-of-type {\n",
       "        vertical-align: middle;\n",
       "    }\n",
       "\n",
       "    .dataframe tbody tr th {\n",
       "        vertical-align: top;\n",
       "    }\n",
       "\n",
       "    .dataframe thead th {\n",
       "        text-align: right;\n",
       "    }\n",
       "</style>\n",
       "<table border=\"1\" class=\"dataframe\">\n",
       "  <thead>\n",
       "    <tr style=\"text-align: right;\">\n",
       "      <th></th>\n",
       "      <th>age</th>\n",
       "      <th>job</th>\n",
       "      <th>marital</th>\n",
       "      <th>education</th>\n",
       "      <th>default</th>\n",
       "      <th>balance</th>\n",
       "      <th>housing</th>\n",
       "      <th>loan</th>\n",
       "      <th>contact</th>\n",
       "      <th>day</th>\n",
       "      <th>month</th>\n",
       "      <th>duration</th>\n",
       "      <th>campaign</th>\n",
       "      <th>pdays</th>\n",
       "      <th>previous</th>\n",
       "      <th>poutcome</th>\n",
       "      <th>y</th>\n",
       "    </tr>\n",
       "  </thead>\n",
       "  <tbody>\n",
       "    <tr>\n",
       "      <th>0</th>\n",
       "      <td>58</td>\n",
       "      <td>management</td>\n",
       "      <td>married</td>\n",
       "      <td>tertiary</td>\n",
       "      <td>no</td>\n",
       "      <td>2143</td>\n",
       "      <td>yes</td>\n",
       "      <td>no</td>\n",
       "      <td>unknown</td>\n",
       "      <td>5</td>\n",
       "      <td>may</td>\n",
       "      <td>261</td>\n",
       "      <td>1</td>\n",
       "      <td>-1</td>\n",
       "      <td>0</td>\n",
       "      <td>unknown</td>\n",
       "      <td>no</td>\n",
       "    </tr>\n",
       "    <tr>\n",
       "      <th>1</th>\n",
       "      <td>44</td>\n",
       "      <td>technician</td>\n",
       "      <td>single</td>\n",
       "      <td>secondary</td>\n",
       "      <td>no</td>\n",
       "      <td>29</td>\n",
       "      <td>yes</td>\n",
       "      <td>no</td>\n",
       "      <td>unknown</td>\n",
       "      <td>5</td>\n",
       "      <td>may</td>\n",
       "      <td>151</td>\n",
       "      <td>1</td>\n",
       "      <td>-1</td>\n",
       "      <td>0</td>\n",
       "      <td>unknown</td>\n",
       "      <td>no</td>\n",
       "    </tr>\n",
       "    <tr>\n",
       "      <th>2</th>\n",
       "      <td>33</td>\n",
       "      <td>entrepreneur</td>\n",
       "      <td>married</td>\n",
       "      <td>secondary</td>\n",
       "      <td>no</td>\n",
       "      <td>2</td>\n",
       "      <td>yes</td>\n",
       "      <td>yes</td>\n",
       "      <td>unknown</td>\n",
       "      <td>5</td>\n",
       "      <td>may</td>\n",
       "      <td>76</td>\n",
       "      <td>1</td>\n",
       "      <td>-1</td>\n",
       "      <td>0</td>\n",
       "      <td>unknown</td>\n",
       "      <td>no</td>\n",
       "    </tr>\n",
       "    <tr>\n",
       "      <th>3</th>\n",
       "      <td>47</td>\n",
       "      <td>blue-collar</td>\n",
       "      <td>married</td>\n",
       "      <td>unknown</td>\n",
       "      <td>no</td>\n",
       "      <td>1506</td>\n",
       "      <td>yes</td>\n",
       "      <td>no</td>\n",
       "      <td>unknown</td>\n",
       "      <td>5</td>\n",
       "      <td>may</td>\n",
       "      <td>92</td>\n",
       "      <td>1</td>\n",
       "      <td>-1</td>\n",
       "      <td>0</td>\n",
       "      <td>unknown</td>\n",
       "      <td>no</td>\n",
       "    </tr>\n",
       "    <tr>\n",
       "      <th>4</th>\n",
       "      <td>33</td>\n",
       "      <td>unknown</td>\n",
       "      <td>single</td>\n",
       "      <td>unknown</td>\n",
       "      <td>no</td>\n",
       "      <td>1</td>\n",
       "      <td>no</td>\n",
       "      <td>no</td>\n",
       "      <td>unknown</td>\n",
       "      <td>5</td>\n",
       "      <td>may</td>\n",
       "      <td>198</td>\n",
       "      <td>1</td>\n",
       "      <td>-1</td>\n",
       "      <td>0</td>\n",
       "      <td>unknown</td>\n",
       "      <td>no</td>\n",
       "    </tr>\n",
       "  </tbody>\n",
       "</table>\n",
       "</div>"
      ],
      "text/plain": [
       "   age           job  marital  education default  balance housing loan  \\\n",
       "0   58    management  married   tertiary      no     2143     yes   no   \n",
       "1   44    technician   single  secondary      no       29     yes   no   \n",
       "2   33  entrepreneur  married  secondary      no        2     yes  yes   \n",
       "3   47   blue-collar  married    unknown      no     1506     yes   no   \n",
       "4   33       unknown   single    unknown      no        1      no   no   \n",
       "\n",
       "   contact  day month  duration  campaign  pdays  previous poutcome   y  \n",
       "0  unknown    5   may       261         1     -1         0  unknown  no  \n",
       "1  unknown    5   may       151         1     -1         0  unknown  no  \n",
       "2  unknown    5   may        76         1     -1         0  unknown  no  \n",
       "3  unknown    5   may        92         1     -1         0  unknown  no  \n",
       "4  unknown    5   may       198         1     -1         0  unknown  no  "
      ]
     },
     "execution_count": 48,
     "metadata": {},
     "output_type": "execute_result"
    }
   ],
   "source": [
    "# Load the dataset\n",
    "# data = pd.read_csv('bank.csv' , sep=';')\n",
    "data = pd.read_csv('bank-full.csv' , sep=';')\n",
    "\n",
    "# View the first few rows\n",
    "data.head()"
   ]
  },
  {
   "cell_type": "code",
   "execution_count": 49,
   "metadata": {},
   "outputs": [
    {
     "data": {
      "text/html": [
       "<div>\n",
       "<style scoped>\n",
       "    .dataframe tbody tr th:only-of-type {\n",
       "        vertical-align: middle;\n",
       "    }\n",
       "\n",
       "    .dataframe tbody tr th {\n",
       "        vertical-align: top;\n",
       "    }\n",
       "\n",
       "    .dataframe thead th {\n",
       "        text-align: right;\n",
       "    }\n",
       "</style>\n",
       "<table border=\"1\" class=\"dataframe\">\n",
       "  <thead>\n",
       "    <tr style=\"text-align: right;\">\n",
       "      <th></th>\n",
       "      <th>age</th>\n",
       "      <th>job</th>\n",
       "      <th>marital</th>\n",
       "      <th>education</th>\n",
       "      <th>default</th>\n",
       "      <th>balance</th>\n",
       "      <th>housing</th>\n",
       "      <th>loan</th>\n",
       "      <th>contact</th>\n",
       "      <th>day</th>\n",
       "      <th>month</th>\n",
       "      <th>duration</th>\n",
       "      <th>campaign</th>\n",
       "      <th>pdays</th>\n",
       "      <th>previous</th>\n",
       "      <th>poutcome</th>\n",
       "      <th>y</th>\n",
       "    </tr>\n",
       "  </thead>\n",
       "  <tbody>\n",
       "    <tr>\n",
       "      <th>45206</th>\n",
       "      <td>51</td>\n",
       "      <td>technician</td>\n",
       "      <td>married</td>\n",
       "      <td>tertiary</td>\n",
       "      <td>no</td>\n",
       "      <td>825</td>\n",
       "      <td>no</td>\n",
       "      <td>no</td>\n",
       "      <td>cellular</td>\n",
       "      <td>17</td>\n",
       "      <td>nov</td>\n",
       "      <td>977</td>\n",
       "      <td>3</td>\n",
       "      <td>-1</td>\n",
       "      <td>0</td>\n",
       "      <td>unknown</td>\n",
       "      <td>yes</td>\n",
       "    </tr>\n",
       "    <tr>\n",
       "      <th>45207</th>\n",
       "      <td>71</td>\n",
       "      <td>retired</td>\n",
       "      <td>divorced</td>\n",
       "      <td>primary</td>\n",
       "      <td>no</td>\n",
       "      <td>1729</td>\n",
       "      <td>no</td>\n",
       "      <td>no</td>\n",
       "      <td>cellular</td>\n",
       "      <td>17</td>\n",
       "      <td>nov</td>\n",
       "      <td>456</td>\n",
       "      <td>2</td>\n",
       "      <td>-1</td>\n",
       "      <td>0</td>\n",
       "      <td>unknown</td>\n",
       "      <td>yes</td>\n",
       "    </tr>\n",
       "    <tr>\n",
       "      <th>45208</th>\n",
       "      <td>72</td>\n",
       "      <td>retired</td>\n",
       "      <td>married</td>\n",
       "      <td>secondary</td>\n",
       "      <td>no</td>\n",
       "      <td>5715</td>\n",
       "      <td>no</td>\n",
       "      <td>no</td>\n",
       "      <td>cellular</td>\n",
       "      <td>17</td>\n",
       "      <td>nov</td>\n",
       "      <td>1127</td>\n",
       "      <td>5</td>\n",
       "      <td>184</td>\n",
       "      <td>3</td>\n",
       "      <td>success</td>\n",
       "      <td>yes</td>\n",
       "    </tr>\n",
       "    <tr>\n",
       "      <th>45209</th>\n",
       "      <td>57</td>\n",
       "      <td>blue-collar</td>\n",
       "      <td>married</td>\n",
       "      <td>secondary</td>\n",
       "      <td>no</td>\n",
       "      <td>668</td>\n",
       "      <td>no</td>\n",
       "      <td>no</td>\n",
       "      <td>telephone</td>\n",
       "      <td>17</td>\n",
       "      <td>nov</td>\n",
       "      <td>508</td>\n",
       "      <td>4</td>\n",
       "      <td>-1</td>\n",
       "      <td>0</td>\n",
       "      <td>unknown</td>\n",
       "      <td>no</td>\n",
       "    </tr>\n",
       "    <tr>\n",
       "      <th>45210</th>\n",
       "      <td>37</td>\n",
       "      <td>entrepreneur</td>\n",
       "      <td>married</td>\n",
       "      <td>secondary</td>\n",
       "      <td>no</td>\n",
       "      <td>2971</td>\n",
       "      <td>no</td>\n",
       "      <td>no</td>\n",
       "      <td>cellular</td>\n",
       "      <td>17</td>\n",
       "      <td>nov</td>\n",
       "      <td>361</td>\n",
       "      <td>2</td>\n",
       "      <td>188</td>\n",
       "      <td>11</td>\n",
       "      <td>other</td>\n",
       "      <td>no</td>\n",
       "    </tr>\n",
       "  </tbody>\n",
       "</table>\n",
       "</div>"
      ],
      "text/plain": [
       "       age           job   marital  education default  balance housing loan  \\\n",
       "45206   51    technician   married   tertiary      no      825      no   no   \n",
       "45207   71       retired  divorced    primary      no     1729      no   no   \n",
       "45208   72       retired   married  secondary      no     5715      no   no   \n",
       "45209   57   blue-collar   married  secondary      no      668      no   no   \n",
       "45210   37  entrepreneur   married  secondary      no     2971      no   no   \n",
       "\n",
       "         contact  day month  duration  campaign  pdays  previous poutcome    y  \n",
       "45206   cellular   17   nov       977         3     -1         0  unknown  yes  \n",
       "45207   cellular   17   nov       456         2     -1         0  unknown  yes  \n",
       "45208   cellular   17   nov      1127         5    184         3  success  yes  \n",
       "45209  telephone   17   nov       508         4     -1         0  unknown   no  \n",
       "45210   cellular   17   nov       361         2    188        11    other   no  "
      ]
     },
     "execution_count": 49,
     "metadata": {},
     "output_type": "execute_result"
    }
   ],
   "source": [
    "#view the last few rows\n",
    "data.tail()"
   ]
  },
  {
   "cell_type": "markdown",
   "metadata": {},
   "source": [
    "## Sanity check data"
   ]
  },
  {
   "cell_type": "code",
   "execution_count": 50,
   "metadata": {},
   "outputs": [
    {
     "data": {
      "text/plain": [
       "(45211, 17)"
      ]
     },
     "execution_count": 50,
     "metadata": {},
     "output_type": "execute_result"
    }
   ],
   "source": [
    "# Check the shape of the data\n",
    "# cloums and rows\n",
    "data.shape"
   ]
  },
  {
   "cell_type": "code",
   "execution_count": 51,
   "metadata": {},
   "outputs": [
    {
     "name": "stdout",
     "output_type": "stream",
     "text": [
      "<class 'pandas.core.frame.DataFrame'>\n",
      "RangeIndex: 45211 entries, 0 to 45210\n",
      "Data columns (total 17 columns):\n",
      " #   Column     Non-Null Count  Dtype \n",
      "---  ------     --------------  ----- \n",
      " 0   age        45211 non-null  int64 \n",
      " 1   job        45211 non-null  object\n",
      " 2   marital    45211 non-null  object\n",
      " 3   education  45211 non-null  object\n",
      " 4   default    45211 non-null  object\n",
      " 5   balance    45211 non-null  int64 \n",
      " 6   housing    45211 non-null  object\n",
      " 7   loan       45211 non-null  object\n",
      " 8   contact    45211 non-null  object\n",
      " 9   day        45211 non-null  int64 \n",
      " 10  month      45211 non-null  object\n",
      " 11  duration   45211 non-null  int64 \n",
      " 12  campaign   45211 non-null  int64 \n",
      " 13  pdays      45211 non-null  int64 \n",
      " 14  previous   45211 non-null  int64 \n",
      " 15  poutcome   45211 non-null  object\n",
      " 16  y          45211 non-null  object\n",
      "dtypes: int64(7), object(10)\n",
      "memory usage: 5.9+ MB\n"
     ]
    }
   ],
   "source": [
    "# Check column information\n",
    "data.info()"
   ]
  },
  {
   "cell_type": "code",
   "execution_count": 52,
   "metadata": {},
   "outputs": [
    {
     "data": {
      "text/plain": [
       "age          0\n",
       "job          0\n",
       "marital      0\n",
       "education    0\n",
       "default      0\n",
       "balance      0\n",
       "housing      0\n",
       "loan         0\n",
       "contact      0\n",
       "day          0\n",
       "month        0\n",
       "duration     0\n",
       "campaign     0\n",
       "pdays        0\n",
       "previous     0\n",
       "poutcome     0\n",
       "y            0\n",
       "dtype: int64"
      ]
     },
     "execution_count": 52,
     "metadata": {},
     "output_type": "execute_result"
    }
   ],
   "source": [
    "# Check for missing values\n",
    "data.isnull().sum()"
   ]
  },
  {
   "cell_type": "code",
   "execution_count": 53,
   "metadata": {},
   "outputs": [
    {
     "data": {
      "text/plain": [
       "np.int64(0)"
      ]
     },
     "execution_count": 53,
     "metadata": {},
     "output_type": "execute_result"
    }
   ],
   "source": [
    "#check for duplicates\n",
    "data.duplicated().sum()"
   ]
  },
  {
   "cell_type": "code",
   "execution_count": 54,
   "metadata": {},
   "outputs": [
    {
     "name": "stdout",
     "output_type": "stream",
     "text": [
      "\n",
      "Unique values in job are ['management' 'technician' 'entrepreneur' 'blue-collar' 'unknown'\n",
      " 'retired' 'admin.' 'services' 'self-employed' 'unemployed' 'housemaid'\n",
      " 'student']\n",
      "\n",
      "Unique values in marital are ['married' 'single' 'divorced']\n",
      "\n",
      "Unique values in education are ['tertiary' 'secondary' 'unknown' 'primary']\n",
      "\n",
      "Unique values in default are ['no' 'yes']\n",
      "\n",
      "Unique values in housing are ['yes' 'no']\n",
      "\n",
      "Unique values in loan are ['no' 'yes']\n",
      "\n",
      "Unique values in contact are ['unknown' 'cellular' 'telephone']\n",
      "\n",
      "Unique values in month are ['may' 'jun' 'jul' 'aug' 'oct' 'nov' 'dec' 'jan' 'feb' 'mar' 'apr' 'sep']\n",
      "\n",
      "Unique values in poutcome are ['unknown' 'failure' 'other' 'success']\n",
      "\n",
      "Unique values in y are ['no' 'yes']\n"
     ]
    }
   ],
   "source": [
    "#identify the unique values and garbage values\n",
    "for i in data.select_dtypes(include='object').columns:\n",
    "    print(f'\\nUnique values in {i} are {data[i].unique()}')"
   ]
  },
  {
   "cell_type": "markdown",
   "metadata": {},
   "source": [
    "## Missing Value Treatment"
   ]
  },
  {
   "cell_type": "code",
   "execution_count": 55,
   "metadata": {},
   "outputs": [
    {
     "name": "stdout",
     "output_type": "stream",
     "text": [
      "<class 'pandas.core.frame.DataFrame'>\n",
      "RangeIndex: 45211 entries, 0 to 45210\n",
      "Data columns (total 17 columns):\n",
      " #   Column     Non-Null Count  Dtype \n",
      "---  ------     --------------  ----- \n",
      " 0   age        45211 non-null  int64 \n",
      " 1   job        45211 non-null  object\n",
      " 2   marital    45211 non-null  object\n",
      " 3   education  45211 non-null  object\n",
      " 4   default    45211 non-null  object\n",
      " 5   balance    45211 non-null  int64 \n",
      " 6   housing    45211 non-null  object\n",
      " 7   loan       45211 non-null  object\n",
      " 8   contact    45211 non-null  object\n",
      " 9   day        45211 non-null  int64 \n",
      " 10  month      45211 non-null  object\n",
      " 11  duration   45211 non-null  int64 \n",
      " 12  campaign   45211 non-null  int64 \n",
      " 13  pdays      45211 non-null  int64 \n",
      " 14  previous   45211 non-null  int64 \n",
      " 15  poutcome   45211 non-null  object\n",
      " 16  y          45211 non-null  object\n",
      "dtypes: int64(7), object(10)\n",
      "memory usage: 5.9+ MB\n"
     ]
    }
   ],
   "source": [
    "data.info()"
   ]
  },
  {
   "cell_type": "code",
   "execution_count": 56,
   "metadata": {},
   "outputs": [
    {
     "name": "stdout",
     "output_type": "stream",
     "text": [
      "age          0\n",
      "job          0\n",
      "marital      0\n",
      "education    0\n",
      "default      0\n",
      "balance      0\n",
      "housing      0\n",
      "loan         0\n",
      "contact      0\n",
      "day          0\n",
      "month        0\n",
      "duration     0\n",
      "campaign     0\n",
      "pdays        0\n",
      "previous     0\n",
      "poutcome     0\n",
      "y            0\n",
      "dtype: int64\n",
      "Missing values treated.\n"
     ]
    }
   ],
   "source": [
    "# Check for missing values\n",
    "print(data.isnull().sum())\n",
    "\n",
    "# Handle missing values\n",
    "for col in data.columns:\n",
    "    if data[col].isnull().sum() > 0:\n",
    "        # For categorical columns\n",
    "        if data[col].dtype == 'object':\n",
    "            data[col].fillna(data[col].mode()[0], inplace=True) \n",
    "        else:\n",
    "            data[col].fillna(data[col].median(), inplace=True)  # Fill numerical with median\n",
    "\n",
    "print(\"Missing values treated.\")\n"
   ]
  },
  {
   "cell_type": "code",
   "execution_count": 57,
   "metadata": {},
   "outputs": [
    {
     "data": {
      "text/plain": [
       "age          0\n",
       "job          0\n",
       "marital      0\n",
       "education    0\n",
       "default      0\n",
       "balance      0\n",
       "housing      0\n",
       "loan         0\n",
       "contact      0\n",
       "day          0\n",
       "month        0\n",
       "duration     0\n",
       "campaign     0\n",
       "pdays        0\n",
       "previous     0\n",
       "poutcome     0\n",
       "y            0\n",
       "dtype: int64"
      ]
     },
     "execution_count": 57,
     "metadata": {},
     "output_type": "execute_result"
    }
   ],
   "source": [
    "data.isnull().sum()"
   ]
  },
  {
   "cell_type": "markdown",
   "metadata": {},
   "source": [
    "## Duplicate and Garbage value treatment"
   ]
  },
  {
   "cell_type": "code",
   "execution_count": 58,
   "metadata": {},
   "outputs": [
    {
     "name": "stdout",
     "output_type": "stream",
     "text": [
      "Number of duplicate rows: 0\n"
     ]
    }
   ],
   "source": [
    "# Check for duplicates\n",
    "duplicates = data.duplicated().sum()\n",
    "print(f\"Number of duplicate rows: {duplicates}\")\n",
    "\n",
    "# Drop duplicates\n",
    "data = data.drop_duplicates()"
   ]
  },
  {
   "cell_type": "markdown",
   "metadata": {},
   "source": [
    "## Exploratory Data Analysis (EDA)"
   ]
  },
  {
   "cell_type": "code",
   "execution_count": 59,
   "metadata": {},
   "outputs": [
    {
     "data": {
      "text/html": [
       "<div>\n",
       "<style scoped>\n",
       "    .dataframe tbody tr th:only-of-type {\n",
       "        vertical-align: middle;\n",
       "    }\n",
       "\n",
       "    .dataframe tbody tr th {\n",
       "        vertical-align: top;\n",
       "    }\n",
       "\n",
       "    .dataframe thead th {\n",
       "        text-align: right;\n",
       "    }\n",
       "</style>\n",
       "<table border=\"1\" class=\"dataframe\">\n",
       "  <thead>\n",
       "    <tr style=\"text-align: right;\">\n",
       "      <th></th>\n",
       "      <th>count</th>\n",
       "      <th>mean</th>\n",
       "      <th>std</th>\n",
       "      <th>min</th>\n",
       "      <th>25%</th>\n",
       "      <th>50%</th>\n",
       "      <th>75%</th>\n",
       "      <th>max</th>\n",
       "    </tr>\n",
       "  </thead>\n",
       "  <tbody>\n",
       "    <tr>\n",
       "      <th>age</th>\n",
       "      <td>45211.0</td>\n",
       "      <td>40.936210</td>\n",
       "      <td>10.618762</td>\n",
       "      <td>18.0</td>\n",
       "      <td>33.0</td>\n",
       "      <td>39.0</td>\n",
       "      <td>48.0</td>\n",
       "      <td>95.0</td>\n",
       "    </tr>\n",
       "    <tr>\n",
       "      <th>balance</th>\n",
       "      <td>45211.0</td>\n",
       "      <td>1362.272058</td>\n",
       "      <td>3044.765829</td>\n",
       "      <td>-8019.0</td>\n",
       "      <td>72.0</td>\n",
       "      <td>448.0</td>\n",
       "      <td>1428.0</td>\n",
       "      <td>102127.0</td>\n",
       "    </tr>\n",
       "    <tr>\n",
       "      <th>day</th>\n",
       "      <td>45211.0</td>\n",
       "      <td>15.806419</td>\n",
       "      <td>8.322476</td>\n",
       "      <td>1.0</td>\n",
       "      <td>8.0</td>\n",
       "      <td>16.0</td>\n",
       "      <td>21.0</td>\n",
       "      <td>31.0</td>\n",
       "    </tr>\n",
       "    <tr>\n",
       "      <th>duration</th>\n",
       "      <td>45211.0</td>\n",
       "      <td>258.163080</td>\n",
       "      <td>257.527812</td>\n",
       "      <td>0.0</td>\n",
       "      <td>103.0</td>\n",
       "      <td>180.0</td>\n",
       "      <td>319.0</td>\n",
       "      <td>4918.0</td>\n",
       "    </tr>\n",
       "    <tr>\n",
       "      <th>campaign</th>\n",
       "      <td>45211.0</td>\n",
       "      <td>2.763841</td>\n",
       "      <td>3.098021</td>\n",
       "      <td>1.0</td>\n",
       "      <td>1.0</td>\n",
       "      <td>2.0</td>\n",
       "      <td>3.0</td>\n",
       "      <td>63.0</td>\n",
       "    </tr>\n",
       "    <tr>\n",
       "      <th>pdays</th>\n",
       "      <td>45211.0</td>\n",
       "      <td>40.197828</td>\n",
       "      <td>100.128746</td>\n",
       "      <td>-1.0</td>\n",
       "      <td>-1.0</td>\n",
       "      <td>-1.0</td>\n",
       "      <td>-1.0</td>\n",
       "      <td>871.0</td>\n",
       "    </tr>\n",
       "    <tr>\n",
       "      <th>previous</th>\n",
       "      <td>45211.0</td>\n",
       "      <td>0.580323</td>\n",
       "      <td>2.303441</td>\n",
       "      <td>0.0</td>\n",
       "      <td>0.0</td>\n",
       "      <td>0.0</td>\n",
       "      <td>0.0</td>\n",
       "      <td>275.0</td>\n",
       "    </tr>\n",
       "  </tbody>\n",
       "</table>\n",
       "</div>"
      ],
      "text/plain": [
       "            count         mean          std     min    25%    50%     75%  \\\n",
       "age       45211.0    40.936210    10.618762    18.0   33.0   39.0    48.0   \n",
       "balance   45211.0  1362.272058  3044.765829 -8019.0   72.0  448.0  1428.0   \n",
       "day       45211.0    15.806419     8.322476     1.0    8.0   16.0    21.0   \n",
       "duration  45211.0   258.163080   257.527812     0.0  103.0  180.0   319.0   \n",
       "campaign  45211.0     2.763841     3.098021     1.0    1.0    2.0     3.0   \n",
       "pdays     45211.0    40.197828   100.128746    -1.0   -1.0   -1.0    -1.0   \n",
       "previous  45211.0     0.580323     2.303441     0.0    0.0    0.0     0.0   \n",
       "\n",
       "               max  \n",
       "age           95.0  \n",
       "balance   102127.0  \n",
       "day           31.0  \n",
       "duration    4918.0  \n",
       "campaign      63.0  \n",
       "pdays        871.0  \n",
       "previous     275.0  "
      ]
     },
     "execution_count": 59,
     "metadata": {},
     "output_type": "execute_result"
    }
   ],
   "source": [
    "# Descriptive statistics\n",
    "data.describe().T"
   ]
  },
  {
   "cell_type": "code",
   "execution_count": 60,
   "metadata": {},
   "outputs": [
    {
     "data": {
      "text/html": [
       "<div>\n",
       "<style scoped>\n",
       "    .dataframe tbody tr th:only-of-type {\n",
       "        vertical-align: middle;\n",
       "    }\n",
       "\n",
       "    .dataframe tbody tr th {\n",
       "        vertical-align: top;\n",
       "    }\n",
       "\n",
       "    .dataframe thead th {\n",
       "        text-align: right;\n",
       "    }\n",
       "</style>\n",
       "<table border=\"1\" class=\"dataframe\">\n",
       "  <thead>\n",
       "    <tr style=\"text-align: right;\">\n",
       "      <th></th>\n",
       "      <th>count</th>\n",
       "      <th>unique</th>\n",
       "      <th>top</th>\n",
       "      <th>freq</th>\n",
       "    </tr>\n",
       "  </thead>\n",
       "  <tbody>\n",
       "    <tr>\n",
       "      <th>job</th>\n",
       "      <td>45211</td>\n",
       "      <td>12</td>\n",
       "      <td>blue-collar</td>\n",
       "      <td>9732</td>\n",
       "    </tr>\n",
       "    <tr>\n",
       "      <th>marital</th>\n",
       "      <td>45211</td>\n",
       "      <td>3</td>\n",
       "      <td>married</td>\n",
       "      <td>27214</td>\n",
       "    </tr>\n",
       "    <tr>\n",
       "      <th>education</th>\n",
       "      <td>45211</td>\n",
       "      <td>4</td>\n",
       "      <td>secondary</td>\n",
       "      <td>23202</td>\n",
       "    </tr>\n",
       "    <tr>\n",
       "      <th>default</th>\n",
       "      <td>45211</td>\n",
       "      <td>2</td>\n",
       "      <td>no</td>\n",
       "      <td>44396</td>\n",
       "    </tr>\n",
       "    <tr>\n",
       "      <th>housing</th>\n",
       "      <td>45211</td>\n",
       "      <td>2</td>\n",
       "      <td>yes</td>\n",
       "      <td>25130</td>\n",
       "    </tr>\n",
       "    <tr>\n",
       "      <th>loan</th>\n",
       "      <td>45211</td>\n",
       "      <td>2</td>\n",
       "      <td>no</td>\n",
       "      <td>37967</td>\n",
       "    </tr>\n",
       "    <tr>\n",
       "      <th>contact</th>\n",
       "      <td>45211</td>\n",
       "      <td>3</td>\n",
       "      <td>cellular</td>\n",
       "      <td>29285</td>\n",
       "    </tr>\n",
       "    <tr>\n",
       "      <th>month</th>\n",
       "      <td>45211</td>\n",
       "      <td>12</td>\n",
       "      <td>may</td>\n",
       "      <td>13766</td>\n",
       "    </tr>\n",
       "    <tr>\n",
       "      <th>poutcome</th>\n",
       "      <td>45211</td>\n",
       "      <td>4</td>\n",
       "      <td>unknown</td>\n",
       "      <td>36959</td>\n",
       "    </tr>\n",
       "    <tr>\n",
       "      <th>y</th>\n",
       "      <td>45211</td>\n",
       "      <td>2</td>\n",
       "      <td>no</td>\n",
       "      <td>39922</td>\n",
       "    </tr>\n",
       "  </tbody>\n",
       "</table>\n",
       "</div>"
      ],
      "text/plain": [
       "           count unique          top   freq\n",
       "job        45211     12  blue-collar   9732\n",
       "marital    45211      3      married  27214\n",
       "education  45211      4    secondary  23202\n",
       "default    45211      2           no  44396\n",
       "housing    45211      2          yes  25130\n",
       "loan       45211      2           no  37967\n",
       "contact    45211      3     cellular  29285\n",
       "month      45211     12          may  13766\n",
       "poutcome   45211      4      unknown  36959\n",
       "y          45211      2           no  39922"
      ]
     },
     "execution_count": 60,
     "metadata": {},
     "output_type": "execute_result"
    }
   ],
   "source": [
    "data.describe(include='object').T"
   ]
  },
  {
   "cell_type": "code",
   "execution_count": 61,
   "metadata": {},
   "outputs": [
    {
     "data": {
      "image/png": "[encoded data removed]",
      "text/plain": [
       "<Figure size 640x480 with 1 Axes>"
      ]
     },
     "metadata": {},
     "output_type": "display_data"
    },
    {
     "data": {
      "image/png": "[encoded data removed]",
      "text/plain": [
       "<Figure size 640x480 with 1 Axes>"
      ]
     },
     "metadata": {},
     "output_type": "display_data"
    },
    {
     "data": {
      "image/png": "[encoded data removed]",
      "text/plain": [
       "<Figure size 640x480 with 1 Axes>"
      ]
     },
     "metadata": {},
     "output_type": "display_data"
    },
    {
     "data": {
      "image/png": "[encoded data removed]",
      "text/plain": [
       "<Figure size 640x480 with 1 Axes>"
      ]
     },
     "metadata": {},
     "output_type": "display_data"
    },
    {
     "data": {
      "image/png": "[encoded data removed]",
      "text/plain": [
       "<Figure size 640x480 with 1 Axes>"
      ]
     },
     "metadata": {},
     "output_type": "display_data"
    },
    {
     "data": {
      "image/png": "[encoded data removed]",
      "text/plain": [
       "<Figure size 640x480 with 1 Axes>"
      ]
     },
     "metadata": {},
     "output_type": "display_data"
    },
    {
     "data": {
      "image/png": "[encoded data removed]",
      "text/plain": [
       "<Figure size 640x480 with 1 Axes>"
      ]
     },
     "metadata": {},
     "output_type": "display_data"
    }
   ],
   "source": [
    "#histogram to understand the distribution of the data\n",
    "for i in data.select_dtypes(include='number').columns:\n",
    "    sns.histplot(data=data, x= i)\n",
    "    plt.show()"
   ]
  },
  {
   "cell_type": "code",
   "execution_count": 62,
   "metadata": {},
   "outputs": [
    {
     "data": {
      "image/png": "[encoded data removed]",
      "text/plain": [
       "<Figure size 640x480 with 1 Axes>"
      ]
     },
     "metadata": {},
     "output_type": "display_data"
    },
    {
     "data": {
      "image/png": "[encoded data removed]",
      "text/plain": [
       "<Figure size 640x480 with 1 Axes>"
      ]
     },
     "metadata": {},
     "output_type": "display_data"
    },
    {
     "data": {
      "image/png": "[encoded data removed]",
      "text/plain": [
       "<Figure size 640x480 with 1 Axes>"
      ]
     },
     "metadata": {},
     "output_type": "display_data"
    },
    {
     "data": {
      "image/png": "[encoded data removed]",
      "text/plain": [
       "<Figure size 640x480 with 1 Axes>"
      ]
     },
     "metadata": {},
     "output_type": "display_data"
    },
    {
     "data": {
      "image/png": "[encoded data removed]",
      "text/plain": [
       "<Figure size 640x480 with 1 Axes>"
      ]
     },
     "metadata": {},
     "output_type": "display_data"
    },
    {
     "data": {
      "image/png": "[encoded data removed]",
      "text/plain": [
       "<Figure size 640x480 with 1 Axes>"
      ]
     },
     "metadata": {},
     "output_type": "display_data"
    },
    {
     "data": {
      "image/png": "[encoded data removed]",
      "text/plain": [
       "<Figure size 640x480 with 1 Axes>"
      ]
     },
     "metadata": {},
     "output_type": "display_data"
    }
   ],
   "source": [
    "# Boxplot to identify the outliers\n",
    "for i in data.select_dtypes(include='number').columns:\n",
    "    sns.boxplot(data=data, x= i)\n",
    "    plt.show()"
   ]
  },
  {
   "cell_type": "code",
   "execution_count": 63,
   "metadata": {},
   "outputs": [],
   "source": [
    "# #scatter plot to understand the relationship between the variables\n",
    "# for i in ['age', 'balance', 'day', 'duration', 'campaign', 'pdays', 'previous']:\n",
    "#     sns.scatterplot(data=data, x=i, y=data['y'])\n",
    "#     plt.show() "
   ]
  },
  {
   "cell_type": "code",
   "execution_count": 64,
   "metadata": {},
   "outputs": [
    {
     "data": {
      "text/plain": [
       "Index(['age', 'balance', 'day', 'duration', 'campaign', 'pdays', 'previous'], dtype='object')"
      ]
     },
     "execution_count": 64,
     "metadata": {},
     "output_type": "execute_result"
    }
   ],
   "source": [
    "data.select_dtypes(include='number').columns"
   ]
  },
  {
   "cell_type": "code",
   "execution_count": 65,
   "metadata": {},
   "outputs": [
    {
     "data": {
      "text/plain": [
       "<Axes: >"
      ]
     },
     "execution_count": 65,
     "metadata": {},
     "output_type": "execute_result"
    },
    {
     "data": {
      "image/png": "[encoded data removed]",
      "text/plain": [
       "<Figure size 640x480 with 2 Axes>"
      ]
     },
     "metadata": {},
     "output_type": "display_data"
    }
   ],
   "source": [
    "#correlation heatmap to interpreat the realationship and mulitcollinearity \n",
    "s = data.select_dtypes(include='number').corr()\n",
    "sns.heatmap(s, annot=True)"
   ]
  },
  {
   "cell_type": "markdown",
   "metadata": {},
   "source": [
    "## Outlier Treatment"
   ]
  },
  {
   "cell_type": "code",
   "execution_count": 66,
   "metadata": {},
   "outputs": [
    {
     "name": "stdout",
     "output_type": "stream",
     "text": [
      "<class 'pandas.core.frame.DataFrame'>\n",
      "RangeIndex: 45211 entries, 0 to 45210\n",
      "Data columns (total 17 columns):\n",
      " #   Column     Non-Null Count  Dtype \n",
      "---  ------     --------------  ----- \n",
      " 0   age        45211 non-null  int64 \n",
      " 1   job        45211 non-null  object\n",
      " 2   marital    45211 non-null  object\n",
      " 3   education  45211 non-null  object\n",
      " 4   default    45211 non-null  object\n",
      " 5   balance    45211 non-null  int64 \n",
      " 6   housing    45211 non-null  object\n",
      " 7   loan       45211 non-null  object\n",
      " 8   contact    45211 non-null  object\n",
      " 9   day        45211 non-null  int64 \n",
      " 10  month      45211 non-null  object\n",
      " 11  duration   45211 non-null  int64 \n",
      " 12  campaign   45211 non-null  int64 \n",
      " 13  pdays      45211 non-null  int64 \n",
      " 14  previous   45211 non-null  int64 \n",
      " 15  poutcome   45211 non-null  object\n",
      " 16  y          45211 non-null  object\n",
      "dtypes: int64(7), object(10)\n",
      "memory usage: 5.9+ MB\n"
     ]
    }
   ],
   "source": [
    "data.info()"
   ]
  },
  {
   "cell_type": "code",
   "execution_count": 67,
   "metadata": {},
   "outputs": [],
   "source": [
    "# for col in ['age', 'balance', 'campaign', 'duration']:\n",
    "#     if data[col].dtype == 'int64':\n",
    "#         # Calculate IQR for detecting outliers\n",
    "#         Q1 = data[col].quantile(0.25)\n",
    "#         Q3 = data[col].quantile(0.75)\n",
    "#         IQR = Q3 - Q1\n",
    "\n",
    "#         # Define the lower and upper limits for outliers\n",
    "#         lower_limit = Q1 - 1.5 * IQR\n",
    "#         upper_limit = Q3 + 1.5 * IQR\n",
    "\n",
    "#         # Cap the values in the column to the defined limits\n",
    "#         data[col] = np.where(data[col] < lower_limit, lower_limit, data[col])\n",
    "#         data[col] = np.where(data[col] > upper_limit, upper_limit, data[col])\n",
    "\n",
    "#         # Convert the column to integer type if it originally contained integers\n",
    "    \n",
    "#         data[col] = data[col].astype(int)"
   ]
  },
  {
   "cell_type": "code",
   "execution_count": 68,
   "metadata": {},
   "outputs": [
    {
     "name": "stdout",
     "output_type": "stream",
     "text": [
      "<class 'pandas.core.frame.DataFrame'>\n",
      "RangeIndex: 45211 entries, 0 to 45210\n",
      "Data columns (total 17 columns):\n",
      " #   Column     Non-Null Count  Dtype \n",
      "---  ------     --------------  ----- \n",
      " 0   age        45211 non-null  int64 \n",
      " 1   job        45211 non-null  object\n",
      " 2   marital    45211 non-null  object\n",
      " 3   education  45211 non-null  object\n",
      " 4   default    45211 non-null  object\n",
      " 5   balance    45211 non-null  int64 \n",
      " 6   housing    45211 non-null  object\n",
      " 7   loan       45211 non-null  object\n",
      " 8   contact    45211 non-null  object\n",
      " 9   day        45211 non-null  int64 \n",
      " 10  month      45211 non-null  object\n",
      " 11  duration   45211 non-null  int64 \n",
      " 12  campaign   45211 non-null  int64 \n",
      " 13  pdays      45211 non-null  int64 \n",
      " 14  previous   45211 non-null  int64 \n",
      " 15  poutcome   45211 non-null  object\n",
      " 16  y          45211 non-null  object\n",
      "dtypes: int64(7), object(10)\n",
      "memory usage: 5.9+ MB\n"
     ]
    }
   ],
   "source": [
    "data.info()"
   ]
  },
  {
   "cell_type": "code",
   "execution_count": 69,
   "metadata": {},
   "outputs": [
    {
     "data": {
      "image/png": "[encoded data removed]",
      "text/plain": [
       "<Figure size 640x480 with 1 Axes>"
      ]
     },
     "metadata": {},
     "output_type": "display_data"
    },
    {
     "data": {
      "image/png": "[encoded data removed]",
      "text/plain": [
       "<Figure size 640x480 with 1 Axes>"
      ]
     },
     "metadata": {},
     "output_type": "display_data"
    },
    {
     "data": {
      "image/png": "[encoded data removed]",
      "text/plain": [
       "<Figure size 640x480 with 1 Axes>"
      ]
     },
     "metadata": {},
     "output_type": "display_data"
    },
    {
     "data": {
      "image/png": "[encoded data removed]",
      "text/plain": [
       "<Figure size 640x480 with 1 Axes>"
      ]
     },
     "metadata": {},
     "output_type": "display_data"
    },
    {
     "data": {
      "image/png": "[encoded data removed]",
      "text/plain": [
       "<Figure size 640x480 with 1 Axes>"
      ]
     },
     "metadata": {},
     "output_type": "display_data"
    }
   ],
   "source": [
    "\n",
    "for col in ['age', 'balance', 'campaign', 'day', 'duration']:\n",
    "    sns.boxplot(data[col])\n",
    "    plt.title(f\"Boxplot for {col}\")\n",
    "    plt.show()\n"
   ]
  },
  {
   "cell_type": "markdown",
   "metadata": {},
   "source": [
    "# Feature Engineering"
   ]
  },
  {
   "cell_type": "markdown",
   "metadata": {},
   "source": [
    "## Feature transformation"
   ]
  },
  {
   "cell_type": "markdown",
   "metadata": {},
   "source": [
    "## Encoding the data"
   ]
  },
  {
   "cell_type": "code",
   "execution_count": 70,
   "metadata": {},
   "outputs": [],
   "source": [
    "# data.info()"
   ]
  },
  {
   "cell_type": "code",
   "execution_count": 71,
   "metadata": {},
   "outputs": [],
   "source": [
    "# Binary Features\n",
    "binary_columns = ['default', 'housing', 'loan', 'y']\n",
    "\n",
    "for col in binary_columns:\n",
    "    data[col] = data[col].map({'yes': 1, 'no': 0})\n"
   ]
  },
  {
   "cell_type": "code",
   "execution_count": 72,
   "metadata": {},
   "outputs": [],
   "source": [
    "# Categorical Features\n",
    "categorical_columns = ['job', 'marital', 'education', 'contact', 'month', 'poutcome'] \n",
    "\n",
    "# for col in categorical_columns:\n",
    "#     data[col] = data[col].astype('category')\n",
    "\n",
    "data = pd.get_dummies(data, columns=categorical_columns, drop_first=True)\n",
    "\n",
    "data = data.astype('int64')\n"
   ]
  },
  {
   "cell_type": "code",
   "execution_count": 73,
   "metadata": {},
   "outputs": [
    {
     "name": "stdout",
     "output_type": "stream",
     "text": [
      "<class 'pandas.core.frame.DataFrame'>\n",
      "RangeIndex: 45211 entries, 0 to 45210\n",
      "Data columns (total 43 columns):\n",
      " #   Column               Non-Null Count  Dtype\n",
      "---  ------               --------------  -----\n",
      " 0   age                  45211 non-null  int64\n",
      " 1   default              45211 non-null  int64\n",
      " 2   balance              45211 non-null  int64\n",
      " 3   housing              45211 non-null  int64\n",
      " 4   loan                 45211 non-null  int64\n",
      " 5   day                  45211 non-null  int64\n",
      " 6   duration             45211 non-null  int64\n",
      " 7   campaign             45211 non-null  int64\n",
      " 8   pdays                45211 non-null  int64\n",
      " 9   previous             45211 non-null  int64\n",
      " 10  y                    45211 non-null  int64\n",
      " 11  job_blue-collar      45211 non-null  int64\n",
      " 12  job_entrepreneur     45211 non-null  int64\n",
      " 13  job_housemaid        45211 non-null  int64\n",
      " 14  job_management       45211 non-null  int64\n",
      " 15  job_retired          45211 non-null  int64\n",
      " 16  job_self-employed    45211 non-null  int64\n",
      " 17  job_services         45211 non-null  int64\n",
      " 18  job_student          45211 non-null  int64\n",
      " 19  job_technician       45211 non-null  int64\n",
      " 20  job_unemployed       45211 non-null  int64\n",
      " 21  job_unknown          45211 non-null  int64\n",
      " 22  marital_married      45211 non-null  int64\n",
      " 23  marital_single       45211 non-null  int64\n",
      " 24  education_secondary  45211 non-null  int64\n",
      " 25  education_tertiary   45211 non-null  int64\n",
      " 26  education_unknown    45211 non-null  int64\n",
      " 27  contact_telephone    45211 non-null  int64\n",
      " 28  contact_unknown      45211 non-null  int64\n",
      " 29  month_aug            45211 non-null  int64\n",
      " 30  month_dec            45211 non-null  int64\n",
      " 31  month_feb            45211 non-null  int64\n",
      " 32  month_jan            45211 non-null  int64\n",
      " 33  month_jul            45211 non-null  int64\n",
      " 34  month_jun            45211 non-null  int64\n",
      " 35  month_mar            45211 non-null  int64\n",
      " 36  month_may            45211 non-null  int64\n",
      " 37  month_nov            45211 non-null  int64\n",
      " 38  month_oct            45211 non-null  int64\n",
      " 39  month_sep            45211 non-null  int64\n",
      " 40  poutcome_other       45211 non-null  int64\n",
      " 41  poutcome_success     45211 non-null  int64\n",
      " 42  poutcome_unknown     45211 non-null  int64\n",
      "dtypes: int64(43)\n",
      "memory usage: 14.8 MB\n"
     ]
    }
   ],
   "source": [
    "data.info()"
   ]
  },
  {
   "cell_type": "code",
   "execution_count": 74,
   "metadata": {},
   "outputs": [],
   "source": [
    "# data.info()"
   ]
  },
  {
   "cell_type": "code",
   "execution_count": 75,
   "metadata": {},
   "outputs": [],
   "source": [
    "# data.shape"
   ]
  },
  {
   "cell_type": "code",
   "execution_count": 76,
   "metadata": {},
   "outputs": [],
   "source": [
    "# data.head()"
   ]
  },
  {
   "cell_type": "code",
   "execution_count": 77,
   "metadata": {},
   "outputs": [],
   "source": [
    "# # Save the processed DataFrame to a CSV file\n",
    "# data.to_csv(\"processed_t.csv\", index=False)  # Use index=False to avoid saving the index as a separate column"
   ]
  },
  {
   "cell_type": "markdown",
   "metadata": {},
   "source": [
    "#  Normalize/Scale Numerical Features "
   ]
  },
  {
   "cell_type": "code",
   "execution_count": 78,
   "metadata": {},
   "outputs": [],
   "source": [
    "from sklearn.preprocessing import MinMaxScaler\n",
    "\n",
    "scaler = MinMaxScaler()\n",
    "numerical_cols = ['age', 'balance', 'duration', 'campaign', 'pdays', 'previous']\n",
    "data[numerical_cols] = scaler.fit_transform(data[numerical_cols])\n"
   ]
  },
  {
   "cell_type": "code",
   "execution_count": 79,
   "metadata": {},
   "outputs": [
    {
     "data": {
      "text/html": [
       "<div>\n",
       "<style scoped>\n",
       "    .dataframe tbody tr th:only-of-type {\n",
       "        vertical-align: middle;\n",
       "    }\n",
       "\n",
       "    .dataframe tbody tr th {\n",
       "        vertical-align: top;\n",
       "    }\n",
       "\n",
       "    .dataframe thead th {\n",
       "        text-align: right;\n",
       "    }\n",
       "</style>\n",
       "<table border=\"1\" class=\"dataframe\">\n",
       "  <thead>\n",
       "    <tr style=\"text-align: right;\">\n",
       "      <th></th>\n",
       "      <th>age</th>\n",
       "      <th>default</th>\n",
       "      <th>balance</th>\n",
       "      <th>housing</th>\n",
       "      <th>loan</th>\n",
       "      <th>day</th>\n",
       "      <th>duration</th>\n",
       "      <th>campaign</th>\n",
       "      <th>pdays</th>\n",
       "      <th>previous</th>\n",
       "      <th>...</th>\n",
       "      <th>month_jul</th>\n",
       "      <th>month_jun</th>\n",
       "      <th>month_mar</th>\n",
       "      <th>month_may</th>\n",
       "      <th>month_nov</th>\n",
       "      <th>month_oct</th>\n",
       "      <th>month_sep</th>\n",
       "      <th>poutcome_other</th>\n",
       "      <th>poutcome_success</th>\n",
       "      <th>poutcome_unknown</th>\n",
       "    </tr>\n",
       "  </thead>\n",
       "  <tbody>\n",
       "    <tr>\n",
       "      <th>0</th>\n",
       "      <td>0.519481</td>\n",
       "      <td>0</td>\n",
       "      <td>0.092259</td>\n",
       "      <td>1</td>\n",
       "      <td>0</td>\n",
       "      <td>5</td>\n",
       "      <td>0.053070</td>\n",
       "      <td>0.0</td>\n",
       "      <td>0.0</td>\n",
       "      <td>0.0</td>\n",
       "      <td>...</td>\n",
       "      <td>0</td>\n",
       "      <td>0</td>\n",
       "      <td>0</td>\n",
       "      <td>1</td>\n",
       "      <td>0</td>\n",
       "      <td>0</td>\n",
       "      <td>0</td>\n",
       "      <td>0</td>\n",
       "      <td>0</td>\n",
       "      <td>1</td>\n",
       "    </tr>\n",
       "    <tr>\n",
       "      <th>1</th>\n",
       "      <td>0.337662</td>\n",
       "      <td>0</td>\n",
       "      <td>0.073067</td>\n",
       "      <td>1</td>\n",
       "      <td>0</td>\n",
       "      <td>5</td>\n",
       "      <td>0.030704</td>\n",
       "      <td>0.0</td>\n",
       "      <td>0.0</td>\n",
       "      <td>0.0</td>\n",
       "      <td>...</td>\n",
       "      <td>0</td>\n",
       "      <td>0</td>\n",
       "      <td>0</td>\n",
       "      <td>1</td>\n",
       "      <td>0</td>\n",
       "      <td>0</td>\n",
       "      <td>0</td>\n",
       "      <td>0</td>\n",
       "      <td>0</td>\n",
       "      <td>1</td>\n",
       "    </tr>\n",
       "    <tr>\n",
       "      <th>2</th>\n",
       "      <td>0.194805</td>\n",
       "      <td>0</td>\n",
       "      <td>0.072822</td>\n",
       "      <td>1</td>\n",
       "      <td>1</td>\n",
       "      <td>5</td>\n",
       "      <td>0.015453</td>\n",
       "      <td>0.0</td>\n",
       "      <td>0.0</td>\n",
       "      <td>0.0</td>\n",
       "      <td>...</td>\n",
       "      <td>0</td>\n",
       "      <td>0</td>\n",
       "      <td>0</td>\n",
       "      <td>1</td>\n",
       "      <td>0</td>\n",
       "      <td>0</td>\n",
       "      <td>0</td>\n",
       "      <td>0</td>\n",
       "      <td>0</td>\n",
       "      <td>1</td>\n",
       "    </tr>\n",
       "    <tr>\n",
       "      <th>3</th>\n",
       "      <td>0.376623</td>\n",
       "      <td>0</td>\n",
       "      <td>0.086476</td>\n",
       "      <td>1</td>\n",
       "      <td>0</td>\n",
       "      <td>5</td>\n",
       "      <td>0.018707</td>\n",
       "      <td>0.0</td>\n",
       "      <td>0.0</td>\n",
       "      <td>0.0</td>\n",
       "      <td>...</td>\n",
       "      <td>0</td>\n",
       "      <td>0</td>\n",
       "      <td>0</td>\n",
       "      <td>1</td>\n",
       "      <td>0</td>\n",
       "      <td>0</td>\n",
       "      <td>0</td>\n",
       "      <td>0</td>\n",
       "      <td>0</td>\n",
       "      <td>1</td>\n",
       "    </tr>\n",
       "    <tr>\n",
       "      <th>4</th>\n",
       "      <td>0.194805</td>\n",
       "      <td>0</td>\n",
       "      <td>0.072812</td>\n",
       "      <td>0</td>\n",
       "      <td>0</td>\n",
       "      <td>5</td>\n",
       "      <td>0.040260</td>\n",
       "      <td>0.0</td>\n",
       "      <td>0.0</td>\n",
       "      <td>0.0</td>\n",
       "      <td>...</td>\n",
       "      <td>0</td>\n",
       "      <td>0</td>\n",
       "      <td>0</td>\n",
       "      <td>1</td>\n",
       "      <td>0</td>\n",
       "      <td>0</td>\n",
       "      <td>0</td>\n",
       "      <td>0</td>\n",
       "      <td>0</td>\n",
       "      <td>1</td>\n",
       "    </tr>\n",
       "  </tbody>\n",
       "</table>\n",
       "<p>5 rows × 43 columns</p>\n",
       "</div>"
      ],
      "text/plain": [
       "        age  default   balance  housing  loan  day  duration  campaign  pdays  \\\n",
       "0  0.519481        0  0.092259        1     0    5  0.053070       0.0    0.0   \n",
       "1  0.337662        0  0.073067        1     0    5  0.030704       0.0    0.0   \n",
       "2  0.194805        0  0.072822        1     1    5  0.015453       0.0    0.0   \n",
       "3  0.376623        0  0.086476        1     0    5  0.018707       0.0    0.0   \n",
       "4  0.194805        0  0.072812        0     0    5  0.040260       0.0    0.0   \n",
       "\n",
       "   previous  ...  month_jul  month_jun  month_mar  month_may  month_nov  \\\n",
       "0       0.0  ...          0          0          0          1          0   \n",
       "1       0.0  ...          0          0          0          1          0   \n",
       "2       0.0  ...          0          0          0          1          0   \n",
       "3       0.0  ...          0          0          0          1          0   \n",
       "4       0.0  ...          0          0          0          1          0   \n",
       "\n",
       "   month_oct  month_sep  poutcome_other  poutcome_success  poutcome_unknown  \n",
       "0          0          0               0                 0                 1  \n",
       "1          0          0               0                 0                 1  \n",
       "2          0          0               0                 0                 1  \n",
       "3          0          0               0                 0                 1  \n",
       "4          0          0               0                 0                 1  \n",
       "\n",
       "[5 rows x 43 columns]"
      ]
     },
     "execution_count": 79,
     "metadata": {},
     "output_type": "execute_result"
    }
   ],
   "source": [
    "data.head()"
   ]
  },
  {
   "cell_type": "code",
   "execution_count": 149,
   "metadata": {},
   "outputs": [],
   "source": [
    "data.to_csv('preprocessed_data.csv', index=False)"
   ]
  },
  {
   "cell_type": "markdown",
   "metadata": {},
   "source": [
    "# Split the Data"
   ]
  },
  {
   "cell_type": "code",
   "execution_count": 80,
   "metadata": {},
   "outputs": [],
   "source": [
    "from sklearn.model_selection import train_test_split\n",
    "\n",
    "# Separate features and target\n",
    "X = data.drop('y', axis=1)  # Assuming 'y' is your target column\n",
    "y = data['y']\n",
    "\n",
    "# Split the dataset\n",
    "X_train, X_test, y_train, y_test = train_test_split(X, y, test_size=0.2, random_state=42, stratify=y)"
   ]
  },
  {
   "cell_type": "code",
   "execution_count": null,
   "metadata": {},
   "outputs": [],
   "source": []
  },
  {
   "cell_type": "markdown",
   "metadata": {},
   "source": [
    "# MOdel IMpementing"
   ]
  },
  {
   "cell_type": "markdown",
   "metadata": {},
   "source": [
    "## RF using scikit "
   ]
  },
  {
   "cell_type": "code",
   "execution_count": 81,
   "metadata": {},
   "outputs": [
    {
     "name": "stdout",
     "output_type": "stream",
     "text": [
      "Random Forest - Training Accuracy: 1.0\n",
      "Random Forest - Test Accuracy: 0.9054517306203693\n",
      "Random Forest - Classification Report:\n",
      "              precision    recall  f1-score   support\n",
      "\n",
      "           0       0.92      0.97      0.95      7985\n",
      "           1       0.66      0.39      0.49      1058\n",
      "\n",
      "    accuracy                           0.91      9043\n",
      "   macro avg       0.79      0.68      0.72      9043\n",
      "weighted avg       0.89      0.91      0.89      9043\n",
      "\n"
     ]
    },
    {
     "data": {
      "image/png": "[encoded data removed]",
      "text/plain": [
       "<Figure size 640x480 with 2 Axes>"
      ]
     },
     "metadata": {},
     "output_type": "display_data"
    }
   ],
   "source": [
    "from sklearn.ensemble import RandomForestClassifier\n",
    "from sklearn.metrics import accuracy_score, classification_report, confusion_matrix\n",
    "\n",
    "# Initialize the model\n",
    "rf_model = RandomForestClassifier(random_state=42)\n",
    "\n",
    "# Train the model\n",
    "rf_model.fit(X_train, y_train)\n",
    "\n",
    "# Make predictions\n",
    "rf_y_pred_train = rf_model.predict(X_train)\n",
    "rf_y_pred_test = rf_model.predict(X_test)\n",
    "\n",
    "# Evaluate\n",
    "print(\"Random Forest - Training Accuracy:\", accuracy_score(y_train, rf_y_pred_train))\n",
    "print(\"Random Forest - Test Accuracy:\", accuracy_score(y_test, rf_y_pred_test))\n",
    "\n",
    "# Classification Report\n",
    "print(\"Random Forest - Classification Report:\")\n",
    "print(classification_report(y_test, rf_y_pred_test))\n",
    "\n",
    "# Confusion Matrix\n",
    "sns.heatmap(confusion_matrix(y_test, rf_y_pred_test), annot=True, fmt='d')\n",
    "plt.title(\"Random Forest - Confusion Matrix\")\n",
    "plt.show()\n"
   ]
  },
  {
   "cell_type": "code",
   "execution_count": null,
   "metadata": {},
   "outputs": [],
   "source": []
  },
  {
   "cell_type": "markdown",
   "metadata": {},
   "source": [
    "## NN using tensorflow "
   ]
  },
  {
   "cell_type": "code",
   "execution_count": 83,
   "metadata": {},
   "outputs": [
    {
     "name": "stdout",
     "output_type": "stream",
     "text": [
      "Epoch 1/50\n"
     ]
    },
    {
     "name": "stderr",
     "output_type": "stream",
     "text": [
      "c:\\Users\\wasif\\AppData\\Local\\Programs\\Python\\Python311\\Lib\\site-packages\\keras\\src\\layers\\core\\dense.py:87: UserWarning: Do not pass an `input_shape`/`input_dim` argument to a layer. When using Sequential models, prefer using an `Input(shape)` object as the first layer in the model instead.\n",
      "  super().__init__(activity_regularizer=activity_regularizer, **kwargs)\n"
     ]
    },
    {
     "name": "stdout",
     "output_type": "stream",
     "text": [
      "\u001b[1m905/905\u001b[0m \u001b[32m━━━━━━━━━━━━━━━━━━━━\u001b[0m\u001b[37m\u001b[0m \u001b[1m2s\u001b[0m 896us/step - accuracy: 0.8895 - loss: 0.3171 - val_accuracy: 0.8960 - val_loss: 0.2547\n",
      "Epoch 2/50\n",
      "\u001b[1m905/905\u001b[0m \u001b[32m━━━━━━━━━━━━━━━━━━━━\u001b[0m\u001b[37m\u001b[0m \u001b[1m1s\u001b[0m 798us/step - accuracy: 0.8989 - loss: 0.2527 - val_accuracy: 0.9041 - val_loss: 0.2244\n",
      "Epoch 3/50\n",
      "\u001b[1m905/905\u001b[0m \u001b[32m━━━━━━━━━━━━━━━━━━━━\u001b[0m\u001b[37m\u001b[0m \u001b[1m1s\u001b[0m 783us/step - accuracy: 0.9029 - loss: 0.2280 - val_accuracy: 0.8996 - val_loss: 0.2185\n",
      "Epoch 4/50\n",
      "\u001b[1m905/905\u001b[0m \u001b[32m━━━━━━━━━━━━━━━━━━━━\u001b[0m\u001b[37m\u001b[0m \u001b[1m1s\u001b[0m 784us/step - accuracy: 0.9065 - loss: 0.2122 - val_accuracy: 0.9063 - val_loss: 0.2100\n",
      "Epoch 5/50\n",
      "\u001b[1m905/905\u001b[0m \u001b[32m━━━━━━━━━━━━━━━━━━━━\u001b[0m\u001b[37m\u001b[0m \u001b[1m1s\u001b[0m 788us/step - accuracy: 0.9043 - loss: 0.2166 - val_accuracy: 0.9016 - val_loss: 0.2271\n",
      "Epoch 6/50\n",
      "\u001b[1m905/905\u001b[0m \u001b[32m━━━━━━━━━━━━━━━━━━━━\u001b[0m\u001b[37m\u001b[0m \u001b[1m1s\u001b[0m 784us/step - accuracy: 0.9060 - loss: 0.2084 - val_accuracy: 0.9053 - val_loss: 0.2250\n",
      "Epoch 7/50\n",
      "\u001b[1m905/905\u001b[0m \u001b[32m━━━━━━━━━━━━━━━━━━━━\u001b[0m\u001b[37m\u001b[0m \u001b[1m1s\u001b[0m 770us/step - accuracy: 0.9062 - loss: 0.2096 - val_accuracy: 0.9034 - val_loss: 0.2185\n",
      "Epoch 8/50\n",
      "\u001b[1m905/905\u001b[0m \u001b[32m━━━━━━━━━━━━━━━━━━━━\u001b[0m\u001b[37m\u001b[0m \u001b[1m1s\u001b[0m 728us/step - accuracy: 0.9104 - loss: 0.1976 - val_accuracy: 0.9025 - val_loss: 0.2177\n",
      "Epoch 9/50\n",
      "\u001b[1m905/905\u001b[0m \u001b[32m━━━━━━━━━━━━━━━━━━━━\u001b[0m\u001b[37m\u001b[0m \u001b[1m1s\u001b[0m 720us/step - accuracy: 0.9054 - loss: 0.2061 - val_accuracy: 0.9035 - val_loss: 0.2114\n",
      "\u001b[1m283/283\u001b[0m \u001b[32m━━━━━━━━━━━━━━━━━━━━\u001b[0m\u001b[37m\u001b[0m \u001b[1m0s\u001b[0m 580us/step\n",
      "Neural Network - Testing Accuracy: 0.9037929890523057\n",
      "\n",
      "Classification Report (Testing):\n",
      "               precision    recall  f1-score   support\n",
      "\n",
      "           0       0.94      0.95      0.95      7985\n",
      "           1       0.60      0.52      0.56      1058\n",
      "\n",
      "    accuracy                           0.90      9043\n",
      "   macro avg       0.77      0.74      0.75      9043\n",
      "weighted avg       0.90      0.90      0.90      9043\n",
      "\n"
     ]
    }
   ],
   "source": [
    "# import tensorflow as tf\n",
    "# from tensorflow.keras.models import Sequential\n",
    "# from tensorflow.keras.layers import Dense\n",
    "# from tensorflow.keras.callbacks import EarlyStopping\n",
    "# from sklearn.metrics import accuracy_score, classification_report\n",
    "\n",
    "# # Build Neural Network Model\n",
    "# nn_model = Sequential([\n",
    "#     Dense(128, activation='relu', input_shape=(X_train.shape[1],)),\n",
    "#     Dense(64, activation='relu'),\n",
    "#     Dense(32, activation='relu'),\n",
    "#     Dense(1, activation='sigmoid')  # Binary classification\n",
    "# ])\n",
    "\n",
    "# # Compile Model\n",
    "# nn_model.compile(optimizer='adam', loss='binary_crossentropy', metrics=['accuracy'])\n",
    "\n",
    "# # Train the Model\n",
    "# early_stop = EarlyStopping(monitor='val_loss', patience=5)\n",
    "# history = nn_model.fit(X_train, y_train, validation_split=0.2, epochs=50, batch_size=32, callbacks=[early_stop], verbose=1)\n",
    "\n",
    "# # Predictions\n",
    "# nn_test_preds = (nn_model.predict(X_test) > 0.5).astype(\"int32\")\n",
    "\n",
    "# nn_ten =accuracy_score(y_test, nn_test_preds)\n",
    "\n",
    "# # Evaluation\n",
    "# print(\"Neural Network - Testing Accuracy:\", nn_ten)\n",
    "# print(\"\\nClassification Report (Testing):\\n\", classification_report(y_test, nn_test_preds))\n"
   ]
  },
  {
   "cell_type": "code",
   "execution_count": 84,
   "metadata": {},
   "outputs": [
    {
     "name": "stdout",
     "output_type": "stream",
     "text": [
      "Epoch 1/50\n"
     ]
    },
    {
     "name": "stderr",
     "output_type": "stream",
     "text": [
      "c:\\Users\\wasif\\AppData\\Local\\Programs\\Python\\Python311\\Lib\\site-packages\\keras\\src\\layers\\core\\dense.py:87: UserWarning: Do not pass an `input_shape`/`input_dim` argument to a layer. When using Sequential models, prefer using an `Input(shape)` object as the first layer in the model instead.\n",
      "  super().__init__(activity_regularizer=activity_regularizer, **kwargs)\n"
     ]
    },
    {
     "name": "stdout",
     "output_type": "stream",
     "text": [
      "\u001b[1m905/905\u001b[0m \u001b[32m━━━━━━━━━━━━━━━━━━━━\u001b[0m\u001b[37m\u001b[0m \u001b[1m1s\u001b[0m 812us/step - accuracy: 0.8888 - loss: 0.3165 - val_accuracy: 0.8955 - val_loss: 0.2460\n",
      "Epoch 2/50\n",
      "\u001b[1m905/905\u001b[0m \u001b[32m━━━━━━━━━━━━━━━━━━━━\u001b[0m\u001b[37m\u001b[0m \u001b[1m1s\u001b[0m 736us/step - accuracy: 0.9012 - loss: 0.2424 - val_accuracy: 0.9032 - val_loss: 0.2198\n",
      "Epoch 3/50\n",
      "\u001b[1m905/905\u001b[0m \u001b[32m━━━━━━━━━━━━━━━━━━━━\u001b[0m\u001b[37m\u001b[0m \u001b[1m1s\u001b[0m 729us/step - accuracy: 0.9005 - loss: 0.2233 - val_accuracy: 0.9056 - val_loss: 0.2109\n",
      "Epoch 4/50\n",
      "\u001b[1m905/905\u001b[0m \u001b[32m━━━━━━━━━━━━━━━━━━━━\u001b[0m\u001b[37m\u001b[0m \u001b[1m1s\u001b[0m 716us/step - accuracy: 0.9066 - loss: 0.2155 - val_accuracy: 0.9039 - val_loss: 0.2118\n",
      "Epoch 5/50\n",
      "\u001b[1m905/905\u001b[0m \u001b[32m━━━━━━━━━━━━━━━━━━━━\u001b[0m\u001b[37m\u001b[0m \u001b[1m1s\u001b[0m 709us/step - accuracy: 0.9060 - loss: 0.2137 - val_accuracy: 0.9072 - val_loss: 0.2104\n",
      "Epoch 6/50\n",
      "\u001b[1m905/905\u001b[0m \u001b[32m━━━━━━━━━━━━━━━━━━━━\u001b[0m\u001b[37m\u001b[0m \u001b[1m1s\u001b[0m 728us/step - accuracy: 0.9045 - loss: 0.2118 - val_accuracy: 0.9066 - val_loss: 0.2107\n",
      "Epoch 7/50\n",
      "\u001b[1m905/905\u001b[0m \u001b[32m━━━━━━━━━━━━━━━━━━━━\u001b[0m\u001b[37m\u001b[0m \u001b[1m1s\u001b[0m 717us/step - accuracy: 0.9097 - loss: 0.2058 - val_accuracy: 0.9030 - val_loss: 0.2126\n",
      "Epoch 8/50\n",
      "\u001b[1m905/905\u001b[0m \u001b[32m━━━━━━━━━━━━━━━━━━━━\u001b[0m\u001b[37m\u001b[0m \u001b[1m1s\u001b[0m 715us/step - accuracy: 0.9067 - loss: 0.2042 - val_accuracy: 0.9070 - val_loss: 0.2083\n",
      "Epoch 9/50\n",
      "\u001b[1m905/905\u001b[0m \u001b[32m━━━━━━━━━━━━━━━━━━━━\u001b[0m\u001b[37m\u001b[0m \u001b[1m1s\u001b[0m 733us/step - accuracy: 0.9071 - loss: 0.2027 - val_accuracy: 0.9064 - val_loss: 0.2088\n",
      "Epoch 10/50\n",
      "\u001b[1m905/905\u001b[0m \u001b[32m━━━━━━━━━━━━━━━━━━━━\u001b[0m\u001b[37m\u001b[0m \u001b[1m1s\u001b[0m 720us/step - accuracy: 0.9131 - loss: 0.1969 - val_accuracy: 0.9068 - val_loss: 0.2074\n",
      "Epoch 11/50\n",
      "\u001b[1m905/905\u001b[0m \u001b[32m━━━━━━━━━━━━━━━━━━━━\u001b[0m\u001b[37m\u001b[0m \u001b[1m1s\u001b[0m 716us/step - accuracy: 0.9094 - loss: 0.1977 - val_accuracy: 0.9072 - val_loss: 0.2094\n",
      "Epoch 12/50\n",
      "\u001b[1m905/905\u001b[0m \u001b[32m━━━━━━━━━━━━━━━━━━━━\u001b[0m\u001b[37m\u001b[0m \u001b[1m1s\u001b[0m 736us/step - accuracy: 0.9151 - loss: 0.1859 - val_accuracy: 0.9060 - val_loss: 0.2176\n",
      "Epoch 13/50\n",
      "\u001b[1m905/905\u001b[0m \u001b[32m━━━━━━━━━━━━━━━━━━━━\u001b[0m\u001b[37m\u001b[0m \u001b[1m1s\u001b[0m 704us/step - accuracy: 0.9133 - loss: 0.1868 - val_accuracy: 0.9070 - val_loss: 0.2096\n",
      "Epoch 14/50\n",
      "\u001b[1m905/905\u001b[0m \u001b[32m━━━━━━━━━━━━━━━━━━━━\u001b[0m\u001b[37m\u001b[0m \u001b[1m1s\u001b[0m 745us/step - accuracy: 0.9127 - loss: 0.1892 - val_accuracy: 0.9071 - val_loss: 0.2085\n",
      "Epoch 15/50\n",
      "\u001b[1m905/905\u001b[0m \u001b[32m━━━━━━━━━━━━━━━━━━━━\u001b[0m\u001b[37m\u001b[0m \u001b[1m1s\u001b[0m 712us/step - accuracy: 0.9164 - loss: 0.1826 - val_accuracy: 0.9046 - val_loss: 0.2126\n",
      "Epoch 15: early stopping\n",
      "Restoring model weights from the end of the best epoch: 10.\n",
      "\u001b[1m283/283\u001b[0m \u001b[32m━━━━━━━━━━━━━━━━━━━━\u001b[0m\u001b[37m\u001b[0m \u001b[1m0s\u001b[0m 551us/step\n",
      "Testing Accuracy: 0.9036824062811014\n",
      "\n",
      "Classification Report (Testing):\n",
      "               precision    recall  f1-score   support\n",
      "\n",
      "           0       0.93      0.96      0.95      7985\n",
      "           1       0.61      0.48      0.54      1058\n",
      "\n",
      "    accuracy                           0.90      9043\n",
      "   macro avg       0.77      0.72      0.74      9043\n",
      "weighted avg       0.90      0.90      0.90      9043\n",
      "\n"
     ]
    }
   ],
   "source": [
    "import tensorflow as tf\n",
    "from tensorflow.keras.models import Sequential\n",
    "from tensorflow.keras.layers import Dense\n",
    "from tensorflow.keras.callbacks import EarlyStopping\n",
    "from sklearn.metrics import accuracy_score, classification_report\n",
    "\n",
    "# Build Neural Network Model\n",
    "nn_model = Sequential([\n",
    "    Dense(128, activation='relu', input_shape=(X_train.shape[1],), name=\"Input_Layer\"),\n",
    "    Dense(64, activation='relu', name=\"Hidden_Layer1\"),\n",
    "    Dense(32, activation='relu', name=\"Hidden_Layer2\"),\n",
    "    Dense(1, activation='sigmoid', name=\"Output_Layer\")  # Binary classification\n",
    "])\n",
    "\n",
    "# Compile Model\n",
    "nn_model.compile(optimizer='adam', loss='binary_crossentropy', metrics=['accuracy'])\n",
    "\n",
    "# Train the Model\n",
    "early_stop = EarlyStopping(monitor='val_loss', patience=5, restore_best_weights=True, verbose=1)\n",
    "history = nn_model.fit(\n",
    "    X_train, y_train, validation_split=0.2, epochs=50, batch_size=32, callbacks=[early_stop], verbose=1\n",
    ")\n",
    "\n",
    "# Evaluate on Test Set\n",
    "nn_test_preds = (nn_model.predict(X_test) > 0.5).astype(\"int32\")\n",
    "test_accuracy = accuracy_score(y_test, nn_test_preds)\n",
    "print(\"Testing Accuracy:\", test_accuracy)\n",
    "print(\"\\nClassification Report (Testing):\\n\", classification_report(y_test, nn_test_preds))\n"
   ]
  },
  {
   "cell_type": "markdown",
   "metadata": {},
   "source": [
    "## NN using pytorch"
   ]
  },
  {
   "cell_type": "code",
   "execution_count": 85,
   "metadata": {},
   "outputs": [],
   "source": [
    "# import torch\n",
    "# import torch.nn as nn\n",
    "# import torch.optim as optim\n",
    "# from sklearn.metrics import accuracy_score, classification_report, confusion_matrix\n",
    "# from torch.utils.data import DataLoader, TensorDataset\n",
    "\n",
    "\n",
    "# # Convert DataFrames to PyTorch tensors\n",
    "# X_train_tensor = torch.tensor(X_train.values, dtype=torch.float32)\n",
    "# y_train_tensor = torch.tensor(y_train.values, dtype=torch.long)\n",
    "\n",
    "# X_test_tensor = torch.tensor(X_test.values, dtype=torch.float32)\n",
    "# y_test_tensor = torch.tensor(y_test.values, dtype=torch.long)\n",
    "\n",
    "# # Create DataLoader for batching\n",
    "# train_dataset = TensorDataset(X_train_tensor, y_train_tensor)\n",
    "# test_dataset = TensorDataset(X_test_tensor, y_test_tensor)\n",
    "\n",
    "# train_loader = DataLoader(train_dataset, batch_size=32, shuffle=True)\n",
    "# test_loader = DataLoader(test_dataset, batch_size=32, shuffle=False)\n",
    "\n",
    "\n",
    "# class NeuralNet(nn.Module):\n",
    "#     def __init__(self, input_size, hidden_size, output_size):\n",
    "#         super(NeuralNet, self).__init__()\n",
    "#         self.fc1 = nn.Linear(input_size, hidden_size)  # First hidden layer\n",
    "#         self.relu = nn.ReLU()                         # Activation function\n",
    "#         self.fc2 = nn.Linear(hidden_size, output_size) # Output layer\n",
    "\n",
    "#     def forward(self, x):\n",
    "#         x = self.fc1(x)\n",
    "#         x = self.relu(x)\n",
    "#         x = self.fc2(x)\n",
    "#         return x\n",
    "\n",
    "# # Define model parameters\n",
    "# input_size = X_train.shape[1]  # Number of features\n",
    "# hidden_size = 64               # Number of neurons in the hidden layer\n",
    "# output_size = len(y_train.unique())  # Number of output classes (binary: 2)\n",
    "\n",
    "# # Initialize the model\n",
    "# model = NeuralNet(input_size, hidden_size, output_size)\n",
    "\n",
    "# criterion = nn.CrossEntropyLoss()  # Loss function for classification\n",
    "# optimizer = optim.Adam(model.parameters(), lr=0.001)  # Adam optimizer\n",
    "\n",
    "# # Training the model\n",
    "# epochs = 20\n",
    "# model.train()\n",
    "\n",
    "# for epoch in range(epochs):\n",
    "#     epoch_loss = 0\n",
    "#     for X_batch, y_batch in train_loader:\n",
    "#         # Forward pass\n",
    "#         outputs = model(X_batch)\n",
    "#         loss = criterion(outputs, y_batch)\n",
    "\n",
    "#         # Backward pass\n",
    "#         optimizer.zero_grad()\n",
    "#         loss.backward()\n",
    "#         optimizer.step()\n",
    "\n",
    "#         epoch_loss += loss.item()\n",
    "\n",
    "#     print(f\"Epoch {epoch+1}/{epochs}, Loss: {epoch_loss/len(train_loader):.4f}\")\n",
    "\n",
    "# # Evaluation\n",
    "# model.eval()\n",
    "# y_pred = []\n",
    "# y_true = []\n",
    "\n",
    "# with torch.no_grad():\n",
    "#     for X_batch, y_batch in test_loader:\n",
    "#         outputs = model(X_batch)\n",
    "#         _, predicted = torch.max(outputs, 1)\n",
    "#         y_pred.extend(predicted.numpy())\n",
    "#         y_true.extend(y_batch.numpy())\n",
    "\n",
    "# # Metrics\n",
    "# print(\"Accuracy:\", accuracy_score(y_true, y_pred))\n",
    "# print(\"Classification Report:\")\n",
    "# print(classification_report(y_true, y_pred))\n",
    "\n",
    "# # Confusion Matrix\n",
    "# sns.heatmap(confusion_matrix(y_true, y_pred), annot=True, fmt='d', cmap='Blues')\n",
    "# plt.title(\"Confusion Matrix\")\n",
    "# plt.show()\n",
    "\n"
   ]
  },
  {
   "cell_type": "code",
   "execution_count": 86,
   "metadata": {},
   "outputs": [
    {
     "name": "stdout",
     "output_type": "stream",
     "text": [
      "Epoch 1/20, Loss: 0.3000, Accuracy: 0.8885\n",
      "Epoch 2/20, Loss: 0.2487, Accuracy: 0.8990\n",
      "Epoch 3/20, Loss: 0.2325, Accuracy: 0.9027\n",
      "Epoch 4/20, Loss: 0.2241, Accuracy: 0.9039\n",
      "Epoch 5/20, Loss: 0.2191, Accuracy: 0.9055\n",
      "Epoch 6/20, Loss: 0.2146, Accuracy: 0.9064\n",
      "Epoch 7/20, Loss: 0.2113, Accuracy: 0.9055\n",
      "Epoch 8/20, Loss: 0.2091, Accuracy: 0.9067\n",
      "Epoch 9/20, Loss: 0.2058, Accuracy: 0.9069\n",
      "Epoch 10/20, Loss: 0.2036, Accuracy: 0.9089\n",
      "Epoch 11/20, Loss: 0.2019, Accuracy: 0.9088\n",
      "Epoch 12/20, Loss: 0.2003, Accuracy: 0.9099\n",
      "Epoch 13/20, Loss: 0.1987, Accuracy: 0.9106\n",
      "Epoch 14/20, Loss: 0.1974, Accuracy: 0.9120\n",
      "Epoch 15/20, Loss: 0.1959, Accuracy: 0.9109\n",
      "Epoch 16/20, Loss: 0.1953, Accuracy: 0.9121\n",
      "Epoch 17/20, Loss: 0.1947, Accuracy: 0.9111\n",
      "Epoch 18/20, Loss: 0.1927, Accuracy: 0.9133\n",
      "Epoch 19/20, Loss: 0.1919, Accuracy: 0.9132\n",
      "Epoch 20/20, Loss: 0.1912, Accuracy: 0.9138\n"
     ]
    },
    {
     "data": {
      "image/png": "[encoded data removed]",
      "text/plain": [
       "<Figure size 640x480 with 1 Axes>"
      ]
     },
     "metadata": {},
     "output_type": "display_data"
    },
    {
     "name": "stdout",
     "output_type": "stream",
     "text": [
      "Accuracy: 0.9072210549596373\n",
      "Classification Report:\n",
      "              precision    recall  f1-score   support\n",
      "\n",
      "           0       0.93      0.96      0.95      7985\n",
      "           1       0.63      0.49      0.55      1058\n",
      "\n",
      "    accuracy                           0.91      9043\n",
      "   macro avg       0.78      0.73      0.75      9043\n",
      "weighted avg       0.90      0.91      0.90      9043\n",
      "\n"
     ]
    },
    {
     "data": {
      "image/png": "[encoded data removed]",
      "text/plain": [
       "<Figure size 800x600 with 2 Axes>"
      ]
     },
     "metadata": {},
     "output_type": "display_data"
    },
    {
     "name": "stdout",
     "output_type": "stream",
     "text": [
      "Model saved as 'neural_net_model.pth'\n"
     ]
    }
   ],
   "source": [
    "import torch\n",
    "import torch.nn as nn\n",
    "import torch.optim as optim\n",
    "from sklearn.metrics import accuracy_score, classification_report, confusion_matrix\n",
    "from torch.utils.data import DataLoader, TensorDataset\n",
    "\n",
    "# Ensure reproducibility\n",
    "torch.manual_seed(42)\n",
    "\n",
    "# Convert preprocessed DataFrames to PyTorch tensors\n",
    "X_train_tensor = torch.tensor(X_train.values, dtype=torch.float32)\n",
    "y_train_tensor = torch.tensor(y_train.values, dtype=torch.long)\n",
    "\n",
    "X_test_tensor = torch.tensor(X_test.values, dtype=torch.float32)\n",
    "y_test_tensor = torch.tensor(y_test.values, dtype=torch.long)\n",
    "\n",
    "# Device setup\n",
    "device = torch.device(\"cuda\" if torch.cuda.is_available() else \"cpu\")\n",
    "\n",
    "X_train_tensor, y_train_tensor = X_train_tensor.to(device), y_train_tensor.to(device)\n",
    "X_test_tensor, y_test_tensor = X_test_tensor.to(device), y_test_tensor.to(device)\n",
    "\n",
    "# Create DataLoader for batching\n",
    "train_dataset = TensorDataset(X_train_tensor, y_train_tensor)\n",
    "test_dataset = TensorDataset(X_test_tensor, y_test_tensor)\n",
    "\n",
    "train_loader = DataLoader(train_dataset, batch_size=32, shuffle=True)\n",
    "test_loader = DataLoader(test_dataset, batch_size=32, shuffle=False)\n",
    "\n",
    "# Neural Network Model\n",
    "class NeuralNet(nn.Module):\n",
    "    def __init__(self, input_size, hidden_size, output_size):\n",
    "        super(NeuralNet, self).__init__()\n",
    "        self.fc1 = nn.Linear(input_size, hidden_size)  # First hidden layer\n",
    "        self.relu = nn.ReLU()                         # Activation function\n",
    "        self.fc2 = nn.Linear(hidden_size, output_size) # Output layer\n",
    "\n",
    "    def forward(self, x):\n",
    "        x = self.fc1(x)\n",
    "        x = self.relu(x)\n",
    "        x = self.fc2(x)\n",
    "        return x\n",
    "\n",
    "# Define model parameters\n",
    "input_size = X_train.shape[1]  # Number of features\n",
    "hidden_size = 64               # Number of neurons in the hidden layer\n",
    "output_size = len(y_train.unique())  # Number of output classes\n",
    "\n",
    "# Initialize the model\n",
    "model = NeuralNet(input_size, hidden_size, output_size).to(device)\n",
    "criterion = nn.CrossEntropyLoss()  # Loss function for classification\n",
    "optimizer = optim.Adam(model.parameters(), lr=0.001)  # Adam optimizer\n",
    "\n",
    "# Training the model\n",
    "epochs = 20\n",
    "losses = []\n",
    "\n",
    "for epoch in range(epochs):\n",
    "    model.train()\n",
    "    epoch_loss = 0\n",
    "    correct = 0\n",
    "    total = 0\n",
    "    for X_batch, y_batch in train_loader:\n",
    "        X_batch, y_batch = X_batch.to(device), y_batch.to(device)\n",
    "        # Forward pass\n",
    "        outputs = model(X_batch)\n",
    "        loss = criterion(outputs, y_batch)\n",
    "\n",
    "        # Backward pass\n",
    "        optimizer.zero_grad()\n",
    "        loss.backward()\n",
    "        optimizer.step()\n",
    "\n",
    "        epoch_loss += loss.item()\n",
    "        _, predicted = torch.max(outputs, 1)\n",
    "        correct += (predicted == y_batch).sum().item()\n",
    "        total += y_batch.size(0)\n",
    "\n",
    "    epoch_accuracy = correct / total\n",
    "    losses.append(epoch_loss / len(train_loader))\n",
    "    print(f\"Epoch {epoch+1}/{epochs}, Loss: {epoch_loss / len(train_loader):.4f}, Accuracy: {epoch_accuracy:.4f}\")\n",
    "\n",
    "# Plot training loss\n",
    "plt.plot(range(1, epochs + 1), losses, marker='o')\n",
    "plt.title(\"Training Loss\")\n",
    "plt.xlabel(\"Epoch\")\n",
    "plt.ylabel(\"Loss\")\n",
    "plt.grid()\n",
    "plt.show()\n",
    "\n",
    "# Evaluation\n",
    "model.eval()\n",
    "y_pred = []\n",
    "y_true = []\n",
    "\n",
    "with torch.no_grad():\n",
    "    for X_batch, y_batch in test_loader:\n",
    "        X_batch, y_batch = X_batch.to(device), y_batch.to(device)\n",
    "        outputs = model(X_batch)\n",
    "        _, predicted = torch.max(outputs, 1)\n",
    "        y_pred.extend(predicted.cpu().numpy())\n",
    "        y_true.extend(y_batch.cpu().numpy())\n",
    "\n",
    "# Metrics\n",
    "print(\"Accuracy:\", accuracy_score(y_true, y_pred))\n",
    "print(\"Classification Report:\")\n",
    "print(classification_report(y_true, y_pred))\n",
    "\n",
    "# Confusion Matrix\n",
    "plt.figure(figsize=(8, 6))\n",
    "sns.heatmap(confusion_matrix(y_true, y_pred), annot=True, fmt='d', cmap='Blues')\n",
    "plt.title(\"Confusion Matrix\")\n",
    "plt.xlabel(\"Predicted Labels\")\n",
    "plt.ylabel(\"True Labels\")\n",
    "plt.show()\n",
    "\n",
    "# # Save the model\n",
    "# torch.save(model.state_dict(), 'neural_net_model.pth')\n",
    "# print(\"Model saved as 'neural_net_model.pth'\")\n"
   ]
  },
  {
   "cell_type": "markdown",
   "metadata": {},
   "source": [
    "# Evaluation"
   ]
  },
  {
   "cell_type": "code",
   "execution_count": 87,
   "metadata": {},
   "outputs": [
    {
     "name": "stdout",
     "output_type": "stream",
     "text": [
      "Random Forest Accuracy: 0.9055\n",
      "Neural Network Accuracy (PyTorch): 0.9072\n",
      "Neural Network Accuracy (TensorFlow): 0.9037\n"
     ]
    }
   ],
   "source": [
    "from sklearn.metrics import accuracy_score, classification_report\n",
    "\n",
    "# Assuming you already have these variables\n",
    "# rf_y_pred_test: Predicted labels from Random Forest\n",
    "# nn_y_pred_test_pytorch: Predicted labels from PyTorch Neural Network (y_pred)\n",
    "# nn_y_pred_test_tensorflow: Predicted labels from TensorFlow Neural Network (nn_test_preds)\n",
    "# y_test: True labels (ground truth)\n",
    "\n",
    "# Calculate accuracies using the predicted labels\n",
    "rf_accuracy = accuracy_score(y_test, rf_y_pred_test)  # Random Forest Accuracy\n",
    "nn_accuracy = accuracy_score(y_test, y_pred)  # Neural Network Accuracy (PyTorch)\n",
    "nn_ten_accuracy = accuracy_score(y_test, nn_test_preds)  # Neural Network Accuracy (TensorFlow)\n",
    "\n",
    "# Printing the accuracies\n",
    "print(f\"Random Forest Accuracy: {rf_accuracy:.4f}\")\n",
    "print(f\"Neural Network Accuracy (PyTorch): {nn_accuracy:.4f}\")\n",
    "print(f\"Neural Network Accuracy (TensorFlow): {nn_ten_accuracy:.4f}\")\n"
   ]
  },
  {
   "cell_type": "code",
   "execution_count": 88,
   "metadata": {},
   "outputs": [],
   "source": [
    "# # Compare Accuracies\n",
    "# rf_accuracy = accuracy_score(y_test, rf_y_pred_test)  # Corrected variable\n",
    "# nn_accuracy = accuracy_score(y_true, y_pred)\n",
    "\n",
    "# print(f\"Random Forest Accuracy: {rf_accuracy:.4f}\")\n",
    "# print(f\"Neural Network Accuracy Pytorch: {nn_accuracy:.4f}\")\n",
    "# print(f\"Neural Network Accuracy tensorflow: {nn_ten:.4f}\")\n",
    "\n",
    "# if nn_accuracy > rf_accuracy:\n",
    "#     print(\"Neural Network performs better.\")\n",
    "# elif rf_accuracy > nn_accuracy:\n",
    "#     print(\"Random Forest performs better.\")\n",
    "# else:\n",
    "#     print(\"Both models perform equally well.\")\n"
   ]
  },
  {
   "cell_type": "code",
   "execution_count": 89,
   "metadata": {},
   "outputs": [
    {
     "data": {
      "image/png": "[encoded data removed]",
      "text/plain": [
       "<Figure size 640x480 with 1 Axes>"
      ]
     },
     "metadata": {},
     "output_type": "display_data"
    }
   ],
   "source": [
    "import matplotlib.pyplot as plt\n",
    "\n",
    "# List of model names and their corresponding accuracies\n",
    "model_names = ['Random Forest', 'Neural Network (PyTorch)', 'Neural Network (TensorFlow)']\n",
    "accuracies = [rf_accuracy, nn_accuracy, nn_ten_accuracy]\n",
    "\n",
    "# Create the bar chart\n",
    "plt.bar(model_names, accuracies, color=['blue', 'orange', 'green'])\n",
    "\n",
    "# Set the y-axis limit to range from 0 to 1 (accuracy is between 0 and 1)\n",
    "plt.ylim(0, 1)\n",
    "\n",
    "# Add labels and title\n",
    "plt.ylabel('Accuracy')\n",
    "plt.title('Model Accuracy Comparison')\n",
    "\n",
    "# Display the bar chart\n",
    "plt.show()\n"
   ]
  },
  {
   "cell_type": "code",
   "execution_count": 90,
   "metadata": {},
   "outputs": [],
   "source": [
    "# # Bar Chart for Accuracy Comparison\n",
    "# model_names = ['Random Forest', 'Neural Network']\n",
    "# accuracies = [rf_accuracy, nn_accuracy]\n",
    "\n",
    "# plt.bar(model_names, accuracies, color=['blue', 'orange'])\n",
    "# plt.ylim(0, 1)\n",
    "# plt.ylabel('Accuracy')\n",
    "# plt.title('Model Accuracy Comparison')\n",
    "# plt.show()\n"
   ]
  },
  {
   "cell_type": "markdown",
   "metadata": {},
   "source": [
    "# Tunning"
   ]
  },
  {
   "cell_type": "markdown",
   "metadata": {},
   "source": [
    "#### RF tunning"
   ]
  },
  {
   "cell_type": "code",
   "execution_count": 92,
   "metadata": {},
   "outputs": [],
   "source": [
    "# from sklearn.ensemble import RandomForestClassifier\n",
    "# from sklearn.model_selection import GridSearchCV\n",
    "\n",
    "# # Define parameter grid\n",
    "# param_grid = {\n",
    "#     'n_estimators': [100, 200, 500],\n",
    "#     'max_depth': [10, 20, None],\n",
    "#     'min_samples_split': [2, 5, 10],\n",
    "#     'min_samples_leaf': [1, 2, 4],\n",
    "#     'max_features': ['sqrt', 'log2', None],\n",
    "#     'bootstrap': [True, False]\n",
    "# }\n",
    "\n",
    "# # Initialize model\n",
    "# rf = RandomForestClassifier(random_state=42)\n",
    "\n",
    "# # Grid search\n",
    "# grid_search = GridSearchCV(estimator=rf, param_grid=param_grid, cv=5, scoring='accuracy', n_jobs=-1)\n",
    "# grid_search.fit(X_train, y_train)\n",
    "\n",
    "# # Best parameters and score\n",
    "# print(\"Best Parameters:\", grid_search.best_params_)\n",
    "# print(\"Best Accuracy:\", grid_search.best_score_)\n"
   ]
  },
  {
   "cell_type": "code",
   "execution_count": 94,
   "metadata": {},
   "outputs": [
    {
     "name": "stdout",
     "output_type": "stream",
     "text": [
      "Best Parameters: {'max_depth': 20, 'max_features': None, 'min_samples_leaf': 4, 'min_samples_split': 10, 'n_estimators': 500}\n",
      "Best Cross-Validated Accuracy: 0.9065197254878982\n",
      "Random Forest - Test Accuracy after Tuning: 0.9064469755612076\n",
      "Random Forest - Classification Report after Tuning:\n",
      "              precision    recall  f1-score   support\n",
      "\n",
      "           0       0.93      0.97      0.95      7985\n",
      "           1       0.64      0.45      0.53      1058\n",
      "\n",
      "    accuracy                           0.91      9043\n",
      "   macro avg       0.79      0.71      0.74      9043\n",
      "weighted avg       0.90      0.91      0.90      9043\n",
      "\n"
     ]
    }
   ],
   "source": [
    "# from sklearn.ensemble import RandomForestClassifier\n",
    "# from sklearn.model_selection import GridSearchCV\n",
    "# from sklearn.metrics import accuracy_score, classification_report\n",
    "\n",
    "# # Define the parameter grid\n",
    "# param_grid = {\n",
    "#     'n_estimators': [100, 200, 500],\n",
    "#     'max_depth': [10, 20, None],\n",
    "#     'min_samples_split': [2, 5, 10],\n",
    "#     'min_samples_leaf': [1, 2, 4],\n",
    "#     'max_features': ['sqrt', 'log2', None],\n",
    "#     # 'bootstrap': [True, False]\n",
    "# }\n",
    "\n",
    "# # Initialize the Random Forest Classifier\n",
    "# rf = RandomForestClassifier(random_state=42)\n",
    "\n",
    "# # Perform Grid Search with 5-fold cross-validation\n",
    "# grid_search = GridSearchCV(estimator=rf, param_grid=param_grid, cv=5, n_jobs=-1, scoring='accuracy')\n",
    "# grid_search.fit(X_train, y_train)\n",
    "\n",
    "# # Best hyperparameters and cross-validated accuracy\n",
    "# print(\"Best Parameters:\", grid_search.best_params_)\n",
    "# print(\"Best Cross-Validated Accuracy:\", grid_search.best_score_)\n",
    "\n",
    "# # Use the best model to predict on the test set\n",
    "# best_rf_model = grid_search.best_estimator_\n",
    "# rf_y_pred_test = best_rf_model.predict(X_test)\n",
    "\n",
    "# rf_accuracy_tuned = accuracy_score(y_test, rf_y_pred_test)\n",
    "\n",
    "# # Evaluate on the test set\n",
    "# print(\"Random Forest - Test Accuracy after Tuning:\", rf_accuracy_tuned)\n",
    "# print(\"Random Forest - Classification Report after Tuning:\")\n",
    "# print(classification_report(y_test, rf_y_pred_test))\n"
   ]
  },
  {
   "cell_type": "code",
   "execution_count": 154,
   "metadata": {},
   "outputs": [
    {
     "name": "stdout",
     "output_type": "stream",
     "text": [
      "Best Parameters: {'max_depth': 30, 'max_features': 'sqrt', 'min_samples_leaf': 1, 'min_samples_split': 10, 'n_estimators': 200}\n",
      "Best Cross-Validated Accuracy: 0.906381477913509\n",
      "Random Forest - Test Accuracy after Tuning: 0.9068893066460245\n",
      "Random Forest - Classification Report after Tuning:\n",
      "              precision    recall  f1-score   support\n",
      "\n",
      "           0       0.92      0.98      0.95      7985\n",
      "           1       0.68      0.39      0.49      1058\n",
      "\n",
      "    accuracy                           0.91      9043\n",
      "   macro avg       0.80      0.68      0.72      9043\n",
      "weighted avg       0.89      0.91      0.90      9043\n",
      "\n"
     ]
    }
   ],
   "source": [
    "from sklearn.ensemble import RandomForestClassifier\n",
    "from sklearn.model_selection import GridSearchCV\n",
    "from sklearn.metrics import accuracy_score, classification_report\n",
    "\n",
    "# Define the parameter grid\n",
    "param_grid = {\n",
    "    'n_estimators': [100, 200, 300],\n",
    "    'max_depth': [10, 20, 30],\n",
    "    'min_samples_split': [2, 5, 10],\n",
    "    'min_samples_leaf': [1, 2, 4],\n",
    "    'max_features': ['sqrt', 'log2', None],\n",
    "    # 'bootstrap': [True, False]\n",
    "}\n",
    "\n",
    "# Initialize the Random Forest Classifier\n",
    "rf = RandomForestClassifier(random_state=42)\n",
    "\n",
    "# Perform Grid Search with 5-fold cross-validation\n",
    "grid_search = GridSearchCV(estimator=rf, param_grid=param_grid, cv=5, n_jobs=-1, scoring='accuracy')\n",
    "grid_search.fit(X_train, y_train)\n",
    "\n",
    "# Best hyperparameters and cross-validated accuracy\n",
    "print(\"Best Parameters:\", grid_search.best_params_)\n",
    "print(\"Best Cross-Validated Accuracy:\", grid_search.best_score_)\n",
    "\n",
    "# Use the best model to predict on the test set\n",
    "best_rf_model = grid_search.best_estimator_\n",
    "rf_y_pred_test = best_rf_model.predict(X_test)\n",
    "\n",
    "rf_accuracy_tuned = accuracy_score(y_test, rf_y_pred_test)\n",
    "\n",
    "# Evaluate on the test set\n",
    "print(\"Random Forest - Test Accuracy after Tuning:\", rf_accuracy_tuned)\n",
    "print(\"Random Forest - Classification Report after Tuning:\")\n",
    "print(classification_report(y_test, rf_y_pred_test))\n"
   ]
  },
  {
   "cell_type": "code",
   "execution_count": 155,
   "metadata": {},
   "outputs": [
    {
     "name": "stdout",
     "output_type": "stream",
     "text": [
      "Random Forest - Training Accuracy after Tuning: 0.9661855784118558\n"
     ]
    }
   ],
   "source": [
    "# Calculate training accuracy\n",
    "rf_y_pred_train = best_rf_model.predict(X_train)\n",
    "\n",
    "# Evaluate on the training set\n",
    "rf_accuracy_train = accuracy_score(y_train, rf_y_pred_train)\n",
    "\n",
    "print(\"Random Forest - Training Accuracy after Tuning:\", rf_accuracy_train)\n"
   ]
  },
  {
   "cell_type": "markdown",
   "metadata": {},
   "source": [
    "#### tenorflow"
   ]
  },
  {
   "cell_type": "code",
   "execution_count": 128,
   "metadata": {},
   "outputs": [
    {
     "name": "stdout",
     "output_type": "stream",
     "text": [
      "Reloading Tuner from hyper_tuning\\nn_tuning\\tuner0.json\n",
      "\n",
      "The optimal number of units in the input layer is 224.\n",
      "The optimal number of hidden layers is 1.\n",
      "The optimal learning rate is 0.001.\n",
      "\n",
      "Epoch 1/50\n"
     ]
    },
    {
     "name": "stderr",
     "output_type": "stream",
     "text": [
      "c:\\Users\\wasif\\AppData\\Local\\Programs\\Python\\Python311\\Lib\\site-packages\\keras\\src\\layers\\core\\dense.py:87: UserWarning: Do not pass an `input_shape`/`input_dim` argument to a layer. When using Sequential models, prefer using an `Input(shape)` object as the first layer in the model instead.\n",
      "  super().__init__(activity_regularizer=activity_regularizer, **kwargs)\n"
     ]
    },
    {
     "name": "stdout",
     "output_type": "stream",
     "text": [
      "\u001b[1m905/905\u001b[0m \u001b[32m━━━━━━━━━━━━━━━━━━━━\u001b[0m\u001b[37m\u001b[0m \u001b[1m2s\u001b[0m 914us/step - accuracy: 0.8858 - loss: 0.3235 - val_accuracy: 0.8958 - val_loss: 0.2707\n",
      "Epoch 2/50\n",
      "\u001b[1m905/905\u001b[0m \u001b[32m━━━━━━━━━━━━━━━━━━━━\u001b[0m\u001b[37m\u001b[0m \u001b[1m1s\u001b[0m 715us/step - accuracy: 0.9010 - loss: 0.2419 - val_accuracy: 0.9027 - val_loss: 0.2233\n",
      "Epoch 3/50\n",
      "\u001b[1m905/905\u001b[0m \u001b[32m━━━━━━━━━━━━━━━━━━━━\u001b[0m\u001b[37m\u001b[0m \u001b[1m1s\u001b[0m 711us/step - accuracy: 0.9025 - loss: 0.2273 - val_accuracy: 0.9068 - val_loss: 0.2170\n",
      "Epoch 4/50\n",
      "\u001b[1m905/905\u001b[0m \u001b[32m━━━━━━━━━━━━━━━━━━━━\u001b[0m\u001b[37m\u001b[0m \u001b[1m1s\u001b[0m 738us/step - accuracy: 0.9027 - loss: 0.2213 - val_accuracy: 0.9085 - val_loss: 0.2092\n",
      "Epoch 5/50\n",
      "\u001b[1m905/905\u001b[0m \u001b[32m━━━━━━━━━━━━━━━━━━━━\u001b[0m\u001b[37m\u001b[0m \u001b[1m1s\u001b[0m 716us/step - accuracy: 0.9051 - loss: 0.2083 - val_accuracy: 0.9036 - val_loss: 0.2152\n",
      "Epoch 6/50\n",
      "\u001b[1m905/905\u001b[0m \u001b[32m━━━━━━━━━━━━━━━━━━━━\u001b[0m\u001b[37m\u001b[0m \u001b[1m1s\u001b[0m 711us/step - accuracy: 0.9050 - loss: 0.2132 - val_accuracy: 0.9061 - val_loss: 0.2175\n",
      "Epoch 7/50\n",
      "\u001b[1m905/905\u001b[0m \u001b[32m━━━━━━━━━━━━━━━━━━━━\u001b[0m\u001b[37m\u001b[0m \u001b[1m1s\u001b[0m 741us/step - accuracy: 0.9068 - loss: 0.2074 - val_accuracy: 0.9083 - val_loss: 0.2096\n",
      "Epoch 8/50\n",
      "\u001b[1m905/905\u001b[0m \u001b[32m━━━━━━━━━━━━━━━━━━━━\u001b[0m\u001b[37m\u001b[0m \u001b[1m1s\u001b[0m 731us/step - accuracy: 0.9103 - loss: 0.1987 - val_accuracy: 0.9075 - val_loss: 0.2091\n",
      "Epoch 9/50\n",
      "\u001b[1m905/905\u001b[0m \u001b[32m━━━━━━━━━━━━━━━━━━━━\u001b[0m\u001b[37m\u001b[0m \u001b[1m1s\u001b[0m 706us/step - accuracy: 0.9117 - loss: 0.1952 - val_accuracy: 0.9064 - val_loss: 0.2059\n",
      "Epoch 10/50\n",
      "\u001b[1m905/905\u001b[0m \u001b[32m━━━━━━━━━━━━━━━━━━━━\u001b[0m\u001b[37m\u001b[0m \u001b[1m1s\u001b[0m 769us/step - accuracy: 0.9116 - loss: 0.1955 - val_accuracy: 0.9057 - val_loss: 0.2075\n",
      "Epoch 11/50\n",
      "\u001b[1m905/905\u001b[0m \u001b[32m━━━━━━━━━━━━━━━━━━━━\u001b[0m\u001b[37m\u001b[0m \u001b[1m1s\u001b[0m 711us/step - accuracy: 0.9123 - loss: 0.1908 - val_accuracy: 0.9038 - val_loss: 0.2115\n",
      "Epoch 12/50\n",
      "\u001b[1m905/905\u001b[0m \u001b[32m━━━━━━━━━━━━━━━━━━━━\u001b[0m\u001b[37m\u001b[0m \u001b[1m1s\u001b[0m 722us/step - accuracy: 0.9122 - loss: 0.1935 - val_accuracy: 0.8851 - val_loss: 0.2444\n",
      "Epoch 13/50\n",
      "\u001b[1m905/905\u001b[0m \u001b[32m━━━━━━━━━━━━━━━━━━━━\u001b[0m\u001b[37m\u001b[0m \u001b[1m1s\u001b[0m 745us/step - accuracy: 0.9101 - loss: 0.1939 - val_accuracy: 0.9064 - val_loss: 0.2078\n",
      "Epoch 14/50\n",
      "\u001b[1m905/905\u001b[0m \u001b[32m━━━━━━━━━━━━━━━━━━━━\u001b[0m\u001b[37m\u001b[0m \u001b[1m1s\u001b[0m 709us/step - accuracy: 0.9149 - loss: 0.1897 - val_accuracy: 0.9070 - val_loss: 0.2095\n",
      "Epoch 14: early stopping\n",
      "Restoring model weights from the end of the best epoch: 9.\n",
      "\u001b[1m283/283\u001b[0m \u001b[32m━━━━━━━━━━━━━━━━━━━━\u001b[0m\u001b[37m\u001b[0m \u001b[1m0s\u001b[0m 559us/step\n",
      "Testing Accuracy after Tuning: 0.9056728961627778\n",
      "\n",
      "Classification Report (Testing):\n",
      "               precision    recall  f1-score   support\n",
      "\n",
      "           0       0.93      0.96      0.95      7985\n",
      "           1       0.62      0.50      0.55      1058\n",
      "\n",
      "    accuracy                           0.91      9043\n",
      "   macro avg       0.78      0.73      0.75      9043\n",
      "weighted avg       0.90      0.91      0.90      9043\n",
      "\n"
     ]
    }
   ],
   "source": [
    "import tensorflow as tf\n",
    "from tensorflow.keras.models import Sequential\n",
    "from tensorflow.keras.layers import Dense\n",
    "from tensorflow.keras.callbacks import EarlyStopping\n",
    "from sklearn.metrics import accuracy_score, classification_report\n",
    "import keras_tuner as kt  # Import Keras Tuner\n",
    "\n",
    "# Define the model builder function for hyperparameter tuning\n",
    "def build_model(hp):\n",
    "    model = Sequential()\n",
    "    # Input Layer\n",
    "    model.add(Dense(units=hp.Int('units_input', min_value=64, max_value=256, step=32), \n",
    "                    activation='relu', input_shape=(X_train.shape[1],), name=\"Input_Layer\"))\n",
    "    # Hidden Layers\n",
    "    for i in range(hp.Int('num_hidden_layers', 1, 3)):  # 1 to 3 hidden layers\n",
    "        model.add(Dense(units=hp.Int(f'units_{i}', min_value=32, max_value=128, step=16), \n",
    "                        activation='relu', name=f\"Hidden_Layer{i+1}\"))\n",
    "    # Output Layer\n",
    "    model.add(Dense(1, activation='sigmoid', name=\"Output_Layer\"))\n",
    "\n",
    "    # Compile the model\n",
    "    model.compile(\n",
    "        optimizer=tf.keras.optimizers.Adam(learning_rate=hp.Choice('learning_rate', values=[1e-3, 1e-4, 1e-5])),\n",
    "        loss='binary_crossentropy',\n",
    "        metrics=['accuracy']\n",
    "    )\n",
    "    return model\n",
    "\n",
    "# Initialize the tuner\n",
    "tuner = kt.RandomSearch(\n",
    "    build_model,\n",
    "    objective='val_accuracy',\n",
    "    max_trials=10,  # Number of hyperparameter combinations to try\n",
    "    executions_per_trial=2,  # Number of models to train for each trial\n",
    "    directory='hyper_tuning',\n",
    "    project_name='nn_tuning'\n",
    ")\n",
    "\n",
    "# Early stopping to prevent overfitting\n",
    "early_stop = EarlyStopping(monitor='val_loss', patience=5, restore_best_weights=True, verbose=1)\n",
    "\n",
    "# Perform the search\n",
    "tuner.search(X_train, y_train, validation_split=0.2, epochs=50, batch_size=32, callbacks=[early_stop])\n",
    "\n",
    "# Get the best hyperparameters\n",
    "best_hps = tuner.get_best_hyperparameters(num_trials=1)[0]\n",
    "\n",
    "print(f\"\"\"\n",
    "The optimal number of units in the input layer is {best_hps.get('units_input')}.\n",
    "The optimal number of hidden layers is {best_hps.get('num_hidden_layers')}.\n",
    "The optimal learning rate is {best_hps.get('learning_rate')}.\n",
    "\"\"\")\n",
    "\n",
    "# Train the best model\n",
    "best_model = tuner.hypermodel.build(best_hps)\n",
    "history = best_model.fit(X_train, y_train, validation_split=0.2, epochs=50, batch_size=32, callbacks=[early_stop])\n",
    "\n",
    "# Evaluate the tuned model on the test set\n",
    "nn_test_preds = (best_model.predict(X_test) > 0.5).astype(\"int32\")\n",
    "nn_tenorflow_test_accuracy = accuracy_score(y_test, nn_test_preds)\n",
    "print(\"Testing Accuracy after Tuning:\", nn_tenorflow_test_accuracy)\n",
    "print(\"\\nClassification Report (Testing):\\n\", classification_report(y_test, nn_test_preds))\n",
    "\n",
    "\n"
   ]
  },
  {
   "cell_type": "markdown",
   "metadata": {},
   "source": [
    "#### NN tunnung "
   ]
  },
  {
   "cell_type": "code",
   "execution_count": 98,
   "metadata": {},
   "outputs": [
    {
     "name": "stdout",
     "output_type": "stream",
     "text": [
      "Using device: cuda\n",
      "Epoch 1/20, Loss: 0.2955\n",
      "Epoch 2/20, Loss: 0.2442\n",
      "Epoch 3/20, Loss: 0.2293\n",
      "Epoch 4/20, Loss: 0.2220\n",
      "Epoch 5/20, Loss: 0.2174\n",
      "Epoch 6/20, Loss: 0.2134\n",
      "Epoch 7/20, Loss: 0.2110\n",
      "Epoch 8/20, Loss: 0.2084\n",
      "Epoch 9/20, Loss: 0.2078\n",
      "Epoch 10/20, Loss: 0.2065\n",
      "Epoch 11/20, Loss: 0.2051\n",
      "Epoch 12/20, Loss: 0.2041\n",
      "Epoch 13/20, Loss: 0.2029\n",
      "Epoch 14/20, Loss: 0.2019\n",
      "Epoch 15/20, Loss: 0.2010\n",
      "Epoch 16/20, Loss: 0.2004\n",
      "Epoch 17/20, Loss: 0.2006\n",
      "Epoch 18/20, Loss: 0.1991\n",
      "Epoch 19/20, Loss: 0.1981\n",
      "Epoch 20/20, Loss: 0.1977\n",
      "Hidden Size: 32, LR: 0.001, Batch Size: 16, Accuracy: 0.9031\n",
      "Epoch 1/20, Loss: 0.3079\n",
      "Epoch 2/20, Loss: 0.2565\n",
      "Epoch 3/20, Loss: 0.2376\n",
      "Epoch 4/20, Loss: 0.2297\n",
      "Epoch 5/20, Loss: 0.2234\n",
      "Epoch 6/20, Loss: 0.2196\n",
      "Epoch 7/20, Loss: 0.2156\n",
      "Epoch 8/20, Loss: 0.2130\n",
      "Epoch 9/20, Loss: 0.2114\n",
      "Epoch 10/20, Loss: 0.2095\n",
      "Epoch 11/20, Loss: 0.2076\n",
      "Epoch 12/20, Loss: 0.2058\n",
      "Epoch 13/20, Loss: 0.2051\n",
      "Epoch 14/20, Loss: 0.2036\n",
      "Epoch 15/20, Loss: 0.2018\n",
      "Epoch 16/20, Loss: 0.2013\n",
      "Epoch 17/20, Loss: 0.2004\n",
      "Epoch 18/20, Loss: 0.1995\n",
      "Epoch 19/20, Loss: 0.1993\n",
      "Epoch 20/20, Loss: 0.1980\n",
      "Hidden Size: 32, LR: 0.001, Batch Size: 32, Accuracy: 0.9090\n",
      "Epoch 1/20, Loss: 0.3203\n",
      "Epoch 2/20, Loss: 0.2757\n",
      "Epoch 3/20, Loss: 0.2524\n",
      "Epoch 4/20, Loss: 0.2374\n",
      "Epoch 5/20, Loss: 0.2294\n",
      "Epoch 6/20, Loss: 0.2243\n",
      "Epoch 7/20, Loss: 0.2213\n",
      "Epoch 8/20, Loss: 0.2177\n",
      "Epoch 9/20, Loss: 0.2146\n",
      "Epoch 10/20, Loss: 0.2133\n",
      "Epoch 11/20, Loss: 0.2110\n",
      "Epoch 12/20, Loss: 0.2093\n",
      "Epoch 13/20, Loss: 0.2083\n",
      "Epoch 14/20, Loss: 0.2065\n",
      "Epoch 15/20, Loss: 0.2061\n",
      "Epoch 16/20, Loss: 0.2046\n",
      "Epoch 17/20, Loss: 0.2036\n",
      "Epoch 18/20, Loss: 0.2026\n",
      "Epoch 19/20, Loss: 0.2027\n",
      "Epoch 20/20, Loss: 0.2011\n",
      "Hidden Size: 32, LR: 0.001, Batch Size: 64, Accuracy: 0.9060\n",
      "Epoch 1/20, Loss: 0.2683\n",
      "Epoch 2/20, Loss: 0.2348\n",
      "Epoch 3/20, Loss: 0.2258\n",
      "Epoch 4/20, Loss: 0.2216\n",
      "Epoch 5/20, Loss: 0.2206\n",
      "Epoch 6/20, Loss: 0.2198\n",
      "Epoch 7/20, Loss: 0.2169\n",
      "Epoch 8/20, Loss: 0.2155\n",
      "Epoch 9/20, Loss: 0.2149\n",
      "Epoch 10/20, Loss: 0.2149\n",
      "Epoch 11/20, Loss: 0.2137\n",
      "Epoch 12/20, Loss: 0.2127\n",
      "Epoch 13/20, Loss: 0.2132\n",
      "Epoch 14/20, Loss: 0.2124\n",
      "Epoch 15/20, Loss: 0.2116\n",
      "Epoch 16/20, Loss: 0.2102\n",
      "Epoch 17/20, Loss: 0.2107\n",
      "Epoch 18/20, Loss: 0.2108\n",
      "Epoch 19/20, Loss: 0.2102\n",
      "Epoch 20/20, Loss: 0.2102\n",
      "Hidden Size: 32, LR: 0.01, Batch Size: 16, Accuracy: 0.9045\n",
      "Epoch 1/20, Loss: 0.2646\n",
      "Epoch 2/20, Loss: 0.2324\n",
      "Epoch 3/20, Loss: 0.2260\n",
      "Epoch 4/20, Loss: 0.2220\n",
      "Epoch 5/20, Loss: 0.2173\n",
      "Epoch 6/20, Loss: 0.2159\n",
      "Epoch 7/20, Loss: 0.2144\n",
      "Epoch 8/20, Loss: 0.2124\n",
      "Epoch 9/20, Loss: 0.2103\n",
      "Epoch 10/20, Loss: 0.2111\n",
      "Epoch 11/20, Loss: 0.2084\n",
      "Epoch 12/20, Loss: 0.2086\n",
      "Epoch 13/20, Loss: 0.2068\n",
      "Epoch 14/20, Loss: 0.2054\n",
      "Epoch 15/20, Loss: 0.2052\n",
      "Epoch 16/20, Loss: 0.2062\n",
      "Epoch 17/20, Loss: 0.2049\n",
      "Epoch 18/20, Loss: 0.2041\n",
      "Epoch 19/20, Loss: 0.2034\n",
      "Epoch 20/20, Loss: 0.2036\n",
      "Hidden Size: 32, LR: 0.01, Batch Size: 32, Accuracy: 0.9021\n",
      "Epoch 1/20, Loss: 0.2741\n",
      "Epoch 2/20, Loss: 0.2323\n",
      "Epoch 3/20, Loss: 0.2258\n",
      "Epoch 4/20, Loss: 0.2200\n",
      "Epoch 5/20, Loss: 0.2176\n",
      "Epoch 6/20, Loss: 0.2148\n",
      "Epoch 7/20, Loss: 0.2123\n",
      "Epoch 8/20, Loss: 0.2105\n",
      "Epoch 9/20, Loss: 0.2091\n",
      "Epoch 10/20, Loss: 0.2079\n",
      "Epoch 11/20, Loss: 0.2071\n",
      "Epoch 12/20, Loss: 0.2061\n",
      "Epoch 13/20, Loss: 0.2054\n",
      "Epoch 14/20, Loss: 0.2042\n",
      "Epoch 15/20, Loss: 0.2041\n",
      "Epoch 16/20, Loss: 0.2020\n",
      "Epoch 17/20, Loss: 0.2018\n",
      "Epoch 18/20, Loss: 0.2029\n",
      "Epoch 19/20, Loss: 0.2022\n",
      "Epoch 20/20, Loss: 0.1993\n",
      "Hidden Size: 32, LR: 0.01, Batch Size: 64, Accuracy: 0.9047\n",
      "Epoch 1/20, Loss: 0.3710\n",
      "Epoch 2/20, Loss: 0.3648\n",
      "Epoch 3/20, Loss: 0.3645\n",
      "Epoch 4/20, Loss: 0.3644\n",
      "Epoch 5/20, Loss: 0.3651\n",
      "Epoch 6/20, Loss: 0.3647\n",
      "Epoch 7/20, Loss: 0.3645\n",
      "Epoch 8/20, Loss: 0.3652\n",
      "Epoch 9/20, Loss: 0.3647\n",
      "Epoch 10/20, Loss: 0.3650\n",
      "Epoch 11/20, Loss: 0.3647\n",
      "Epoch 12/20, Loss: 0.3642\n",
      "Epoch 13/20, Loss: 0.3653\n",
      "Epoch 14/20, Loss: 0.3653\n",
      "Epoch 15/20, Loss: 0.3649\n",
      "Epoch 16/20, Loss: 0.3647\n",
      "Epoch 17/20, Loss: 0.3654\n",
      "Epoch 18/20, Loss: 0.3645\n",
      "Epoch 19/20, Loss: 0.3647\n",
      "Epoch 20/20, Loss: 0.3654\n",
      "Hidden Size: 32, LR: 0.1, Batch Size: 16, Accuracy: 0.8830\n",
      "Epoch 1/20, Loss: 0.2881\n",
      "Epoch 2/20, Loss: 0.2513\n",
      "Epoch 3/20, Loss: 0.2491\n",
      "Epoch 4/20, Loss: 0.2472\n",
      "Epoch 5/20, Loss: 0.2485\n",
      "Epoch 6/20, Loss: 0.2488\n",
      "Epoch 7/20, Loss: 0.2512\n",
      "Epoch 8/20, Loss: 0.2497\n",
      "Epoch 9/20, Loss: 0.2483\n",
      "Epoch 10/20, Loss: 0.2467\n",
      "Epoch 11/20, Loss: 0.2493\n",
      "Epoch 12/20, Loss: 0.2517\n",
      "Epoch 13/20, Loss: 0.2459\n",
      "Epoch 14/20, Loss: 0.2487\n",
      "Epoch 15/20, Loss: 0.2501\n",
      "Epoch 16/20, Loss: 0.2499\n",
      "Epoch 17/20, Loss: 0.2486\n",
      "Epoch 18/20, Loss: 0.2531\n",
      "Epoch 19/20, Loss: 0.2480\n",
      "Epoch 20/20, Loss: 0.2475\n",
      "Hidden Size: 32, LR: 0.1, Batch Size: 32, Accuracy: 0.8863\n",
      "Epoch 1/20, Loss: 0.2766\n",
      "Epoch 2/20, Loss: 0.2437\n",
      "Epoch 3/20, Loss: 0.2435\n",
      "Epoch 4/20, Loss: 0.2405\n",
      "Epoch 5/20, Loss: 0.2416\n",
      "Epoch 6/20, Loss: 0.2400\n",
      "Epoch 7/20, Loss: 0.2361\n",
      "Epoch 8/20, Loss: 0.2408\n",
      "Epoch 9/20, Loss: 0.2404\n",
      "Epoch 10/20, Loss: 0.2396\n",
      "Epoch 11/20, Loss: 0.2431\n",
      "Epoch 12/20, Loss: 0.2370\n",
      "Epoch 13/20, Loss: 0.2353\n",
      "Epoch 14/20, Loss: 0.2332\n",
      "Epoch 15/20, Loss: 0.2365\n",
      "Epoch 16/20, Loss: 0.2387\n",
      "Epoch 17/20, Loss: 0.2436\n",
      "Epoch 18/20, Loss: 0.2391\n",
      "Epoch 19/20, Loss: 0.2419\n",
      "Epoch 20/20, Loss: 0.2395\n",
      "Hidden Size: 32, LR: 0.1, Batch Size: 64, Accuracy: 0.9016\n",
      "Epoch 1/20, Loss: 0.2897\n",
      "Epoch 2/20, Loss: 0.2392\n",
      "Epoch 3/20, Loss: 0.2270\n",
      "Epoch 4/20, Loss: 0.2205\n",
      "Epoch 5/20, Loss: 0.2151\n",
      "Epoch 6/20, Loss: 0.2115\n",
      "Epoch 7/20, Loss: 0.2081\n",
      "Epoch 8/20, Loss: 0.2063\n",
      "Epoch 9/20, Loss: 0.2036\n",
      "Epoch 10/20, Loss: 0.2026\n",
      "Epoch 11/20, Loss: 0.2004\n",
      "Epoch 12/20, Loss: 0.1998\n",
      "Epoch 13/20, Loss: 0.1982\n",
      "Epoch 14/20, Loss: 0.1963\n",
      "Epoch 15/20, Loss: 0.1955\n",
      "Epoch 16/20, Loss: 0.1935\n",
      "Epoch 17/20, Loss: 0.1938\n",
      "Epoch 18/20, Loss: 0.1930\n",
      "Epoch 19/20, Loss: 0.1916\n",
      "Epoch 20/20, Loss: 0.1908\n",
      "Hidden Size: 64, LR: 0.001, Batch Size: 16, Accuracy: 0.9042\n",
      "Epoch 1/20, Loss: 0.2965\n",
      "Epoch 2/20, Loss: 0.2493\n",
      "Epoch 3/20, Loss: 0.2315\n",
      "Epoch 4/20, Loss: 0.2241\n",
      "Epoch 5/20, Loss: 0.2187\n",
      "Epoch 6/20, Loss: 0.2143\n",
      "Epoch 7/20, Loss: 0.2111\n",
      "Epoch 8/20, Loss: 0.2080\n",
      "Epoch 9/20, Loss: 0.2056\n",
      "Epoch 10/20, Loss: 0.2044\n",
      "Epoch 11/20, Loss: 0.2032\n",
      "Epoch 12/20, Loss: 0.2012\n",
      "Epoch 13/20, Loss: 0.2002\n",
      "Epoch 14/20, Loss: 0.1994\n",
      "Epoch 15/20, Loss: 0.1990\n",
      "Epoch 16/20, Loss: 0.1974\n",
      "Epoch 17/20, Loss: 0.1968\n",
      "Epoch 18/20, Loss: 0.1956\n",
      "Epoch 19/20, Loss: 0.1945\n",
      "Epoch 20/20, Loss: 0.1940\n",
      "Hidden Size: 64, LR: 0.001, Batch Size: 32, Accuracy: 0.9058\n",
      "Epoch 1/20, Loss: 0.3149\n",
      "Epoch 2/20, Loss: 0.2664\n",
      "Epoch 3/20, Loss: 0.2418\n",
      "Epoch 4/20, Loss: 0.2319\n",
      "Epoch 5/20, Loss: 0.2236\n",
      "Epoch 6/20, Loss: 0.2193\n",
      "Epoch 7/20, Loss: 0.2155\n",
      "Epoch 8/20, Loss: 0.2123\n",
      "Epoch 9/20, Loss: 0.2092\n",
      "Epoch 10/20, Loss: 0.2061\n",
      "Epoch 11/20, Loss: 0.2054\n",
      "Epoch 12/20, Loss: 0.2029\n",
      "Epoch 13/20, Loss: 0.2012\n",
      "Epoch 14/20, Loss: 0.2004\n",
      "Epoch 15/20, Loss: 0.1988\n",
      "Epoch 16/20, Loss: 0.1979\n",
      "Epoch 17/20, Loss: 0.1956\n",
      "Epoch 18/20, Loss: 0.1958\n",
      "Epoch 19/20, Loss: 0.1948\n",
      "Epoch 20/20, Loss: 0.1934\n",
      "Hidden Size: 64, LR: 0.001, Batch Size: 64, Accuracy: 0.9090\n",
      "Epoch 1/20, Loss: 0.2667\n",
      "Epoch 2/20, Loss: 0.2328\n",
      "Epoch 3/20, Loss: 0.2254\n",
      "Epoch 4/20, Loss: 0.2224\n",
      "Epoch 5/20, Loss: 0.2186\n",
      "Epoch 6/20, Loss: 0.2193\n",
      "Epoch 7/20, Loss: 0.2153\n",
      "Epoch 8/20, Loss: 0.2133\n",
      "Epoch 9/20, Loss: 0.2135\n",
      "Epoch 10/20, Loss: 0.2120\n",
      "Epoch 11/20, Loss: 0.2121\n",
      "Epoch 12/20, Loss: 0.2102\n",
      "Epoch 13/20, Loss: 0.2114\n",
      "Epoch 14/20, Loss: 0.2094\n",
      "Epoch 15/20, Loss: 0.2085\n",
      "Epoch 16/20, Loss: 0.2089\n",
      "Epoch 17/20, Loss: 0.2085\n",
      "Epoch 18/20, Loss: 0.2073\n",
      "Epoch 19/20, Loss: 0.2065\n",
      "Epoch 20/20, Loss: 0.2074\n",
      "Hidden Size: 64, LR: 0.01, Batch Size: 16, Accuracy: 0.8984\n",
      "Epoch 1/20, Loss: 0.2645\n",
      "Epoch 2/20, Loss: 0.2324\n",
      "Epoch 3/20, Loss: 0.2239\n",
      "Epoch 4/20, Loss: 0.2199\n",
      "Epoch 5/20, Loss: 0.2181\n",
      "Epoch 6/20, Loss: 0.2150\n",
      "Epoch 7/20, Loss: 0.2139\n",
      "Epoch 8/20, Loss: 0.2126\n",
      "Epoch 9/20, Loss: 0.2106\n",
      "Epoch 10/20, Loss: 0.2104\n",
      "Epoch 11/20, Loss: 0.2081\n",
      "Epoch 12/20, Loss: 0.2059\n",
      "Epoch 13/20, Loss: 0.2085\n",
      "Epoch 14/20, Loss: 0.2071\n",
      "Epoch 15/20, Loss: 0.2043\n",
      "Epoch 16/20, Loss: 0.2062\n",
      "Epoch 17/20, Loss: 0.2031\n",
      "Epoch 18/20, Loss: 0.2044\n",
      "Epoch 19/20, Loss: 0.2020\n",
      "Epoch 20/20, Loss: 0.2016\n",
      "Hidden Size: 64, LR: 0.01, Batch Size: 32, Accuracy: 0.9027\n",
      "Epoch 1/20, Loss: 0.2751\n",
      "Epoch 2/20, Loss: 0.2323\n",
      "Epoch 3/20, Loss: 0.2225\n",
      "Epoch 4/20, Loss: 0.2187\n",
      "Epoch 5/20, Loss: 0.2143\n",
      "Epoch 6/20, Loss: 0.2128\n",
      "Epoch 7/20, Loss: 0.2095\n",
      "Epoch 8/20, Loss: 0.2100\n",
      "Epoch 9/20, Loss: 0.2076\n",
      "Epoch 10/20, Loss: 0.2052\n",
      "Epoch 11/20, Loss: 0.2048\n",
      "Epoch 12/20, Loss: 0.2042\n",
      "Epoch 13/20, Loss: 0.2029\n",
      "Epoch 14/20, Loss: 0.2017\n",
      "Epoch 15/20, Loss: 0.1995\n",
      "Epoch 16/20, Loss: 0.1990\n",
      "Epoch 17/20, Loss: 0.1977\n",
      "Epoch 18/20, Loss: 0.1971\n",
      "Epoch 19/20, Loss: 0.1993\n",
      "Epoch 20/20, Loss: 0.1961\n",
      "Hidden Size: 64, LR: 0.01, Batch Size: 64, Accuracy: 0.9057\n",
      "Epoch 1/20, Loss: 0.2855\n",
      "Epoch 2/20, Loss: 0.2751\n",
      "Epoch 3/20, Loss: 0.2726\n",
      "Epoch 4/20, Loss: 0.2671\n",
      "Epoch 5/20, Loss: 0.2593\n",
      "Epoch 6/20, Loss: 0.2601\n",
      "Epoch 7/20, Loss: 0.2616\n",
      "Epoch 8/20, Loss: 0.2689\n",
      "Epoch 9/20, Loss: 0.3415\n",
      "Epoch 10/20, Loss: 0.2750\n",
      "Epoch 11/20, Loss: 0.2738\n",
      "Epoch 12/20, Loss: 0.2601\n",
      "Epoch 13/20, Loss: 0.2694\n",
      "Epoch 14/20, Loss: 0.2644\n",
      "Epoch 15/20, Loss: 0.2623\n",
      "Epoch 16/20, Loss: 0.2624\n",
      "Epoch 17/20, Loss: 0.2587\n",
      "Epoch 18/20, Loss: 0.2737\n",
      "Epoch 19/20, Loss: 0.2739\n",
      "Epoch 20/20, Loss: 0.2662\n",
      "Hidden Size: 64, LR: 0.1, Batch Size: 16, Accuracy: 0.8830\n",
      "Epoch 1/20, Loss: 0.2891\n",
      "Epoch 2/20, Loss: 0.2510\n",
      "Epoch 3/20, Loss: 0.2503\n",
      "Epoch 4/20, Loss: 0.2489\n",
      "Epoch 5/20, Loss: 0.2451\n",
      "Epoch 6/20, Loss: 0.2468\n",
      "Epoch 7/20, Loss: 0.2459\n",
      "Epoch 8/20, Loss: 0.2482\n",
      "Epoch 9/20, Loss: 0.2488\n",
      "Epoch 10/20, Loss: 0.2453\n",
      "Epoch 11/20, Loss: 0.2497\n",
      "Epoch 12/20, Loss: 0.2459\n",
      "Epoch 13/20, Loss: 0.2497\n",
      "Epoch 14/20, Loss: 0.2518\n",
      "Epoch 15/20, Loss: 0.2501\n",
      "Epoch 16/20, Loss: 0.2544\n",
      "Epoch 17/20, Loss: 0.2453\n",
      "Epoch 18/20, Loss: 0.2506\n",
      "Epoch 19/20, Loss: 0.2554\n",
      "Epoch 20/20, Loss: 0.2520\n",
      "Hidden Size: 64, LR: 0.1, Batch Size: 32, Accuracy: 0.8688\n",
      "Epoch 1/20, Loss: 0.2885\n",
      "Epoch 2/20, Loss: 0.2448\n",
      "Epoch 3/20, Loss: 0.2397\n",
      "Epoch 4/20, Loss: 0.2414\n",
      "Epoch 5/20, Loss: 0.2421\n",
      "Epoch 6/20, Loss: 0.2380\n",
      "Epoch 7/20, Loss: 0.2412\n",
      "Epoch 8/20, Loss: 0.2413\n",
      "Epoch 9/20, Loss: 0.2378\n",
      "Epoch 10/20, Loss: 0.2384\n",
      "Epoch 11/20, Loss: 0.2405\n",
      "Epoch 12/20, Loss: 0.2401\n",
      "Epoch 13/20, Loss: 0.2410\n",
      "Epoch 14/20, Loss: 0.2412\n",
      "Epoch 15/20, Loss: 0.2410\n",
      "Epoch 16/20, Loss: 0.2420\n",
      "Epoch 17/20, Loss: 0.2417\n",
      "Epoch 18/20, Loss: 0.2390\n",
      "Epoch 19/20, Loss: 0.2366\n",
      "Epoch 20/20, Loss: 0.2387\n",
      "Hidden Size: 64, LR: 0.1, Batch Size: 64, Accuracy: 0.8829\n",
      "Epoch 1/20, Loss: 0.2839\n",
      "Epoch 2/20, Loss: 0.2345\n",
      "Epoch 3/20, Loss: 0.2229\n",
      "Epoch 4/20, Loss: 0.2154\n",
      "Epoch 5/20, Loss: 0.2112\n",
      "Epoch 6/20, Loss: 0.2072\n",
      "Epoch 7/20, Loss: 0.2041\n",
      "Epoch 8/20, Loss: 0.2014\n",
      "Epoch 9/20, Loss: 0.1994\n",
      "Epoch 10/20, Loss: 0.1987\n",
      "Epoch 11/20, Loss: 0.1972\n",
      "Epoch 12/20, Loss: 0.1957\n",
      "Epoch 13/20, Loss: 0.1936\n",
      "Epoch 14/20, Loss: 0.1930\n",
      "Epoch 15/20, Loss: 0.1916\n",
      "Epoch 16/20, Loss: 0.1900\n",
      "Epoch 17/20, Loss: 0.1879\n",
      "Epoch 18/20, Loss: 0.1864\n",
      "Epoch 19/20, Loss: 0.1858\n",
      "Epoch 20/20, Loss: 0.1849\n",
      "Hidden Size: 128, LR: 0.001, Batch Size: 16, Accuracy: 0.9028\n",
      "Epoch 1/20, Loss: 0.2920\n",
      "Epoch 2/20, Loss: 0.2423\n",
      "Epoch 3/20, Loss: 0.2296\n",
      "Epoch 4/20, Loss: 0.2215\n",
      "Epoch 5/20, Loss: 0.2156\n",
      "Epoch 6/20, Loss: 0.2129\n",
      "Epoch 7/20, Loss: 0.2077\n",
      "Epoch 8/20, Loss: 0.2058\n",
      "Epoch 9/20, Loss: 0.2032\n",
      "Epoch 10/20, Loss: 0.2013\n",
      "Epoch 11/20, Loss: 0.1997\n",
      "Epoch 12/20, Loss: 0.1975\n",
      "Epoch 13/20, Loss: 0.1966\n",
      "Epoch 14/20, Loss: 0.1947\n",
      "Epoch 15/20, Loss: 0.1930\n",
      "Epoch 16/20, Loss: 0.1924\n",
      "Epoch 17/20, Loss: 0.1901\n",
      "Epoch 18/20, Loss: 0.1886\n",
      "Epoch 19/20, Loss: 0.1880\n",
      "Epoch 20/20, Loss: 0.1874\n",
      "Hidden Size: 128, LR: 0.001, Batch Size: 32, Accuracy: 0.9071\n",
      "Epoch 1/20, Loss: 0.3110\n",
      "Epoch 2/20, Loss: 0.2564\n",
      "Epoch 3/20, Loss: 0.2376\n",
      "Epoch 4/20, Loss: 0.2288\n",
      "Epoch 5/20, Loss: 0.2221\n",
      "Epoch 6/20, Loss: 0.2190\n",
      "Epoch 7/20, Loss: 0.2144\n",
      "Epoch 8/20, Loss: 0.2109\n",
      "Epoch 9/20, Loss: 0.2068\n",
      "Epoch 10/20, Loss: 0.2051\n",
      "Epoch 11/20, Loss: 0.2034\n",
      "Epoch 12/20, Loss: 0.2019\n",
      "Epoch 13/20, Loss: 0.1988\n",
      "Epoch 14/20, Loss: 0.1966\n",
      "Epoch 15/20, Loss: 0.1962\n",
      "Epoch 16/20, Loss: 0.1942\n",
      "Epoch 17/20, Loss: 0.1926\n",
      "Epoch 18/20, Loss: 0.1921\n",
      "Epoch 19/20, Loss: 0.1906\n",
      "Epoch 20/20, Loss: 0.1896\n",
      "Hidden Size: 128, LR: 0.001, Batch Size: 64, Accuracy: 0.9060\n",
      "Epoch 1/20, Loss: 0.2674\n",
      "Epoch 2/20, Loss: 0.2367\n",
      "Epoch 3/20, Loss: 0.2283\n",
      "Epoch 4/20, Loss: 0.2259\n",
      "Epoch 5/20, Loss: 0.2219\n",
      "Epoch 6/20, Loss: 0.2189\n",
      "Epoch 7/20, Loss: 0.2163\n",
      "Epoch 8/20, Loss: 0.2151\n",
      "Epoch 9/20, Loss: 0.2147\n",
      "Epoch 10/20, Loss: 0.2126\n",
      "Epoch 11/20, Loss: 0.2122\n",
      "Epoch 12/20, Loss: 0.2114\n",
      "Epoch 13/20, Loss: 0.2104\n",
      "Epoch 14/20, Loss: 0.2100\n",
      "Epoch 15/20, Loss: 0.2078\n",
      "Epoch 16/20, Loss: 0.2095\n",
      "Epoch 17/20, Loss: 0.2075\n",
      "Epoch 18/20, Loss: 0.2075\n",
      "Epoch 19/20, Loss: 0.2069\n",
      "Epoch 20/20, Loss: 0.2076\n",
      "Hidden Size: 128, LR: 0.01, Batch Size: 16, Accuracy: 0.9028\n",
      "Epoch 1/20, Loss: 0.2655\n",
      "Epoch 2/20, Loss: 0.2316\n",
      "Epoch 3/20, Loss: 0.2246\n",
      "Epoch 4/20, Loss: 0.2222\n",
      "Epoch 5/20, Loss: 0.2178\n",
      "Epoch 6/20, Loss: 0.2160\n",
      "Epoch 7/20, Loss: 0.2143\n",
      "Epoch 8/20, Loss: 0.2129\n",
      "Epoch 9/20, Loss: 0.2107\n",
      "Epoch 10/20, Loss: 0.2092\n",
      "Epoch 11/20, Loss: 0.2081\n",
      "Epoch 12/20, Loss: 0.2078\n",
      "Epoch 13/20, Loss: 0.2057\n",
      "Epoch 14/20, Loss: 0.2036\n",
      "Epoch 15/20, Loss: 0.2025\n",
      "Epoch 16/20, Loss: 0.2025\n",
      "Epoch 17/20, Loss: 0.2022\n",
      "Epoch 18/20, Loss: 0.2004\n",
      "Epoch 19/20, Loss: 0.1998\n",
      "Epoch 20/20, Loss: 0.1978\n",
      "Hidden Size: 128, LR: 0.01, Batch Size: 32, Accuracy: 0.9031\n",
      "Epoch 1/20, Loss: 0.2661\n",
      "Epoch 2/20, Loss: 0.2316\n",
      "Epoch 3/20, Loss: 0.2237\n",
      "Epoch 4/20, Loss: 0.2186\n",
      "Epoch 5/20, Loss: 0.2156\n",
      "Epoch 6/20, Loss: 0.2123\n",
      "Epoch 7/20, Loss: 0.2091\n",
      "Epoch 8/20, Loss: 0.2076\n",
      "Epoch 9/20, Loss: 0.2069\n",
      "Epoch 10/20, Loss: 0.2048\n",
      "Epoch 11/20, Loss: 0.2024\n",
      "Epoch 12/20, Loss: 0.2033\n",
      "Epoch 13/20, Loss: 0.2038\n",
      "Epoch 14/20, Loss: 0.1992\n",
      "Epoch 15/20, Loss: 0.1997\n",
      "Epoch 16/20, Loss: 0.1971\n",
      "Epoch 17/20, Loss: 0.1974\n",
      "Epoch 18/20, Loss: 0.1976\n",
      "Epoch 19/20, Loss: 0.1964\n",
      "Epoch 20/20, Loss: 0.1950\n",
      "Hidden Size: 128, LR: 0.01, Batch Size: 64, Accuracy: 0.9025\n",
      "Epoch 1/20, Loss: 0.3190\n",
      "Epoch 2/20, Loss: 0.2638\n",
      "Epoch 3/20, Loss: 0.2621\n",
      "Epoch 4/20, Loss: 0.2614\n",
      "Epoch 5/20, Loss: 0.2612\n",
      "Epoch 6/20, Loss: 0.2608\n",
      "Epoch 7/20, Loss: 0.2636\n",
      "Epoch 8/20, Loss: 0.2633\n",
      "Epoch 9/20, Loss: 0.2612\n",
      "Epoch 10/20, Loss: 0.2624\n",
      "Epoch 11/20, Loss: 0.2641\n",
      "Epoch 12/20, Loss: 0.2615\n",
      "Epoch 13/20, Loss: 0.2647\n",
      "Epoch 14/20, Loss: 0.2633\n",
      "Epoch 15/20, Loss: 0.2727\n",
      "Epoch 16/20, Loss: 0.2656\n",
      "Epoch 17/20, Loss: 0.2665\n",
      "Epoch 18/20, Loss: 0.2590\n",
      "Epoch 19/20, Loss: 0.2635\n",
      "Epoch 20/20, Loss: 0.2704\n",
      "Hidden Size: 128, LR: 0.1, Batch Size: 16, Accuracy: 0.8645\n",
      "Epoch 1/20, Loss: 0.2806\n",
      "Epoch 2/20, Loss: 0.2536\n",
      "Epoch 3/20, Loss: 0.2522\n",
      "Epoch 4/20, Loss: 0.2510\n",
      "Epoch 5/20, Loss: 0.2493\n",
      "Epoch 6/20, Loss: 0.2496\n",
      "Epoch 7/20, Loss: 0.2614\n",
      "Epoch 8/20, Loss: 0.2554\n",
      "Epoch 9/20, Loss: 0.2482\n",
      "Epoch 10/20, Loss: 0.2492\n",
      "Epoch 11/20, Loss: 0.2464\n",
      "Epoch 12/20, Loss: 0.2485\n",
      "Epoch 13/20, Loss: 0.2496\n",
      "Epoch 14/20, Loss: 0.2483\n",
      "Epoch 15/20, Loss: 0.2492\n",
      "Epoch 16/20, Loss: 0.2503\n",
      "Epoch 17/20, Loss: 0.2499\n",
      "Epoch 18/20, Loss: 0.2470\n",
      "Epoch 19/20, Loss: 0.2453\n",
      "Epoch 20/20, Loss: 0.2498\n",
      "Hidden Size: 128, LR: 0.1, Batch Size: 32, Accuracy: 0.8830\n",
      "Epoch 1/20, Loss: 0.3068\n",
      "Epoch 2/20, Loss: 0.2442\n",
      "Epoch 3/20, Loss: 0.2390\n",
      "Epoch 4/20, Loss: 0.2432\n",
      "Epoch 5/20, Loss: 0.2357\n",
      "Epoch 6/20, Loss: 0.2353\n",
      "Epoch 7/20, Loss: 0.2404\n",
      "Epoch 8/20, Loss: 0.2428\n",
      "Epoch 9/20, Loss: 0.2362\n",
      "Epoch 10/20, Loss: 0.2332\n",
      "Epoch 11/20, Loss: 0.2372\n",
      "Epoch 12/20, Loss: 0.2407\n",
      "Epoch 13/20, Loss: 0.2392\n",
      "Epoch 14/20, Loss: 0.2395\n",
      "Epoch 15/20, Loss: 0.2356\n",
      "Epoch 16/20, Loss: 0.2370\n",
      "Epoch 17/20, Loss: 0.2357\n",
      "Epoch 18/20, Loss: 0.2324\n",
      "Epoch 19/20, Loss: 0.2359\n",
      "Epoch 20/20, Loss: 0.2352\n",
      "Hidden Size: 128, LR: 0.1, Batch Size: 64, Accuracy: 0.8915\n",
      "Best Hyperparameters: {'hidden_size': 32, 'lr': 0.001, 'batch_size': 32}\n",
      "Best Accuracy: 0.9090\n"
     ]
    }
   ],
   "source": [
    "import torch\n",
    "import torch.nn as nn\n",
    "import torch.optim as optim\n",
    "from sklearn.metrics import accuracy_score\n",
    "from torch.utils.data import DataLoader, TensorDataset\n",
    "\n",
    "# Check for GPU availability\n",
    "device = torch.device(\"cuda\" if torch.cuda.is_available() else \"cpu\")\n",
    "print(f\"Using device: {device}\")\n",
    "\n",
    "# Define the Neural Network\n",
    "class NeuralNet(nn.Module):\n",
    "    def __init__(self, input_size, hidden_size, output_size):\n",
    "        super(NeuralNet, self).__init__()\n",
    "        self.fc1 = nn.Linear(input_size, hidden_size)\n",
    "        self.relu = nn.ReLU()\n",
    "        self.fc2 = nn.Linear(hidden_size, output_size)\n",
    "\n",
    "    def forward(self, x):\n",
    "        x = self.fc1(x)\n",
    "        x = self.relu(x)\n",
    "        x = self.fc2(x)\n",
    "        return x\n",
    "\n",
    "# Function to train the model\n",
    "def train_model(model, train_loader, criterion, optimizer, device, epochs=20):\n",
    "    model.train()\n",
    "    for epoch in range(epochs):\n",
    "        epoch_loss = 0\n",
    "        for X_batch, y_batch in train_loader:\n",
    "            X_batch, y_batch = X_batch.to(device), y_batch.to(device)\n",
    "            optimizer.zero_grad()\n",
    "            outputs = model(X_batch)\n",
    "            loss = criterion(outputs, y_batch)\n",
    "            loss.backward()\n",
    "            optimizer.step()\n",
    "            epoch_loss += loss.item()\n",
    "        print(f\"Epoch {epoch + 1}/{epochs}, Loss: {epoch_loss / len(train_loader):.4f}\")\n",
    "\n",
    "# Function to evaluate the model\n",
    "def evaluate_model(model, test_loader, device):\n",
    "    model.eval()\n",
    "    y_pred, y_true = [], []\n",
    "    with torch.no_grad():\n",
    "        for X_batch, y_batch in test_loader:\n",
    "            X_batch, y_batch = X_batch.to(device), y_batch.to(device)\n",
    "            outputs = model(X_batch)\n",
    "            _, predicted = torch.max(outputs, 1)\n",
    "            y_pred.extend(predicted.cpu().numpy())\n",
    "            y_true.extend(y_batch.cpu().numpy())\n",
    "    return accuracy_score(y_true, y_pred)\n",
    "\n",
    "# Hyperparameter search\n",
    "hidden_sizes = [32, 64, 128]\n",
    "learning_rates = [0.001, 0.01, 0.1]\n",
    "batch_sizes = [16, 32, 64]\n",
    "\n",
    "best_accuracy = 0\n",
    "best_hyperparameters = {}\n",
    "\n",
    "for hidden_size in hidden_sizes:\n",
    "    for lr in learning_rates:\n",
    "        for batch_size in batch_sizes:\n",
    "            # Prepare data loaders\n",
    "            train_dataset = TensorDataset(torch.tensor(X_train.values, dtype=torch.float32),\n",
    "                                           torch.tensor(y_train.values, dtype=torch.long))\n",
    "            test_dataset = TensorDataset(torch.tensor(X_test.values, dtype=torch.float32),\n",
    "                                          torch.tensor(y_test.values, dtype=torch.long))\n",
    "            train_loader = DataLoader(train_dataset, batch_size=batch_size, shuffle=True)\n",
    "            test_loader = DataLoader(test_dataset, batch_size=batch_size, shuffle=False)\n",
    "\n",
    "            # Initialize model, loss, and optimizer\n",
    "            model = NeuralNet(input_size=X_train.shape[1], hidden_size=hidden_size, output_size=2).to(device)\n",
    "            criterion = nn.CrossEntropyLoss()\n",
    "            optimizer = optim.Adam(model.parameters(), lr=lr)\n",
    "\n",
    "            # Train and evaluate\n",
    "            train_model(model, train_loader, criterion, optimizer, device, epochs=20)\n",
    "            accuracy = evaluate_model(model, test_loader, device)\n",
    "\n",
    "            # Save best hyperparameters\n",
    "            if accuracy > best_accuracy:\n",
    "                best_accuracy = accuracy\n",
    "                best_hyperparameters = {'hidden_size': hidden_size, 'lr': lr, 'batch_size': batch_size}\n",
    "\n",
    "            print(f\"Hidden Size: {hidden_size}, LR: {lr}, Batch Size: {batch_size}, Accuracy: {accuracy:.4f}\")\n",
    "\n",
    "# Output the best hyperparameters\n",
    "print(f\"Best Hyperparameters: {best_hyperparameters}\")\n",
    "print(f\"Best Accuracy: {best_accuracy:.4f}\")\n"
   ]
  },
  {
   "cell_type": "markdown",
   "metadata": {},
   "source": [
    "# evaluation"
   ]
  },
  {
   "cell_type": "markdown",
   "metadata": {},
   "source": []
  },
  {
   "cell_type": "code",
   "execution_count": 126,
   "metadata": {},
   "outputs": [
    {
     "name": "stdout",
     "output_type": "stream",
     "text": [
      "Random Forest Accuracy (Tuned): 0.9064\n",
      "\n",
      "Random Forest Classification Report (Tuned):\n",
      "              precision    recall  f1-score   support\n",
      "\n",
      "           0       0.93      0.97      0.95      7985\n",
      "           1       0.64      0.45      0.53      1058\n",
      "\n",
      "    accuracy                           0.91      9043\n",
      "   macro avg       0.79      0.71      0.74      9043\n",
      "weighted avg       0.90      0.91      0.90      9043\n",
      "\n"
     ]
    }
   ],
   "source": [
    "from sklearn.metrics import accuracy_score, classification_report\n",
    "\n",
    "# After tuning, you already have the best_rf_model (tuned Random Forest model)\n",
    "\n",
    "# Predict the outcomes on the test set\n",
    "rf_y_pred_test_tuned = best_rf_model.predict(X_test)\n",
    "\n",
    "# Calculate accuracy after tuning for the Random Forest model\n",
    "rf_accuracy_tuned = accuracy_score(y_test, rf_y_pred_test_tuned)\n",
    "\n",
    "\n",
    "### delete above\n",
    "\n",
    "# Print the accuracy after tuning\n",
    "print(f\"Random Forest Accuracy (Tuned): {rf_accuracy_tuned:.4f}\")\n",
    "\n",
    "# Optionally, print the classification report for further evaluation\n",
    "print(\"\\nRandom Forest Classification Report (Tuned):\")\n",
    "print(classification_report(y_test, rf_y_pred_test_tuned))\n"
   ]
  },
  {
   "cell_type": "code",
   "execution_count": 125,
   "metadata": {},
   "outputs": [
    {
     "name": "stdout",
     "output_type": "stream",
     "text": [
      "Best Hyperparameters: {'hidden_size': 32, 'lr': 0.001, 'batch_size': 32}\n",
      "Best Accuracy: 0.9090\n"
     ]
    }
   ],
   "source": [
    "# Output the best hyperparameters\n",
    "print(f\"Best Hyperparameters: {best_hyperparameters}\")\n",
    "print(f\"Best Accuracy: {best_accuracy:.4f}\")\n",
    "\n"
   ]
  },
  {
   "cell_type": "code",
   "execution_count": 129,
   "metadata": {},
   "outputs": [
    {
     "name": "stdout",
     "output_type": "stream",
     "text": [
      "TensorFlow Neural Network Accuracy (Tuned): 0.9057\n",
      "\n",
      "TensorFlow Neural Network Classification Report (Tuned):\n",
      "              precision    recall  f1-score   support\n",
      "\n",
      "           0       0.93      0.96      0.95      7985\n",
      "           1       0.62      0.50      0.55      1058\n",
      "\n",
      "    accuracy                           0.91      9043\n",
      "   macro avg       0.78      0.73      0.75      9043\n",
      "weighted avg       0.90      0.91      0.90      9043\n",
      "\n"
     ]
    }
   ],
   "source": [
    "\n",
    "# Print the accuracy after tuning\n",
    "print(f\"TensorFlow Neural Network Accuracy (Tuned): {nn_tenorflow_test_accuracy:.4f}\")\n",
    "\n",
    "# Optionally, print the classification report for further evaluation\n",
    "print(\"\\nTensorFlow Neural Network Classification Report (Tuned):\")\n",
    "print(classification_report(y_test, nn_test_preds))\n"
   ]
  },
  {
   "cell_type": "code",
   "execution_count": 131,
   "metadata": {},
   "outputs": [
    {
     "data": {
      "image/png": "[encoded data removed]",
      "text/plain": [
       "<Figure size 640x480 with 1 Axes>"
      ]
     },
     "metadata": {},
     "output_type": "display_data"
    }
   ],
   "source": [
    "import matplotlib.pyplot as plt\n",
    "\n",
    "# List of model names and their corresponding accuracies\n",
    "model_names = ['Random Forest', 'Neural Network (PyTorch)', 'Neural Network (TensorFlow)']\n",
    "accuracies = [rf_accuracy_tuned, best_accuracy, nn_tenorflow_test_accuracy]\n",
    "\n",
    "# Create the bar chart\n",
    "plt.bar(model_names, accuracies, color=['blue', 'orange', 'green'])\n",
    "\n",
    "# Set the y-axis limit to range from 0 to 1 (accuracy is between 0 and 1)\n",
    "plt.ylim(0, 1)\n",
    "\n",
    "# Add labels and title\n",
    "plt.ylabel('Accuracy')\n",
    "plt.title('Model Accuracy Comparison')\n",
    "\n",
    "# Display the bar chart\n",
    "plt.show()"
   ]
  },
  {
   "cell_type": "markdown",
   "metadata": {},
   "source": [
    "# saving the model"
   ]
  },
  {
   "cell_type": "code",
   "execution_count": 145,
   "metadata": {},
   "outputs": [
    {
     "name": "stdout",
     "output_type": "stream",
     "text": [
      "Random Forest model saved successfully!\n"
     ]
    }
   ],
   "source": [
    "import joblib\n",
    "\n",
    "# Save the best Random Forest model\n",
    "joblib.dump(best_rf_model, 'best_random_forest_model.pkl')\n",
    "print(\"Random Forest model saved successfully!\")\n"
   ]
  },
  {
   "cell_type": "code",
   "execution_count": 150,
   "metadata": {},
   "outputs": [
    {
     "name": "stdout",
     "output_type": "stream",
     "text": [
      "Tuned model saved successfully!\n"
     ]
    }
   ],
   "source": [
    "# Save the entire model\n",
    "torch.save(model, 'best_tuned_model_PY.pth')\n",
    "print(\"Tuned model saved successfully!\")"
   ]
  },
  {
   "cell_type": "code",
   "execution_count": 151,
   "metadata": {},
   "outputs": [
    {
     "name": "stderr",
     "output_type": "stream",
     "text": [
      "WARNING:absl:You are saving your model as an HDF5 file via `model.save()` or `keras.saving.save_model(model)`. This file format is considered legacy. We recommend using instead the native Keras format, e.g. `model.save('my_model.keras')` or `keras.saving.save_model(model, 'my_model.keras')`. \n"
     ]
    },
    {
     "name": "stdout",
     "output_type": "stream",
     "text": [
      "Tuned model saved as 'best_tuned_model.h5'\n"
     ]
    }
   ],
   "source": [
    "# Save the tuned model\n",
    "best_model.save(\"best_tuned_mode_Ten.h5\")\n",
    "print(\"Tuned model saved as 'best_tuned_model.h5'\")"
   ]
  }
 ],
 "metadata": {
  "kernelspec": {
   "display_name": "Python 3",
   "language": "python",
   "name": "python3"
  },
  "language_info": {
   "codemirror_mode": {
    "name": "ipython",
    "version": 3
   },
   "file_extension": ".py",
   "mimetype": "text/x-python",
   "name": "python",
   "nbconvert_exporter": "python",
   "pygments_lexer": "ipython3",
   "version": "3.11.4"
  }
 },
 "nbformat": 4,
 "nbformat_minor": 2
}
