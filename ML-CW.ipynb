{
 "cells": [
  {
   "cell_type": "markdown",
   "metadata": {},
   "source": [
    "# Data Preprocessing"
   ]
  },
  {
   "cell_type": "markdown",
   "metadata": {},
   "source": [
    "## Import neccesary libarys"
   ]
  },
  {
   "cell_type": "code",
   "execution_count": 218,
   "metadata": {},
   "outputs": [],
   "source": [
    "import pandas as pd\n",
    "import numpy as np\n",
    "import matplotlib.pyplot as plt\n",
    "import seaborn as sns"
   ]
  },
  {
   "cell_type": "markdown",
   "metadata": {},
   "source": [
    "## Reading the DataSet"
   ]
  },
  {
   "cell_type": "code",
   "execution_count": 219,
   "metadata": {},
   "outputs": [
    {
     "data": {
      "text/html": [
       "<div>\n",
       "<style scoped>\n",
       "    .dataframe tbody tr th:only-of-type {\n",
       "        vertical-align: middle;\n",
       "    }\n",
       "\n",
       "    .dataframe tbody tr th {\n",
       "        vertical-align: top;\n",
       "    }\n",
       "\n",
       "    .dataframe thead th {\n",
       "        text-align: right;\n",
       "    }\n",
       "</style>\n",
       "<table border=\"1\" class=\"dataframe\">\n",
       "  <thead>\n",
       "    <tr style=\"text-align: right;\">\n",
       "      <th></th>\n",
       "      <th>age</th>\n",
       "      <th>job</th>\n",
       "      <th>marital</th>\n",
       "      <th>education</th>\n",
       "      <th>default</th>\n",
       "      <th>balance</th>\n",
       "      <th>housing</th>\n",
       "      <th>loan</th>\n",
       "      <th>contact</th>\n",
       "      <th>day</th>\n",
       "      <th>month</th>\n",
       "      <th>duration</th>\n",
       "      <th>campaign</th>\n",
       "      <th>pdays</th>\n",
       "      <th>previous</th>\n",
       "      <th>poutcome</th>\n",
       "      <th>y</th>\n",
       "    </tr>\n",
       "  </thead>\n",
       "  <tbody>\n",
       "    <tr>\n",
       "      <th>0</th>\n",
       "      <td>58</td>\n",
       "      <td>management</td>\n",
       "      <td>married</td>\n",
       "      <td>tertiary</td>\n",
       "      <td>no</td>\n",
       "      <td>2143</td>\n",
       "      <td>yes</td>\n",
       "      <td>no</td>\n",
       "      <td>unknown</td>\n",
       "      <td>5</td>\n",
       "      <td>may</td>\n",
       "      <td>261</td>\n",
       "      <td>1</td>\n",
       "      <td>-1</td>\n",
       "      <td>0</td>\n",
       "      <td>unknown</td>\n",
       "      <td>no</td>\n",
       "    </tr>\n",
       "    <tr>\n",
       "      <th>1</th>\n",
       "      <td>44</td>\n",
       "      <td>technician</td>\n",
       "      <td>single</td>\n",
       "      <td>secondary</td>\n",
       "      <td>no</td>\n",
       "      <td>29</td>\n",
       "      <td>yes</td>\n",
       "      <td>no</td>\n",
       "      <td>unknown</td>\n",
       "      <td>5</td>\n",
       "      <td>may</td>\n",
       "      <td>151</td>\n",
       "      <td>1</td>\n",
       "      <td>-1</td>\n",
       "      <td>0</td>\n",
       "      <td>unknown</td>\n",
       "      <td>no</td>\n",
       "    </tr>\n",
       "    <tr>\n",
       "      <th>2</th>\n",
       "      <td>33</td>\n",
       "      <td>entrepreneur</td>\n",
       "      <td>married</td>\n",
       "      <td>secondary</td>\n",
       "      <td>no</td>\n",
       "      <td>2</td>\n",
       "      <td>yes</td>\n",
       "      <td>yes</td>\n",
       "      <td>unknown</td>\n",
       "      <td>5</td>\n",
       "      <td>may</td>\n",
       "      <td>76</td>\n",
       "      <td>1</td>\n",
       "      <td>-1</td>\n",
       "      <td>0</td>\n",
       "      <td>unknown</td>\n",
       "      <td>no</td>\n",
       "    </tr>\n",
       "    <tr>\n",
       "      <th>3</th>\n",
       "      <td>47</td>\n",
       "      <td>blue-collar</td>\n",
       "      <td>married</td>\n",
       "      <td>unknown</td>\n",
       "      <td>no</td>\n",
       "      <td>1506</td>\n",
       "      <td>yes</td>\n",
       "      <td>no</td>\n",
       "      <td>unknown</td>\n",
       "      <td>5</td>\n",
       "      <td>may</td>\n",
       "      <td>92</td>\n",
       "      <td>1</td>\n",
       "      <td>-1</td>\n",
       "      <td>0</td>\n",
       "      <td>unknown</td>\n",
       "      <td>no</td>\n",
       "    </tr>\n",
       "    <tr>\n",
       "      <th>4</th>\n",
       "      <td>33</td>\n",
       "      <td>unknown</td>\n",
       "      <td>single</td>\n",
       "      <td>unknown</td>\n",
       "      <td>no</td>\n",
       "      <td>1</td>\n",
       "      <td>no</td>\n",
       "      <td>no</td>\n",
       "      <td>unknown</td>\n",
       "      <td>5</td>\n",
       "      <td>may</td>\n",
       "      <td>198</td>\n",
       "      <td>1</td>\n",
       "      <td>-1</td>\n",
       "      <td>0</td>\n",
       "      <td>unknown</td>\n",
       "      <td>no</td>\n",
       "    </tr>\n",
       "  </tbody>\n",
       "</table>\n",
       "</div>"
      ],
      "text/plain": [
       "   age           job  marital  education default  balance housing loan  \\\n",
       "0   58    management  married   tertiary      no     2143     yes   no   \n",
       "1   44    technician   single  secondary      no       29     yes   no   \n",
       "2   33  entrepreneur  married  secondary      no        2     yes  yes   \n",
       "3   47   blue-collar  married    unknown      no     1506     yes   no   \n",
       "4   33       unknown   single    unknown      no        1      no   no   \n",
       "\n",
       "   contact  day month  duration  campaign  pdays  previous poutcome   y  \n",
       "0  unknown    5   may       261         1     -1         0  unknown  no  \n",
       "1  unknown    5   may       151         1     -1         0  unknown  no  \n",
       "2  unknown    5   may        76         1     -1         0  unknown  no  \n",
       "3  unknown    5   may        92         1     -1         0  unknown  no  \n",
       "4  unknown    5   may       198         1     -1         0  unknown  no  "
      ]
     },
     "execution_count": 219,
     "metadata": {},
     "output_type": "execute_result"
    }
   ],
   "source": [
    "# Load the dataset\n",
    "# data = pd.read_csv('bank.csv' , sep=';')\n",
    "data = pd.read_csv('bank-full.csv' , sep=';')\n",
    "\n",
    "# View the first few rows\n",
    "data.head()"
   ]
  },
  {
   "cell_type": "code",
   "execution_count": 220,
   "metadata": {},
   "outputs": [
    {
     "data": {
      "text/html": [
       "<div>\n",
       "<style scoped>\n",
       "    .dataframe tbody tr th:only-of-type {\n",
       "        vertical-align: middle;\n",
       "    }\n",
       "\n",
       "    .dataframe tbody tr th {\n",
       "        vertical-align: top;\n",
       "    }\n",
       "\n",
       "    .dataframe thead th {\n",
       "        text-align: right;\n",
       "    }\n",
       "</style>\n",
       "<table border=\"1\" class=\"dataframe\">\n",
       "  <thead>\n",
       "    <tr style=\"text-align: right;\">\n",
       "      <th></th>\n",
       "      <th>age</th>\n",
       "      <th>job</th>\n",
       "      <th>marital</th>\n",
       "      <th>education</th>\n",
       "      <th>default</th>\n",
       "      <th>balance</th>\n",
       "      <th>housing</th>\n",
       "      <th>loan</th>\n",
       "      <th>contact</th>\n",
       "      <th>day</th>\n",
       "      <th>month</th>\n",
       "      <th>duration</th>\n",
       "      <th>campaign</th>\n",
       "      <th>pdays</th>\n",
       "      <th>previous</th>\n",
       "      <th>poutcome</th>\n",
       "      <th>y</th>\n",
       "    </tr>\n",
       "  </thead>\n",
       "  <tbody>\n",
       "    <tr>\n",
       "      <th>45206</th>\n",
       "      <td>51</td>\n",
       "      <td>technician</td>\n",
       "      <td>married</td>\n",
       "      <td>tertiary</td>\n",
       "      <td>no</td>\n",
       "      <td>825</td>\n",
       "      <td>no</td>\n",
       "      <td>no</td>\n",
       "      <td>cellular</td>\n",
       "      <td>17</td>\n",
       "      <td>nov</td>\n",
       "      <td>977</td>\n",
       "      <td>3</td>\n",
       "      <td>-1</td>\n",
       "      <td>0</td>\n",
       "      <td>unknown</td>\n",
       "      <td>yes</td>\n",
       "    </tr>\n",
       "    <tr>\n",
       "      <th>45207</th>\n",
       "      <td>71</td>\n",
       "      <td>retired</td>\n",
       "      <td>divorced</td>\n",
       "      <td>primary</td>\n",
       "      <td>no</td>\n",
       "      <td>1729</td>\n",
       "      <td>no</td>\n",
       "      <td>no</td>\n",
       "      <td>cellular</td>\n",
       "      <td>17</td>\n",
       "      <td>nov</td>\n",
       "      <td>456</td>\n",
       "      <td>2</td>\n",
       "      <td>-1</td>\n",
       "      <td>0</td>\n",
       "      <td>unknown</td>\n",
       "      <td>yes</td>\n",
       "    </tr>\n",
       "    <tr>\n",
       "      <th>45208</th>\n",
       "      <td>72</td>\n",
       "      <td>retired</td>\n",
       "      <td>married</td>\n",
       "      <td>secondary</td>\n",
       "      <td>no</td>\n",
       "      <td>5715</td>\n",
       "      <td>no</td>\n",
       "      <td>no</td>\n",
       "      <td>cellular</td>\n",
       "      <td>17</td>\n",
       "      <td>nov</td>\n",
       "      <td>1127</td>\n",
       "      <td>5</td>\n",
       "      <td>184</td>\n",
       "      <td>3</td>\n",
       "      <td>success</td>\n",
       "      <td>yes</td>\n",
       "    </tr>\n",
       "    <tr>\n",
       "      <th>45209</th>\n",
       "      <td>57</td>\n",
       "      <td>blue-collar</td>\n",
       "      <td>married</td>\n",
       "      <td>secondary</td>\n",
       "      <td>no</td>\n",
       "      <td>668</td>\n",
       "      <td>no</td>\n",
       "      <td>no</td>\n",
       "      <td>telephone</td>\n",
       "      <td>17</td>\n",
       "      <td>nov</td>\n",
       "      <td>508</td>\n",
       "      <td>4</td>\n",
       "      <td>-1</td>\n",
       "      <td>0</td>\n",
       "      <td>unknown</td>\n",
       "      <td>no</td>\n",
       "    </tr>\n",
       "    <tr>\n",
       "      <th>45210</th>\n",
       "      <td>37</td>\n",
       "      <td>entrepreneur</td>\n",
       "      <td>married</td>\n",
       "      <td>secondary</td>\n",
       "      <td>no</td>\n",
       "      <td>2971</td>\n",
       "      <td>no</td>\n",
       "      <td>no</td>\n",
       "      <td>cellular</td>\n",
       "      <td>17</td>\n",
       "      <td>nov</td>\n",
       "      <td>361</td>\n",
       "      <td>2</td>\n",
       "      <td>188</td>\n",
       "      <td>11</td>\n",
       "      <td>other</td>\n",
       "      <td>no</td>\n",
       "    </tr>\n",
       "  </tbody>\n",
       "</table>\n",
       "</div>"
      ],
      "text/plain": [
       "       age           job   marital  education default  balance housing loan  \\\n",
       "45206   51    technician   married   tertiary      no      825      no   no   \n",
       "45207   71       retired  divorced    primary      no     1729      no   no   \n",
       "45208   72       retired   married  secondary      no     5715      no   no   \n",
       "45209   57   blue-collar   married  secondary      no      668      no   no   \n",
       "45210   37  entrepreneur   married  secondary      no     2971      no   no   \n",
       "\n",
       "         contact  day month  duration  campaign  pdays  previous poutcome    y  \n",
       "45206   cellular   17   nov       977         3     -1         0  unknown  yes  \n",
       "45207   cellular   17   nov       456         2     -1         0  unknown  yes  \n",
       "45208   cellular   17   nov      1127         5    184         3  success  yes  \n",
       "45209  telephone   17   nov       508         4     -1         0  unknown   no  \n",
       "45210   cellular   17   nov       361         2    188        11    other   no  "
      ]
     },
     "execution_count": 220,
     "metadata": {},
     "output_type": "execute_result"
    }
   ],
   "source": [
    "#view the last few rows\n",
    "data.tail()"
   ]
  },
  {
   "cell_type": "markdown",
   "metadata": {},
   "source": [
    "## Sanity check data"
   ]
  },
  {
   "cell_type": "code",
   "execution_count": 221,
   "metadata": {},
   "outputs": [
    {
     "data": {
      "text/plain": [
       "(45211, 17)"
      ]
     },
     "execution_count": 221,
     "metadata": {},
     "output_type": "execute_result"
    }
   ],
   "source": [
    "# Check the shape of the data\n",
    "# cloums and rows\n",
    "data.shape"
   ]
  },
  {
   "cell_type": "code",
   "execution_count": 222,
   "metadata": {},
   "outputs": [
    {
     "name": "stdout",
     "output_type": "stream",
     "text": [
      "<class 'pandas.core.frame.DataFrame'>\n",
      "RangeIndex: 45211 entries, 0 to 45210\n",
      "Data columns (total 17 columns):\n",
      " #   Column     Non-Null Count  Dtype \n",
      "---  ------     --------------  ----- \n",
      " 0   age        45211 non-null  int64 \n",
      " 1   job        45211 non-null  object\n",
      " 2   marital    45211 non-null  object\n",
      " 3   education  45211 non-null  object\n",
      " 4   default    45211 non-null  object\n",
      " 5   balance    45211 non-null  int64 \n",
      " 6   housing    45211 non-null  object\n",
      " 7   loan       45211 non-null  object\n",
      " 8   contact    45211 non-null  object\n",
      " 9   day        45211 non-null  int64 \n",
      " 10  month      45211 non-null  object\n",
      " 11  duration   45211 non-null  int64 \n",
      " 12  campaign   45211 non-null  int64 \n",
      " 13  pdays      45211 non-null  int64 \n",
      " 14  previous   45211 non-null  int64 \n",
      " 15  poutcome   45211 non-null  object\n",
      " 16  y          45211 non-null  object\n",
      "dtypes: int64(7), object(10)\n",
      "memory usage: 5.9+ MB\n"
     ]
    }
   ],
   "source": [
    "# Check column information\n",
    "data.info()"
   ]
  },
  {
   "cell_type": "code",
   "execution_count": 223,
   "metadata": {},
   "outputs": [
    {
     "data": {
      "text/plain": [
       "age          0\n",
       "job          0\n",
       "marital      0\n",
       "education    0\n",
       "default      0\n",
       "balance      0\n",
       "housing      0\n",
       "loan         0\n",
       "contact      0\n",
       "day          0\n",
       "month        0\n",
       "duration     0\n",
       "campaign     0\n",
       "pdays        0\n",
       "previous     0\n",
       "poutcome     0\n",
       "y            0\n",
       "dtype: int64"
      ]
     },
     "execution_count": 223,
     "metadata": {},
     "output_type": "execute_result"
    }
   ],
   "source": [
    "# Check for missing values\n",
    "data.isnull().sum()"
   ]
  },
  {
   "cell_type": "code",
   "execution_count": 224,
   "metadata": {},
   "outputs": [
    {
     "data": {
      "text/plain": [
       "np.int64(0)"
      ]
     },
     "execution_count": 224,
     "metadata": {},
     "output_type": "execute_result"
    }
   ],
   "source": [
    "#check for duplicates\n",
    "data.duplicated().sum()"
   ]
  },
  {
   "cell_type": "code",
   "execution_count": 225,
   "metadata": {},
   "outputs": [
    {
     "name": "stdout",
     "output_type": "stream",
     "text": [
      "\n",
      "Unique values in job are ['management' 'technician' 'entrepreneur' 'blue-collar' 'unknown'\n",
      " 'retired' 'admin.' 'services' 'self-employed' 'unemployed' 'housemaid'\n",
      " 'student']\n",
      "\n",
      "Unique values in marital are ['married' 'single' 'divorced']\n",
      "\n",
      "Unique values in education are ['tertiary' 'secondary' 'unknown' 'primary']\n",
      "\n",
      "Unique values in default are ['no' 'yes']\n",
      "\n",
      "Unique values in housing are ['yes' 'no']\n",
      "\n",
      "Unique values in loan are ['no' 'yes']\n",
      "\n",
      "Unique values in contact are ['unknown' 'cellular' 'telephone']\n",
      "\n",
      "Unique values in month are ['may' 'jun' 'jul' 'aug' 'oct' 'nov' 'dec' 'jan' 'feb' 'mar' 'apr' 'sep']\n",
      "\n",
      "Unique values in poutcome are ['unknown' 'failure' 'other' 'success']\n",
      "\n",
      "Unique values in y are ['no' 'yes']\n"
     ]
    }
   ],
   "source": [
    "#identify the unique values and garbage values\n",
    "for i in data.select_dtypes(include='object').columns:\n",
    "    print(f'\\nUnique values in {i} are {data[i].unique()}')"
   ]
  },
  {
   "cell_type": "markdown",
   "metadata": {},
   "source": [
    "## Missing Value Treatment"
   ]
  },
  {
   "cell_type": "code",
   "execution_count": 226,
   "metadata": {},
   "outputs": [
    {
     "name": "stdout",
     "output_type": "stream",
     "text": [
      "<class 'pandas.core.frame.DataFrame'>\n",
      "RangeIndex: 45211 entries, 0 to 45210\n",
      "Data columns (total 17 columns):\n",
      " #   Column     Non-Null Count  Dtype \n",
      "---  ------     --------------  ----- \n",
      " 0   age        45211 non-null  int64 \n",
      " 1   job        45211 non-null  object\n",
      " 2   marital    45211 non-null  object\n",
      " 3   education  45211 non-null  object\n",
      " 4   default    45211 non-null  object\n",
      " 5   balance    45211 non-null  int64 \n",
      " 6   housing    45211 non-null  object\n",
      " 7   loan       45211 non-null  object\n",
      " 8   contact    45211 non-null  object\n",
      " 9   day        45211 non-null  int64 \n",
      " 10  month      45211 non-null  object\n",
      " 11  duration   45211 non-null  int64 \n",
      " 12  campaign   45211 non-null  int64 \n",
      " 13  pdays      45211 non-null  int64 \n",
      " 14  previous   45211 non-null  int64 \n",
      " 15  poutcome   45211 non-null  object\n",
      " 16  y          45211 non-null  object\n",
      "dtypes: int64(7), object(10)\n",
      "memory usage: 5.9+ MB\n"
     ]
    }
   ],
   "source": [
    "data.info()"
   ]
  },
  {
   "cell_type": "code",
   "execution_count": 227,
   "metadata": {},
   "outputs": [
    {
     "name": "stdout",
     "output_type": "stream",
     "text": [
      "age          0\n",
      "job          0\n",
      "marital      0\n",
      "education    0\n",
      "default      0\n",
      "balance      0\n",
      "housing      0\n",
      "loan         0\n",
      "contact      0\n",
      "day          0\n",
      "month        0\n",
      "duration     0\n",
      "campaign     0\n",
      "pdays        0\n",
      "previous     0\n",
      "poutcome     0\n",
      "y            0\n",
      "dtype: int64\n",
      "Missing values treated.\n"
     ]
    }
   ],
   "source": [
    "# Check for missing values\n",
    "print(data.isnull().sum())\n",
    "\n",
    "# Handle missing values\n",
    "for col in data.columns:\n",
    "    if data[col].isnull().sum() > 0:\n",
    "        # For categorical columns\n",
    "        if data[col].dtype == 'object':\n",
    "            data[col].fillna(data[col].mode()[0], inplace=True) \n",
    "        else:\n",
    "            data[col].fillna(data[col].median(), inplace=True)  # Fill numerical with median\n",
    "\n",
    "print(\"Missing values treated.\")\n"
   ]
  },
  {
   "cell_type": "code",
   "execution_count": 228,
   "metadata": {},
   "outputs": [
    {
     "data": {
      "text/plain": [
       "age          0\n",
       "job          0\n",
       "marital      0\n",
       "education    0\n",
       "default      0\n",
       "balance      0\n",
       "housing      0\n",
       "loan         0\n",
       "contact      0\n",
       "day          0\n",
       "month        0\n",
       "duration     0\n",
       "campaign     0\n",
       "pdays        0\n",
       "previous     0\n",
       "poutcome     0\n",
       "y            0\n",
       "dtype: int64"
      ]
     },
     "execution_count": 228,
     "metadata": {},
     "output_type": "execute_result"
    }
   ],
   "source": [
    "data.isnull().sum()"
   ]
  },
  {
   "cell_type": "markdown",
   "metadata": {},
   "source": [
    "## Duplicate and Garbage value treatment"
   ]
  },
  {
   "cell_type": "code",
   "execution_count": 229,
   "metadata": {},
   "outputs": [
    {
     "name": "stdout",
     "output_type": "stream",
     "text": [
      "Number of duplicate rows: 0\n"
     ]
    }
   ],
   "source": [
    "# Check for duplicates\n",
    "duplicates = data.duplicated().sum()\n",
    "print(f\"Number of duplicate rows: {duplicates}\")\n",
    "\n",
    "# Drop duplicates\n",
    "data = data.drop_duplicates()"
   ]
  },
  {
   "cell_type": "code",
   "execution_count": 230,
   "metadata": {},
   "outputs": [],
   "source": [
    "# data.to_csv('cleaned_data.csv', index=False)"
   ]
  },
  {
   "cell_type": "markdown",
   "metadata": {},
   "source": [
    "# Exploratory Data Analysis (EDA)"
   ]
  },
  {
   "cell_type": "code",
   "execution_count": 231,
   "metadata": {},
   "outputs": [
    {
     "data": {
      "text/html": [
       "<div>\n",
       "<style scoped>\n",
       "    .dataframe tbody tr th:only-of-type {\n",
       "        vertical-align: middle;\n",
       "    }\n",
       "\n",
       "    .dataframe tbody tr th {\n",
       "        vertical-align: top;\n",
       "    }\n",
       "\n",
       "    .dataframe thead th {\n",
       "        text-align: right;\n",
       "    }\n",
       "</style>\n",
       "<table border=\"1\" class=\"dataframe\">\n",
       "  <thead>\n",
       "    <tr style=\"text-align: right;\">\n",
       "      <th></th>\n",
       "      <th>count</th>\n",
       "      <th>mean</th>\n",
       "      <th>std</th>\n",
       "      <th>min</th>\n",
       "      <th>25%</th>\n",
       "      <th>50%</th>\n",
       "      <th>75%</th>\n",
       "      <th>max</th>\n",
       "    </tr>\n",
       "  </thead>\n",
       "  <tbody>\n",
       "    <tr>\n",
       "      <th>age</th>\n",
       "      <td>45211.0</td>\n",
       "      <td>40.936210</td>\n",
       "      <td>10.618762</td>\n",
       "      <td>18.0</td>\n",
       "      <td>33.0</td>\n",
       "      <td>39.0</td>\n",
       "      <td>48.0</td>\n",
       "      <td>95.0</td>\n",
       "    </tr>\n",
       "    <tr>\n",
       "      <th>balance</th>\n",
       "      <td>45211.0</td>\n",
       "      <td>1362.272058</td>\n",
       "      <td>3044.765829</td>\n",
       "      <td>-8019.0</td>\n",
       "      <td>72.0</td>\n",
       "      <td>448.0</td>\n",
       "      <td>1428.0</td>\n",
       "      <td>102127.0</td>\n",
       "    </tr>\n",
       "    <tr>\n",
       "      <th>day</th>\n",
       "      <td>45211.0</td>\n",
       "      <td>15.806419</td>\n",
       "      <td>8.322476</td>\n",
       "      <td>1.0</td>\n",
       "      <td>8.0</td>\n",
       "      <td>16.0</td>\n",
       "      <td>21.0</td>\n",
       "      <td>31.0</td>\n",
       "    </tr>\n",
       "    <tr>\n",
       "      <th>duration</th>\n",
       "      <td>45211.0</td>\n",
       "      <td>258.163080</td>\n",
       "      <td>257.527812</td>\n",
       "      <td>0.0</td>\n",
       "      <td>103.0</td>\n",
       "      <td>180.0</td>\n",
       "      <td>319.0</td>\n",
       "      <td>4918.0</td>\n",
       "    </tr>\n",
       "    <tr>\n",
       "      <th>campaign</th>\n",
       "      <td>45211.0</td>\n",
       "      <td>2.763841</td>\n",
       "      <td>3.098021</td>\n",
       "      <td>1.0</td>\n",
       "      <td>1.0</td>\n",
       "      <td>2.0</td>\n",
       "      <td>3.0</td>\n",
       "      <td>63.0</td>\n",
       "    </tr>\n",
       "    <tr>\n",
       "      <th>pdays</th>\n",
       "      <td>45211.0</td>\n",
       "      <td>40.197828</td>\n",
       "      <td>100.128746</td>\n",
       "      <td>-1.0</td>\n",
       "      <td>-1.0</td>\n",
       "      <td>-1.0</td>\n",
       "      <td>-1.0</td>\n",
       "      <td>871.0</td>\n",
       "    </tr>\n",
       "    <tr>\n",
       "      <th>previous</th>\n",
       "      <td>45211.0</td>\n",
       "      <td>0.580323</td>\n",
       "      <td>2.303441</td>\n",
       "      <td>0.0</td>\n",
       "      <td>0.0</td>\n",
       "      <td>0.0</td>\n",
       "      <td>0.0</td>\n",
       "      <td>275.0</td>\n",
       "    </tr>\n",
       "  </tbody>\n",
       "</table>\n",
       "</div>"
      ],
      "text/plain": [
       "            count         mean          std     min    25%    50%     75%  \\\n",
       "age       45211.0    40.936210    10.618762    18.0   33.0   39.0    48.0   \n",
       "balance   45211.0  1362.272058  3044.765829 -8019.0   72.0  448.0  1428.0   \n",
       "day       45211.0    15.806419     8.322476     1.0    8.0   16.0    21.0   \n",
       "duration  45211.0   258.163080   257.527812     0.0  103.0  180.0   319.0   \n",
       "campaign  45211.0     2.763841     3.098021     1.0    1.0    2.0     3.0   \n",
       "pdays     45211.0    40.197828   100.128746    -1.0   -1.0   -1.0    -1.0   \n",
       "previous  45211.0     0.580323     2.303441     0.0    0.0    0.0     0.0   \n",
       "\n",
       "               max  \n",
       "age           95.0  \n",
       "balance   102127.0  \n",
       "day           31.0  \n",
       "duration    4918.0  \n",
       "campaign      63.0  \n",
       "pdays        871.0  \n",
       "previous     275.0  "
      ]
     },
     "execution_count": 231,
     "metadata": {},
     "output_type": "execute_result"
    }
   ],
   "source": [
    "# Descriptive statistics\n",
    "data.describe().T"
   ]
  },
  {
   "cell_type": "code",
   "execution_count": 232,
   "metadata": {},
   "outputs": [
    {
     "data": {
      "text/html": [
       "<div>\n",
       "<style scoped>\n",
       "    .dataframe tbody tr th:only-of-type {\n",
       "        vertical-align: middle;\n",
       "    }\n",
       "\n",
       "    .dataframe tbody tr th {\n",
       "        vertical-align: top;\n",
       "    }\n",
       "\n",
       "    .dataframe thead th {\n",
       "        text-align: right;\n",
       "    }\n",
       "</style>\n",
       "<table border=\"1\" class=\"dataframe\">\n",
       "  <thead>\n",
       "    <tr style=\"text-align: right;\">\n",
       "      <th></th>\n",
       "      <th>count</th>\n",
       "      <th>unique</th>\n",
       "      <th>top</th>\n",
       "      <th>freq</th>\n",
       "    </tr>\n",
       "  </thead>\n",
       "  <tbody>\n",
       "    <tr>\n",
       "      <th>job</th>\n",
       "      <td>45211</td>\n",
       "      <td>12</td>\n",
       "      <td>blue-collar</td>\n",
       "      <td>9732</td>\n",
       "    </tr>\n",
       "    <tr>\n",
       "      <th>marital</th>\n",
       "      <td>45211</td>\n",
       "      <td>3</td>\n",
       "      <td>married</td>\n",
       "      <td>27214</td>\n",
       "    </tr>\n",
       "    <tr>\n",
       "      <th>education</th>\n",
       "      <td>45211</td>\n",
       "      <td>4</td>\n",
       "      <td>secondary</td>\n",
       "      <td>23202</td>\n",
       "    </tr>\n",
       "    <tr>\n",
       "      <th>default</th>\n",
       "      <td>45211</td>\n",
       "      <td>2</td>\n",
       "      <td>no</td>\n",
       "      <td>44396</td>\n",
       "    </tr>\n",
       "    <tr>\n",
       "      <th>housing</th>\n",
       "      <td>45211</td>\n",
       "      <td>2</td>\n",
       "      <td>yes</td>\n",
       "      <td>25130</td>\n",
       "    </tr>\n",
       "    <tr>\n",
       "      <th>loan</th>\n",
       "      <td>45211</td>\n",
       "      <td>2</td>\n",
       "      <td>no</td>\n",
       "      <td>37967</td>\n",
       "    </tr>\n",
       "    <tr>\n",
       "      <th>contact</th>\n",
       "      <td>45211</td>\n",
       "      <td>3</td>\n",
       "      <td>cellular</td>\n",
       "      <td>29285</td>\n",
       "    </tr>\n",
       "    <tr>\n",
       "      <th>month</th>\n",
       "      <td>45211</td>\n",
       "      <td>12</td>\n",
       "      <td>may</td>\n",
       "      <td>13766</td>\n",
       "    </tr>\n",
       "    <tr>\n",
       "      <th>poutcome</th>\n",
       "      <td>45211</td>\n",
       "      <td>4</td>\n",
       "      <td>unknown</td>\n",
       "      <td>36959</td>\n",
       "    </tr>\n",
       "    <tr>\n",
       "      <th>y</th>\n",
       "      <td>45211</td>\n",
       "      <td>2</td>\n",
       "      <td>no</td>\n",
       "      <td>39922</td>\n",
       "    </tr>\n",
       "  </tbody>\n",
       "</table>\n",
       "</div>"
      ],
      "text/plain": [
       "           count unique          top   freq\n",
       "job        45211     12  blue-collar   9732\n",
       "marital    45211      3      married  27214\n",
       "education  45211      4    secondary  23202\n",
       "default    45211      2           no  44396\n",
       "housing    45211      2          yes  25130\n",
       "loan       45211      2           no  37967\n",
       "contact    45211      3     cellular  29285\n",
       "month      45211     12          may  13766\n",
       "poutcome   45211      4      unknown  36959\n",
       "y          45211      2           no  39922"
      ]
     },
     "execution_count": 232,
     "metadata": {},
     "output_type": "execute_result"
    }
   ],
   "source": [
    "data.describe(include='object').T"
   ]
  },
  {
   "cell_type": "code",
   "execution_count": 233,
   "metadata": {},
   "outputs": [
    {
     "data": {
      "image/png": "[encoded data removed]",
      "text/plain": [
       "<Figure size 640x480 with 1 Axes>"
      ]
     },
     "metadata": {},
     "output_type": "display_data"
    },
    {
     "data": {
      "image/png": "[encoded data removed]",
      "text/plain": [
       "<Figure size 640x480 with 1 Axes>"
      ]
     },
     "metadata": {},
     "output_type": "display_data"
    },
    {
     "data": {
      "image/png": "[encoded data removed]",
      "text/plain": [
       "<Figure size 640x480 with 1 Axes>"
      ]
     },
     "metadata": {},
     "output_type": "display_data"
    },
    {
     "data": {
      "image/png": "[encoded data removed]",
      "text/plain": [
       "<Figure size 640x480 with 1 Axes>"
      ]
     },
     "metadata": {},
     "output_type": "display_data"
    },
    {
     "data": {
      "image/png": "[encoded data removed]",
      "text/plain": [
       "<Figure size 640x480 with 1 Axes>"
      ]
     },
     "metadata": {},
     "output_type": "display_data"
    },
    {
     "data": {
      "image/png": "[encoded data removed]",
      "text/plain": [
       "<Figure size 640x480 with 1 Axes>"
      ]
     },
     "metadata": {},
     "output_type": "display_data"
    },
    {
     "data": {
      "image/png": "[encoded data removed]",
      "text/plain": [
       "<Figure size 640x480 with 1 Axes>"
      ]
     },
     "metadata": {},
     "output_type": "display_data"
    }
   ],
   "source": [
    "#histogram to understand the distribution of the data\n",
    "for i in data.select_dtypes(include='number').columns:\n",
    "    sns.histplot(data=data, x= i)\n",
    "    plt.show()"
   ]
  },
  {
   "cell_type": "code",
   "execution_count": 234,
   "metadata": {},
   "outputs": [
    {
     "data": {
      "image/png": "[encoded data removed]",
      "text/plain": [
       "<Figure size 640x480 with 1 Axes>"
      ]
     },
     "metadata": {},
     "output_type": "display_data"
    },
    {
     "data": {
      "image/png": "[encoded data removed]",
      "text/plain": [
       "<Figure size 640x480 with 1 Axes>"
      ]
     },
     "metadata": {},
     "output_type": "display_data"
    },
    {
     "data": {
      "image/png": "[encoded data removed]",
      "text/plain": [
       "<Figure size 640x480 with 1 Axes>"
      ]
     },
     "metadata": {},
     "output_type": "display_data"
    },
    {
     "data": {
      "image/png": "[encoded data removed]",
      "text/plain": [
       "<Figure size 640x480 with 1 Axes>"
      ]
     },
     "metadata": {},
     "output_type": "display_data"
    },
    {
     "data": {
      "image/png": "[encoded data removed]",
      "text/plain": [
       "<Figure size 640x480 with 1 Axes>"
      ]
     },
     "metadata": {},
     "output_type": "display_data"
    },
    {
     "data": {
      "image/png": "[encoded data removed]",
      "text/plain": [
       "<Figure size 640x480 with 1 Axes>"
      ]
     },
     "metadata": {},
     "output_type": "display_data"
    },
    {
     "data": {
      "image/png": "[encoded data removed]",
      "text/plain": [
       "<Figure size 640x480 with 1 Axes>"
      ]
     },
     "metadata": {},
     "output_type": "display_data"
    }
   ],
   "source": [
    "# Boxplot to identify the outliers\n",
    "for i in data.select_dtypes(include='number').columns:\n",
    "    sns.boxplot(data=data, x= i)\n",
    "    plt.show()"
   ]
  },
  {
   "cell_type": "code",
   "execution_count": 235,
   "metadata": {},
   "outputs": [],
   "source": [
    "# #scatter plot to understand the relationship between the variables\n",
    "# for i in ['age', 'balance', 'day', 'duration', 'campaign', 'pdays', 'previous']:\n",
    "#     sns.scatterplot(data=data, x=i, y=data['y'])\n",
    "#     plt.show() "
   ]
  },
  {
   "cell_type": "code",
   "execution_count": 236,
   "metadata": {},
   "outputs": [
    {
     "data": {
      "text/plain": [
       "Index(['age', 'balance', 'day', 'duration', 'campaign', 'pdays', 'previous'], dtype='object')"
      ]
     },
     "execution_count": 236,
     "metadata": {},
     "output_type": "execute_result"
    }
   ],
   "source": [
    "data.select_dtypes(include='number').columns"
   ]
  },
  {
   "cell_type": "code",
   "execution_count": 237,
   "metadata": {},
   "outputs": [
    {
     "data": {
      "text/plain": [
       "<Axes: >"
      ]
     },
     "execution_count": 237,
     "metadata": {},
     "output_type": "execute_result"
    },
    {
     "data": {
      "image/png": "[encoded data removed]",
      "text/plain": [
       "<Figure size 640x480 with 2 Axes>"
      ]
     },
     "metadata": {},
     "output_type": "display_data"
    }
   ],
   "source": [
    "#correlation heatmap to interpreat the realationship and mulitcollinearity \n",
    "s = data.select_dtypes(include='number').corr()\n",
    "sns.heatmap(s, annot=True)"
   ]
  },
  {
   "cell_type": "markdown",
   "metadata": {},
   "source": [
    "# Outlier Treatment"
   ]
  },
  {
   "cell_type": "code",
   "execution_count": 238,
   "metadata": {},
   "outputs": [
    {
     "name": "stdout",
     "output_type": "stream",
     "text": [
      "<class 'pandas.core.frame.DataFrame'>\n",
      "RangeIndex: 45211 entries, 0 to 45210\n",
      "Data columns (total 17 columns):\n",
      " #   Column     Non-Null Count  Dtype \n",
      "---  ------     --------------  ----- \n",
      " 0   age        45211 non-null  int64 \n",
      " 1   job        45211 non-null  object\n",
      " 2   marital    45211 non-null  object\n",
      " 3   education  45211 non-null  object\n",
      " 4   default    45211 non-null  object\n",
      " 5   balance    45211 non-null  int64 \n",
      " 6   housing    45211 non-null  object\n",
      " 7   loan       45211 non-null  object\n",
      " 8   contact    45211 non-null  object\n",
      " 9   day        45211 non-null  int64 \n",
      " 10  month      45211 non-null  object\n",
      " 11  duration   45211 non-null  int64 \n",
      " 12  campaign   45211 non-null  int64 \n",
      " 13  pdays      45211 non-null  int64 \n",
      " 14  previous   45211 non-null  int64 \n",
      " 15  poutcome   45211 non-null  object\n",
      " 16  y          45211 non-null  object\n",
      "dtypes: int64(7), object(10)\n",
      "memory usage: 5.9+ MB\n"
     ]
    }
   ],
   "source": [
    "data.info()"
   ]
  },
  {
   "cell_type": "code",
   "execution_count": 239,
   "metadata": {},
   "outputs": [],
   "source": [
    "# for col in ['age', 'balance', 'campaign', 'duration']:\n",
    "#     if data[col].dtype == 'int64':\n",
    "#         # Calculate IQR for detecting outliers\n",
    "#         Q1 = data[col].quantile(0.25)\n",
    "#         Q3 = data[col].quantile(0.75)\n",
    "#         IQR = Q3 - Q1\n",
    "\n",
    "#         # Define the lower and upper limits for outliers\n",
    "#         lower_limit = Q1 - 1.5 * IQR\n",
    "#         upper_limit = Q3 + 1.5 * IQR\n",
    "\n",
    "#         # Cap the values in the column to the defined limits\n",
    "#         data[col] = np.where(data[col] < lower_limit, lower_limit, data[col])\n",
    "#         data[col] = np.where(data[col] > upper_limit, upper_limit, data[col])\n",
    "\n",
    "#         # Convert the column to integer type if it originally contained integers\n",
    "    \n",
    "#         data[col] = data[col].astype(int)"
   ]
  },
  {
   "cell_type": "code",
   "execution_count": 240,
   "metadata": {},
   "outputs": [
    {
     "name": "stdout",
     "output_type": "stream",
     "text": [
      "<class 'pandas.core.frame.DataFrame'>\n",
      "RangeIndex: 45211 entries, 0 to 45210\n",
      "Data columns (total 17 columns):\n",
      " #   Column     Non-Null Count  Dtype \n",
      "---  ------     --------------  ----- \n",
      " 0   age        45211 non-null  int64 \n",
      " 1   job        45211 non-null  object\n",
      " 2   marital    45211 non-null  object\n",
      " 3   education  45211 non-null  object\n",
      " 4   default    45211 non-null  object\n",
      " 5   balance    45211 non-null  int64 \n",
      " 6   housing    45211 non-null  object\n",
      " 7   loan       45211 non-null  object\n",
      " 8   contact    45211 non-null  object\n",
      " 9   day        45211 non-null  int64 \n",
      " 10  month      45211 non-null  object\n",
      " 11  duration   45211 non-null  int64 \n",
      " 12  campaign   45211 non-null  int64 \n",
      " 13  pdays      45211 non-null  int64 \n",
      " 14  previous   45211 non-null  int64 \n",
      " 15  poutcome   45211 non-null  object\n",
      " 16  y          45211 non-null  object\n",
      "dtypes: int64(7), object(10)\n",
      "memory usage: 5.9+ MB\n"
     ]
    }
   ],
   "source": [
    "data.info()"
   ]
  },
  {
   "cell_type": "code",
   "execution_count": 241,
   "metadata": {},
   "outputs": [
    {
     "data": {
      "image/png": "[encoded data removed]",
      "text/plain": [
       "<Figure size 640x480 with 1 Axes>"
      ]
     },
     "metadata": {},
     "output_type": "display_data"
    },
    {
     "data": {
      "image/png": "[encoded data removed]",
      "text/plain": [
       "<Figure size 640x480 with 1 Axes>"
      ]
     },
     "metadata": {},
     "output_type": "display_data"
    },
    {
     "data": {
      "image/png": "[encoded data removed]",
      "text/plain": [
       "<Figure size 640x480 with 1 Axes>"
      ]
     },
     "metadata": {},
     "output_type": "display_data"
    },
    {
     "data": {
      "image/png": "[encoded data removed]",
      "text/plain": [
       "<Figure size 640x480 with 1 Axes>"
      ]
     },
     "metadata": {},
     "output_type": "display_data"
    },
    {
     "data": {
      "image/png": "[encoded data removed]",
      "text/plain": [
       "<Figure size 640x480 with 1 Axes>"
      ]
     },
     "metadata": {},
     "output_type": "display_data"
    }
   ],
   "source": [
    "\n",
    "for col in ['age', 'balance', 'campaign', 'day', 'duration']:\n",
    "    sns.boxplot(data[col])\n",
    "    plt.title(f\"Boxplot for {col}\")\n",
    "    plt.show()\n"
   ]
  },
  {
   "cell_type": "markdown",
   "metadata": {},
   "source": [
    "# Feature Engineering"
   ]
  },
  {
   "cell_type": "markdown",
   "metadata": {},
   "source": [
    "## Feature transformation"
   ]
  },
  {
   "cell_type": "code",
   "execution_count": 242,
   "metadata": {},
   "outputs": [],
   "source": [
    "# Drop or create a binary feature for 'pdays' (days since last contact)\n",
    "# data['previously_contacted'] = data['pdays'].apply(lambda x: 1 if x != -1 else 0)\n",
    "data = data.drop(['pdays'], axis=1)  # Drop 'pdays' if it leads to leakage\n",
    "\n",
    "# 2. Drop 'duration' feature to avoid leakage\n",
    "data = data.drop(['duration'], axis=1)"
   ]
  },
  {
   "cell_type": "code",
   "execution_count": 243,
   "metadata": {},
   "outputs": [],
   "source": [
    "# import pandas as pd\n",
    "\n",
    "# # Create the new feature 'contact_intensity'\n",
    "# data['contact_intensity'] = data['pdays'] * data['previous']\n"
   ]
  },
  {
   "cell_type": "code",
   "execution_count": 244,
   "metadata": {},
   "outputs": [],
   "source": [
    "# Create an interaction feature for high balance and no previous contact\n",
    "data['balance_no_previous'] = data['balance'] * (data['previous'] == 0)"
   ]
  },
  {
   "cell_type": "code",
   "execution_count": 245,
   "metadata": {},
   "outputs": [],
   "source": [
    "# data.to_csv('new_feature_data.csv', index=False)"
   ]
  },
  {
   "cell_type": "code",
   "execution_count": 246,
   "metadata": {},
   "outputs": [],
   "source": [
    "# # Duration Binning\n",
    "# data['duration_bin'] = pd.cut(data['duration'], bins=[0, 300, 600, float('inf')],\n",
    "#                               labels=['short', 'medium', 'long'])\n",
    "# data = pd.get_dummies(data, columns=['duration_bin'], drop_first=True)\n",
    "\n",
    "# Contact Interaction\n",
    "# data['successful_contact'] = data['contact'] + \"_\" + data['poutcome']\n",
    "# data = pd.get_dummies(data, columns=['successful_contact'], drop_first=True)\n"
   ]
  },
  {
   "cell_type": "code",
   "execution_count": 247,
   "metadata": {},
   "outputs": [],
   "source": [
    "from sklearn.preprocessing import LabelEncoder\n",
    "\n",
    "# Age Binning\n",
    "data['age_group'] = pd.cut(data['age'], bins=[0, 25, 45, 100], labels=['young', 'middle-aged', 'old'])\n",
    "\n",
    "# Label Encoding for age_group\n",
    "label_encoder = LabelEncoder()\n",
    "data['age_group'] = label_encoder.fit_transform(data['age_group'])\n"
   ]
  },
  {
   "cell_type": "code",
   "execution_count": 248,
   "metadata": {},
   "outputs": [],
   "source": [
    "data['successful_contact'] = data['contact'] + \"_\" + data['poutcome']"
   ]
  },
  {
   "cell_type": "code",
   "execution_count": 249,
   "metadata": {},
   "outputs": [],
   "source": [
    "label_encoder = LabelEncoder()\n",
    "data['successful_contact'] = label_encoder.fit_transform(data['successful_contact'])"
   ]
  },
  {
   "cell_type": "code",
   "execution_count": 250,
   "metadata": {},
   "outputs": [],
   "source": [
    "data = data.drop(columns=['age','contact', 'poutcome'])\n",
    "\n",
    "# data = data.drop(columns=['previous'])\n",
    "# data = data.drop(columns=['duration'])"
   ]
  },
  {
   "cell_type": "code",
   "execution_count": 251,
   "metadata": {},
   "outputs": [],
   "source": [
    "# # Drop the unnecessary columns after transformations and encoding\n",
    "# data = data.drop(columns=['age', 'contact', 'poutcome', 'duration', 'pdays','previous'])\n"
   ]
  },
  {
   "cell_type": "markdown",
   "metadata": {},
   "source": [
    "## Encoding the data"
   ]
  },
  {
   "cell_type": "code",
   "execution_count": 252,
   "metadata": {},
   "outputs": [
    {
     "name": "stdout",
     "output_type": "stream",
     "text": [
      "<class 'pandas.core.frame.DataFrame'>\n",
      "RangeIndex: 45211 entries, 0 to 45210\n",
      "Data columns (total 15 columns):\n",
      " #   Column               Non-Null Count  Dtype \n",
      "---  ------               --------------  ----- \n",
      " 0   job                  45211 non-null  object\n",
      " 1   marital              45211 non-null  object\n",
      " 2   education            45211 non-null  object\n",
      " 3   default              45211 non-null  object\n",
      " 4   balance              45211 non-null  int64 \n",
      " 5   housing              45211 non-null  object\n",
      " 6   loan                 45211 non-null  object\n",
      " 7   day                  45211 non-null  int64 \n",
      " 8   month                45211 non-null  object\n",
      " 9   campaign             45211 non-null  int64 \n",
      " 10  previous             45211 non-null  int64 \n",
      " 11  y                    45211 non-null  object\n",
      " 12  balance_no_previous  45211 non-null  int64 \n",
      " 13  age_group            45211 non-null  int64 \n",
      " 14  successful_contact   45211 non-null  int64 \n",
      "dtypes: int64(7), object(8)\n",
      "memory usage: 5.2+ MB\n"
     ]
    }
   ],
   "source": [
    "data.info()"
   ]
  },
  {
   "cell_type": "code",
   "execution_count": 253,
   "metadata": {},
   "outputs": [],
   "source": [
    "# Binary Features\n",
    "binary_columns = ['default', 'housing', 'loan', 'y']\n",
    "\n",
    "for col in binary_columns:\n",
    "    data[col] = data[col].map({'yes': 1, 'no': 0})\n"
   ]
  },
  {
   "cell_type": "code",
   "execution_count": 254,
   "metadata": {},
   "outputs": [],
   "source": [
    "# Categorical Features\n",
    "# categorical_columns = ['job', 'marital', 'education', 'contact', 'month', 'poutcome'] \n",
    "\n",
    "\n",
    "# # delete if needed\n",
    "categorical_columns = ['job', 'marital', 'education', 'month'] \n",
    "\n",
    "# for col in categorical_columns:\n",
    "#     data[col] = data[col].astype('category')\n",
    "\n",
    "data = pd.get_dummies(data, columns=categorical_columns, drop_first=True)\n",
    "\n",
    "data = data.astype('int64')\n"
   ]
  },
  {
   "cell_type": "code",
   "execution_count": 255,
   "metadata": {},
   "outputs": [
    {
     "name": "stdout",
     "output_type": "stream",
     "text": [
      "<class 'pandas.core.frame.DataFrame'>\n",
      "RangeIndex: 45211 entries, 0 to 45210\n",
      "Data columns (total 38 columns):\n",
      " #   Column               Non-Null Count  Dtype\n",
      "---  ------               --------------  -----\n",
      " 0   default              45211 non-null  int64\n",
      " 1   balance              45211 non-null  int64\n",
      " 2   housing              45211 non-null  int64\n",
      " 3   loan                 45211 non-null  int64\n",
      " 4   day                  45211 non-null  int64\n",
      " 5   campaign             45211 non-null  int64\n",
      " 6   previous             45211 non-null  int64\n",
      " 7   y                    45211 non-null  int64\n",
      " 8   balance_no_previous  45211 non-null  int64\n",
      " 9   age_group            45211 non-null  int64\n",
      " 10  successful_contact   45211 non-null  int64\n",
      " 11  job_blue-collar      45211 non-null  int64\n",
      " 12  job_entrepreneur     45211 non-null  int64\n",
      " 13  job_housemaid        45211 non-null  int64\n",
      " 14  job_management       45211 non-null  int64\n",
      " 15  job_retired          45211 non-null  int64\n",
      " 16  job_self-employed    45211 non-null  int64\n",
      " 17  job_services         45211 non-null  int64\n",
      " 18  job_student          45211 non-null  int64\n",
      " 19  job_technician       45211 non-null  int64\n",
      " 20  job_unemployed       45211 non-null  int64\n",
      " 21  job_unknown          45211 non-null  int64\n",
      " 22  marital_married      45211 non-null  int64\n",
      " 23  marital_single       45211 non-null  int64\n",
      " 24  education_secondary  45211 non-null  int64\n",
      " 25  education_tertiary   45211 non-null  int64\n",
      " 26  education_unknown    45211 non-null  int64\n",
      " 27  month_aug            45211 non-null  int64\n",
      " 28  month_dec            45211 non-null  int64\n",
      " 29  month_feb            45211 non-null  int64\n",
      " 30  month_jan            45211 non-null  int64\n",
      " 31  month_jul            45211 non-null  int64\n",
      " 32  month_jun            45211 non-null  int64\n",
      " 33  month_mar            45211 non-null  int64\n",
      " 34  month_may            45211 non-null  int64\n",
      " 35  month_nov            45211 non-null  int64\n",
      " 36  month_oct            45211 non-null  int64\n",
      " 37  month_sep            45211 non-null  int64\n",
      "dtypes: int64(38)\n",
      "memory usage: 13.1 MB\n"
     ]
    }
   ],
   "source": [
    "data.info()"
   ]
  },
  {
   "cell_type": "markdown",
   "metadata": {},
   "source": []
  },
  {
   "cell_type": "code",
   "execution_count": 256,
   "metadata": {},
   "outputs": [],
   "source": [
    "correlation_matrix = data.corr()\n",
    "\n",
    "correlation_with_y = correlation_matrix['y'].sort_values(ascending=False)\n",
    "\n"
   ]
  },
  {
   "cell_type": "code",
   "execution_count": 257,
   "metadata": {},
   "outputs": [
    {
     "name": "stdout",
     "output_type": "stream",
     "text": [
      "Correlation with y:\n",
      "y                      1.000000\n",
      "month_mar              0.129456\n",
      "month_oct              0.128531\n",
      "month_sep              0.123185\n",
      "previous               0.093236\n",
      "job_retired            0.079245\n",
      "job_student            0.076897\n",
      "month_dec              0.075164\n",
      "education_tertiary     0.066448\n",
      "marital_single         0.063526\n",
      "age_group              0.055330\n",
      "balance                0.052838\n",
      "month_feb              0.038417\n",
      "job_management         0.032919\n",
      "job_unemployed         0.020390\n",
      "education_unknown      0.012053\n",
      "balance_no_previous    0.001380\n",
      "job_self-employed      0.000855\n",
      "job_unknown            0.000267\n",
      "month_aug             -0.008536\n",
      "month_jan             -0.008783\n",
      "job_technician        -0.008970\n",
      "month_nov             -0.014937\n",
      "job_housemaid         -0.015195\n",
      "month_jun             -0.016805\n",
      "job_entrepreneur      -0.019662\n",
      "default               -0.022419\n",
      "job_services          -0.027864\n",
      "day                   -0.028348\n",
      "month_jul             -0.034382\n",
      "education_secondary   -0.036388\n",
      "marital_married       -0.060260\n",
      "loan                  -0.068185\n",
      "job_blue-collar       -0.072083\n",
      "campaign              -0.073172\n",
      "month_may             -0.102500\n",
      "housing               -0.139173\n",
      "successful_contact    -0.153396\n",
      "Name: y, dtype: float64\n"
     ]
    }
   ],
   "source": [
    "\n",
    "print(\"Correlation with y:\")\n",
    "print(correlation_with_y)"
   ]
  },
  {
   "cell_type": "code",
   "execution_count": 258,
   "metadata": {},
   "outputs": [],
   "source": [
    "data.to_csv('processed_data_Encoding.csv', index=False)"
   ]
  },
  {
   "cell_type": "markdown",
   "metadata": {},
   "source": [
    "#  Normalize/Scale Numerical Features "
   ]
  },
  {
   "cell_type": "markdown",
   "metadata": {},
   "source": [
    "min max scaling"
   ]
  },
  {
   "cell_type": "code",
   "execution_count": 259,
   "metadata": {},
   "outputs": [],
   "source": [
    "# from sklearn.preprocessing import MinMaxScaler\n",
    "\n",
    "# scaler = MinMaxScaler()\n",
    "# # numerical_cols = ['age', 'balance', 'duration', 'campaign', 'pdays', 'previous']\n",
    "\n",
    "# numerical_cols = ['balance', 'campaign',  'previous']\n",
    "\n",
    "# data[numerical_cols] = scaler.fit_transform(data[numerical_cols])\n"
   ]
  },
  {
   "cell_type": "code",
   "execution_count": 260,
   "metadata": {},
   "outputs": [],
   "source": [
    "from sklearn.preprocessing import StandardScaler\n",
    "\n",
    "# Assuming your dataset is stored in a pandas DataFrame called `df`\n",
    "# numerical_cols = ['age', 'balance', 'duration', 'campaign', 'pdays', 'previous']\n",
    "\n",
    "numerical_cols = ['balance', 'campaign',  'previous']\n",
    "\n",
    "# Apply scaling only to the specified numerical columns\n",
    "scaler = StandardScaler()\n",
    "data[numerical_cols] = scaler.fit_transform(data[numerical_cols])\n"
   ]
  },
  {
   "cell_type": "code",
   "execution_count": 261,
   "metadata": {},
   "outputs": [],
   "source": [
    "# # Save the processed DataFrame to a CSV file\n",
    "data.to_csv(\"processed_data_Scaling.csv\", index=False)  # Use index=False to avoid saving the index as a separate column"
   ]
  },
  {
   "cell_type": "code",
   "execution_count": 263,
   "metadata": {},
   "outputs": [
    {
     "name": "stdout",
     "output_type": "stream",
     "text": [
      "Explained variance by each component: [0.34798967 0.32965744 0.3223529 ]\n",
      "Total variance explained: 1.0\n",
      "Dataset with PCA components saved as 'dataset_with_pca.csv'\n"
     ]
    }
   ],
   "source": [
    "from sklearn.decomposition import PCA\n",
    "\n",
    "pca = PCA(n_components=0.95)  # Retain 95% of the variance\n",
    "principal_components = pca.fit_transform(data[numerical_cols])\n",
    "\n",
    "# Create a DataFrame with the principal components\n",
    "pca_columns = [f\"PC{i+1}\" for i in range(principal_components.shape[1])]\n",
    "pca_df = pd.DataFrame(principal_components, columns=pca_columns)\n",
    "\n",
    "data = pd.concat([data, pca_df], axis=1)\n",
    "\n",
    "# Check explained variance ratio\n",
    "explained_variance = pca.explained_variance_ratio_\n",
    "print(f\"Explained variance by each component: {explained_variance}\")\n",
    "print(f\"Total variance explained: {explained_variance.sum()}\")\n",
    "\n",
    "# Save the DataFrame with PCA components to a CSV file\n",
    "data.to_csv(\"processed_data_PCA.csv\", index=False)\n",
    "print(\"Dataset with PCA components saved as 'dataset_with_pca.csv'\")"
   ]
  },
  {
   "cell_type": "code",
   "execution_count": 192,
   "metadata": {},
   "outputs": [
    {
     "data": {
      "text/html": [
       "<div>\n",
       "<style scoped>\n",
       "    .dataframe tbody tr th:only-of-type {\n",
       "        vertical-align: middle;\n",
       "    }\n",
       "\n",
       "    .dataframe tbody tr th {\n",
       "        vertical-align: top;\n",
       "    }\n",
       "\n",
       "    .dataframe thead th {\n",
       "        text-align: right;\n",
       "    }\n",
       "</style>\n",
       "<table border=\"1\" class=\"dataframe\">\n",
       "  <thead>\n",
       "    <tr style=\"text-align: right;\">\n",
       "      <th></th>\n",
       "      <th>default</th>\n",
       "      <th>balance</th>\n",
       "      <th>housing</th>\n",
       "      <th>loan</th>\n",
       "      <th>day</th>\n",
       "      <th>campaign</th>\n",
       "      <th>previous</th>\n",
       "      <th>y</th>\n",
       "      <th>balance_no_previous</th>\n",
       "      <th>age_group</th>\n",
       "      <th>...</th>\n",
       "      <th>month_dec</th>\n",
       "      <th>month_feb</th>\n",
       "      <th>month_jan</th>\n",
       "      <th>month_jul</th>\n",
       "      <th>month_jun</th>\n",
       "      <th>month_mar</th>\n",
       "      <th>month_may</th>\n",
       "      <th>month_nov</th>\n",
       "      <th>month_oct</th>\n",
       "      <th>month_sep</th>\n",
       "    </tr>\n",
       "  </thead>\n",
       "  <tbody>\n",
       "    <tr>\n",
       "      <th>0</th>\n",
       "      <td>0</td>\n",
       "      <td>0.256419</td>\n",
       "      <td>1</td>\n",
       "      <td>0</td>\n",
       "      <td>5</td>\n",
       "      <td>-0.569351</td>\n",
       "      <td>-0.25194</td>\n",
       "      <td>0</td>\n",
       "      <td>2143</td>\n",
       "      <td>1</td>\n",
       "      <td>...</td>\n",
       "      <td>0</td>\n",
       "      <td>0</td>\n",
       "      <td>0</td>\n",
       "      <td>0</td>\n",
       "      <td>0</td>\n",
       "      <td>0</td>\n",
       "      <td>1</td>\n",
       "      <td>0</td>\n",
       "      <td>0</td>\n",
       "      <td>0</td>\n",
       "    </tr>\n",
       "    <tr>\n",
       "      <th>1</th>\n",
       "      <td>0</td>\n",
       "      <td>-0.437895</td>\n",
       "      <td>1</td>\n",
       "      <td>0</td>\n",
       "      <td>5</td>\n",
       "      <td>-0.569351</td>\n",
       "      <td>-0.25194</td>\n",
       "      <td>0</td>\n",
       "      <td>29</td>\n",
       "      <td>0</td>\n",
       "      <td>...</td>\n",
       "      <td>0</td>\n",
       "      <td>0</td>\n",
       "      <td>0</td>\n",
       "      <td>0</td>\n",
       "      <td>0</td>\n",
       "      <td>0</td>\n",
       "      <td>1</td>\n",
       "      <td>0</td>\n",
       "      <td>0</td>\n",
       "      <td>0</td>\n",
       "    </tr>\n",
       "    <tr>\n",
       "      <th>2</th>\n",
       "      <td>0</td>\n",
       "      <td>-0.446762</td>\n",
       "      <td>1</td>\n",
       "      <td>1</td>\n",
       "      <td>5</td>\n",
       "      <td>-0.569351</td>\n",
       "      <td>-0.25194</td>\n",
       "      <td>0</td>\n",
       "      <td>2</td>\n",
       "      <td>0</td>\n",
       "      <td>...</td>\n",
       "      <td>0</td>\n",
       "      <td>0</td>\n",
       "      <td>0</td>\n",
       "      <td>0</td>\n",
       "      <td>0</td>\n",
       "      <td>0</td>\n",
       "      <td>1</td>\n",
       "      <td>0</td>\n",
       "      <td>0</td>\n",
       "      <td>0</td>\n",
       "    </tr>\n",
       "    <tr>\n",
       "      <th>3</th>\n",
       "      <td>0</td>\n",
       "      <td>0.047205</td>\n",
       "      <td>1</td>\n",
       "      <td>0</td>\n",
       "      <td>5</td>\n",
       "      <td>-0.569351</td>\n",
       "      <td>-0.25194</td>\n",
       "      <td>0</td>\n",
       "      <td>1506</td>\n",
       "      <td>1</td>\n",
       "      <td>...</td>\n",
       "      <td>0</td>\n",
       "      <td>0</td>\n",
       "      <td>0</td>\n",
       "      <td>0</td>\n",
       "      <td>0</td>\n",
       "      <td>0</td>\n",
       "      <td>1</td>\n",
       "      <td>0</td>\n",
       "      <td>0</td>\n",
       "      <td>0</td>\n",
       "    </tr>\n",
       "    <tr>\n",
       "      <th>4</th>\n",
       "      <td>0</td>\n",
       "      <td>-0.447091</td>\n",
       "      <td>0</td>\n",
       "      <td>0</td>\n",
       "      <td>5</td>\n",
       "      <td>-0.569351</td>\n",
       "      <td>-0.25194</td>\n",
       "      <td>0</td>\n",
       "      <td>1</td>\n",
       "      <td>0</td>\n",
       "      <td>...</td>\n",
       "      <td>0</td>\n",
       "      <td>0</td>\n",
       "      <td>0</td>\n",
       "      <td>0</td>\n",
       "      <td>0</td>\n",
       "      <td>0</td>\n",
       "      <td>1</td>\n",
       "      <td>0</td>\n",
       "      <td>0</td>\n",
       "      <td>0</td>\n",
       "    </tr>\n",
       "  </tbody>\n",
       "</table>\n",
       "<p>5 rows × 38 columns</p>\n",
       "</div>"
      ],
      "text/plain": [
       "   default   balance  housing  loan  day  campaign  previous  y  \\\n",
       "0        0  0.256419        1     0    5 -0.569351  -0.25194  0   \n",
       "1        0 -0.437895        1     0    5 -0.569351  -0.25194  0   \n",
       "2        0 -0.446762        1     1    5 -0.569351  -0.25194  0   \n",
       "3        0  0.047205        1     0    5 -0.569351  -0.25194  0   \n",
       "4        0 -0.447091        0     0    5 -0.569351  -0.25194  0   \n",
       "\n",
       "   balance_no_previous  age_group  ...  month_dec  month_feb  month_jan  \\\n",
       "0                 2143          1  ...          0          0          0   \n",
       "1                   29          0  ...          0          0          0   \n",
       "2                    2          0  ...          0          0          0   \n",
       "3                 1506          1  ...          0          0          0   \n",
       "4                    1          0  ...          0          0          0   \n",
       "\n",
       "   month_jul  month_jun  month_mar  month_may  month_nov  month_oct  month_sep  \n",
       "0          0          0          0          1          0          0          0  \n",
       "1          0          0          0          1          0          0          0  \n",
       "2          0          0          0          1          0          0          0  \n",
       "3          0          0          0          1          0          0          0  \n",
       "4          0          0          0          1          0          0          0  \n",
       "\n",
       "[5 rows x 38 columns]"
      ]
     },
     "execution_count": 192,
     "metadata": {},
     "output_type": "execute_result"
    }
   ],
   "source": [
    "data.head()"
   ]
  },
  {
   "cell_type": "code",
   "execution_count": 193,
   "metadata": {},
   "outputs": [],
   "source": [
    "# # Save the processed DataFrame to a CSV file\n",
    "data.to_csv(\"processed_data_PCA.csv\", index=False)  # Use index=False to avoid saving the index as a separate column"
   ]
  },
  {
   "cell_type": "markdown",
   "metadata": {},
   "source": [
    "# Split the Data"
   ]
  },
  {
   "cell_type": "code",
   "execution_count": 194,
   "metadata": {},
   "outputs": [],
   "source": [
    "from sklearn.model_selection import train_test_split\n",
    "\n",
    "# Separate features and target\n",
    "X = data.drop('y', axis=1)  # Assuming 'y' is your target column\n",
    "y = data['y']\n",
    "\n",
    "# Split the dataset\n",
    "X_train, X_test, y_train, y_test = train_test_split(X, y, test_size=0.2, random_state=42, stratify=y)"
   ]
  },
  {
   "cell_type": "code",
   "execution_count": null,
   "metadata": {},
   "outputs": [],
   "source": []
  },
  {
   "cell_type": "markdown",
   "metadata": {},
   "source": [
    "# MOdel IMpementing"
   ]
  },
  {
   "cell_type": "markdown",
   "metadata": {},
   "source": [
    "## RF using scikit "
   ]
  },
  {
   "cell_type": "code",
   "execution_count": null,
   "metadata": {},
   "outputs": [
    {
     "name": "stdout",
     "output_type": "stream",
     "text": [
      "Random Forest - Training Accuracy: 0.9997511612475116\n",
      "Random Forest - Test Accuracy: 0.8914077186774301\n",
      "Random Forest - Classification Report:\n",
      "              precision    recall  f1-score   support\n",
      "\n",
      "           0       0.90      0.98      0.94      7985\n",
      "           1       0.61      0.20      0.31      1058\n",
      "\n",
      "    accuracy                           0.89      9043\n",
      "   macro avg       0.75      0.59      0.62      9043\n",
      "weighted avg       0.87      0.89      0.87      9043\n",
      "\n"
     ]
    },
    {
     "data": {
      "image/png": "[encoded data removed]",
      "text/plain": [
       "<Figure size 640x480 with 2 Axes>"
      ]
     },
     "metadata": {},
     "output_type": "display_data"
    }
   ],
   "source": [
    "from sklearn.ensemble import RandomForestClassifier\n",
    "from sklearn.metrics import accuracy_score, classification_report, confusion_matrix\n",
    "\n",
    "# Initialize the model\n",
    "rf_model = RandomForestClassifier(random_state=42)\n",
    "\n",
    "# Train the model\n",
    "rf_model.fit(X_train, y_train)\n",
    "\n",
    "# Make predictions\n",
    "rf_y_pred_train = rf_model.predict(X_train)\n",
    "rf_y_pred_test = rf_model.predict(X_test)\n",
    "\n",
    "# Evaluate\n",
    "print(\"Random Forest - Training Accuracy:\", accuracy_score(y_train, rf_y_pred_train))\n",
    "print(\"Random Forest - Test Accuracy:\", accuracy_score(y_test, rf_y_pred_test))\n",
    "\n",
    "# Classification Report\n",
    "print(\"Random Forest - Classification Report:\")\n",
    "print(classification_report(y_test, rf_y_pred_test))\n",
    "\n",
    "# Confusion Matrix\n",
    "sns.heatmap(confusion_matrix(y_test, rf_y_pred_test), annot=True, fmt='d')\n",
    "plt.title(\"Random Forest - Confusion Matrix\")\n",
    "plt.show()\n"
   ]
  },
  {
   "cell_type": "code",
   "execution_count": null,
   "metadata": {},
   "outputs": [],
   "source": []
  },
  {
   "cell_type": "markdown",
   "metadata": {},
   "source": [
    "## NN using tensorflow "
   ]
  },
  {
   "cell_type": "code",
   "execution_count": 196,
   "metadata": {},
   "outputs": [],
   "source": [
    "# import tensorflow as tf\n",
    "# from tensorflow.keras.models import Sequential\n",
    "# from tensorflow.keras.layers import Dense\n",
    "# from tensorflow.keras.callbacks import EarlyStopping\n",
    "# from sklearn.metrics import accuracy_score, classification_report\n",
    "\n",
    "# # Build Neural Network Model\n",
    "# nn_model = Sequential([\n",
    "#     Dense(128, activation='relu', input_shape=(X_train.shape[1],)),\n",
    "#     Dense(64, activation='relu'),\n",
    "#     Dense(32, activation='relu'),\n",
    "#     Dense(1, activation='sigmoid')  # Binary classification\n",
    "# ])\n",
    "\n",
    "# # Compile Model\n",
    "# nn_model.compile(optimizer='adam', loss='binary_crossentropy', metrics=['accuracy'])\n",
    "\n",
    "# # Train the Model\n",
    "# early_stop = EarlyStopping(monitor='val_loss', patience=5)\n",
    "# history = nn_model.fit(X_train, y_train, validation_split=0.2, epochs=50, batch_size=32, callbacks=[early_stop], verbose=1)\n",
    "\n",
    "# # Predictions\n",
    "# nn_test_preds = (nn_model.predict(X_test) > 0.5).astype(\"int32\")\n",
    "\n",
    "# nn_ten =accuracy_score(y_test, nn_test_preds)\n",
    "\n",
    "# # Evaluation\n",
    "# print(\"Neural Network - Testing Accuracy:\", nn_ten)\n",
    "# print(\"\\nClassification Report (Testing):\\n\", classification_report(y_test, nn_test_preds))\n"
   ]
  },
  {
   "cell_type": "code",
   "execution_count": 197,
   "metadata": {},
   "outputs": [],
   "source": [
    "# import tensorflow as tf\n",
    "# from tensorflow.keras.models import Sequential\n",
    "# from tensorflow.keras.layers import Dense\n",
    "# from tensorflow.keras.callbacks import EarlyStopping\n",
    "# from sklearn.metrics import accuracy_score, classification_report\n",
    "\n",
    "# # Build Neural Network Model\n",
    "# nn_model = Sequential([\n",
    "#     Dense(128, activation='relu', input_shape=(X_train.shape[1],), name=\"Input_Layer\"),\n",
    "#     Dense(64, activation='relu', name=\"Hidden_Layer1\"),\n",
    "#     Dense(32, activation='relu', name=\"Hidden_Layer2\"),\n",
    "#     Dense(1, activation='sigmoid', name=\"Output_Layer\")  # Binary classification\n",
    "# ])\n",
    "\n",
    "# # Compile Model\n",
    "# nn_model.compile(optimizer='adam', loss='binary_crossentropy', metrics=['accuracy'])\n",
    "\n",
    "# # Train the Model\n",
    "# early_stop = EarlyStopping(monitor='val_loss', patience=5, restore_best_weights=True, verbose=1)\n",
    "# history = nn_model.fit(\n",
    "#     X_train, y_train, validation_split=0.2, epochs=50, batch_size=32, callbacks=[early_stop], verbose=1\n",
    "# )\n",
    "\n",
    "# # Evaluate on Test Set\n",
    "# nn_test_preds = (nn_model.predict(X_test) > 0.5).astype(\"int32\")\n",
    "# test_accuracy = accuracy_score(y_test, nn_test_preds)\n",
    "# print(\"Testing Accuracy:\", test_accuracy)\n",
    "# print(\"\\nClassification Report (Testing):\\n\", classification_report(y_test, nn_test_preds))\n"
   ]
  },
  {
   "cell_type": "markdown",
   "metadata": {},
   "source": [
    "## NN using pytorch"
   ]
  },
  {
   "cell_type": "code",
   "execution_count": 198,
   "metadata": {},
   "outputs": [],
   "source": [
    "# import torch\n",
    "# import torch.nn as nn\n",
    "# import torch.optim as optim\n",
    "# from sklearn.metrics import accuracy_score, classification_report, confusion_matrix\n",
    "# from torch.utils.data import DataLoader, TensorDataset\n",
    "\n",
    "\n",
    "# # Convert DataFrames to PyTorch tensors\n",
    "# X_train_tensor = torch.tensor(X_train.values, dtype=torch.float32)\n",
    "# y_train_tensor = torch.tensor(y_train.values, dtype=torch.long)\n",
    "\n",
    "# X_test_tensor = torch.tensor(X_test.values, dtype=torch.float32)\n",
    "# y_test_tensor = torch.tensor(y_test.values, dtype=torch.long)\n",
    "\n",
    "# # Create DataLoader for batching\n",
    "# train_dataset = TensorDataset(X_train_tensor, y_train_tensor)\n",
    "# test_dataset = TensorDataset(X_test_tensor, y_test_tensor)\n",
    "\n",
    "# train_loader = DataLoader(train_dataset, batch_size=32, shuffle=True)\n",
    "# test_loader = DataLoader(test_dataset, batch_size=32, shuffle=False)\n",
    "\n",
    "\n",
    "# class NeuralNet(nn.Module):\n",
    "#     def __init__(self, input_size, hidden_size, output_size):\n",
    "#         super(NeuralNet, self).__init__()\n",
    "#         self.fc1 = nn.Linear(input_size, hidden_size)  # First hidden layer\n",
    "#         self.relu = nn.ReLU()                         # Activation function\n",
    "#         self.fc2 = nn.Linear(hidden_size, output_size) # Output layer\n",
    "\n",
    "#     def forward(self, x):\n",
    "#         x = self.fc1(x)\n",
    "#         x = self.relu(x)\n",
    "#         x = self.fc2(x)\n",
    "#         return x\n",
    "\n",
    "# # Define model parameters\n",
    "# input_size = X_train.shape[1]  # Number of features\n",
    "# hidden_size = 64               # Number of neurons in the hidden layer\n",
    "# output_size = len(y_train.unique())  # Number of output classes (binary: 2)\n",
    "\n",
    "# # Initialize the model\n",
    "# model = NeuralNet(input_size, hidden_size, output_size)\n",
    "\n",
    "# criterion = nn.CrossEntropyLoss()  # Loss function for classification\n",
    "# optimizer = optim.Adam(model.parameters(), lr=0.001)  # Adam optimizer\n",
    "\n",
    "# # Training the model\n",
    "# epochs = 20\n",
    "# model.train()\n",
    "\n",
    "# for epoch in range(epochs):\n",
    "#     epoch_loss = 0\n",
    "#     for X_batch, y_batch in train_loader:\n",
    "#         # Forward pass\n",
    "#         outputs = model(X_batch)\n",
    "#         loss = criterion(outputs, y_batch)\n",
    "\n",
    "#         # Backward pass\n",
    "#         optimizer.zero_grad()\n",
    "#         loss.backward()\n",
    "#         optimizer.step()\n",
    "\n",
    "#         epoch_loss += loss.item()\n",
    "\n",
    "#     print(f\"Epoch {epoch+1}/{epochs}, Loss: {epoch_loss/len(train_loader):.4f}\")\n",
    "\n",
    "# # Evaluation\n",
    "# model.eval()\n",
    "# y_pred = []\n",
    "# y_true = []\n",
    "\n",
    "# with torch.no_grad():\n",
    "#     for X_batch, y_batch in test_loader:\n",
    "#         outputs = model(X_batch)\n",
    "#         _, predicted = torch.max(outputs, 1)\n",
    "#         y_pred.extend(predicted.numpy())\n",
    "#         y_true.extend(y_batch.numpy())\n",
    "\n",
    "# # Metrics\n",
    "# print(\"Accuracy:\", accuracy_score(y_true, y_pred))\n",
    "# print(\"Classification Report:\")\n",
    "# print(classification_report(y_true, y_pred))\n",
    "\n",
    "# # Confusion Matrix\n",
    "# sns.heatmap(confusion_matrix(y_true, y_pred), annot=True, fmt='d', cmap='Blues')\n",
    "# plt.title(\"Confusion Matrix\")\n",
    "# plt.show()\n",
    "\n"
   ]
  },
  {
   "cell_type": "code",
   "execution_count": 199,
   "metadata": {},
   "outputs": [],
   "source": [
    "# import torch\n",
    "# import torch.nn as nn\n",
    "# import torch.optim as optim\n",
    "# from sklearn.metrics import accuracy_score, classification_report, confusion_matrix\n",
    "# from torch.utils.data import DataLoader, TensorDataset\n",
    "\n",
    "# # Ensure reproducibility\n",
    "# torch.manual_seed(42)\n",
    "\n",
    "# # Convert preprocessed DataFrames to PyTorch tensors\n",
    "# X_train_tensor = torch.tensor(X_train.values, dtype=torch.float32)\n",
    "# y_train_tensor = torch.tensor(y_train.values, dtype=torch.long)\n",
    "\n",
    "# X_test_tensor = torch.tensor(X_test.values, dtype=torch.float32)\n",
    "# y_test_tensor = torch.tensor(y_test.values, dtype=torch.long)\n",
    "\n",
    "# # Device setup\n",
    "# device = torch.device(\"cuda\" if torch.cuda.is_available() else \"cpu\")\n",
    "\n",
    "# X_train_tensor, y_train_tensor = X_train_tensor.to(device), y_train_tensor.to(device)\n",
    "# X_test_tensor, y_test_tensor = X_test_tensor.to(device), y_test_tensor.to(device)\n",
    "\n",
    "# # Create DataLoader for batching\n",
    "# train_dataset = TensorDataset(X_train_tensor, y_train_tensor)\n",
    "# test_dataset = TensorDataset(X_test_tensor, y_test_tensor)\n",
    "\n",
    "# train_loader = DataLoader(train_dataset, batch_size=32, shuffle=True)\n",
    "# test_loader = DataLoader(test_dataset, batch_size=32, shuffle=False)\n",
    "\n",
    "# # Neural Network Model\n",
    "# class NeuralNet(nn.Module):\n",
    "#     def __init__(self, input_size, hidden_size, output_size):\n",
    "#         super(NeuralNet, self).__init__()\n",
    "#         self.fc1 = nn.Linear(input_size, hidden_size)  # First hidden layer\n",
    "#         self.relu = nn.ReLU()                         # Activation function\n",
    "#         self.fc2 = nn.Linear(hidden_size, output_size) # Output layer\n",
    "\n",
    "#     def forward(self, x):\n",
    "#         x = self.fc1(x)\n",
    "#         x = self.relu(x)\n",
    "#         x = self.fc2(x)\n",
    "#         return x\n",
    "\n",
    "# # Define model parameters\n",
    "# input_size = X_train.shape[1]  # Number of features\n",
    "# hidden_size = 64               # Number of neurons in the hidden layer\n",
    "# output_size = len(y_train.unique())  # Number of output classes\n",
    "\n",
    "# # Initialize the model\n",
    "# model = NeuralNet(input_size, hidden_size, output_size).to(device)\n",
    "# criterion = nn.CrossEntropyLoss()  # Loss function for classification\n",
    "# optimizer = optim.Adam(model.parameters(), lr=0.001)  # Adam optimizer\n",
    "\n",
    "# # Training the model\n",
    "# epochs = 20\n",
    "# losses = []\n",
    "\n",
    "# for epoch in range(epochs):\n",
    "#     model.train()\n",
    "#     epoch_loss = 0\n",
    "#     correct = 0\n",
    "#     total = 0\n",
    "#     for X_batch, y_batch in train_loader:\n",
    "#         X_batch, y_batch = X_batch.to(device), y_batch.to(device)\n",
    "#         # Forward pass\n",
    "#         outputs = model(X_batch)\n",
    "#         loss = criterion(outputs, y_batch)\n",
    "\n",
    "#         # Backward pass\n",
    "#         optimizer.zero_grad()\n",
    "#         loss.backward()\n",
    "#         optimizer.step()\n",
    "\n",
    "#         epoch_loss += loss.item()\n",
    "#         _, predicted = torch.max(outputs, 1)\n",
    "#         correct += (predicted == y_batch).sum().item()\n",
    "#         total += y_batch.size(0)\n",
    "\n",
    "#     epoch_accuracy = correct / total\n",
    "#     losses.append(epoch_loss / len(train_loader))\n",
    "#     print(f\"Epoch {epoch+1}/{epochs}, Loss: {epoch_loss / len(train_loader):.4f}, Accuracy: {epoch_accuracy:.4f}\")\n",
    "\n",
    "# # Plot training loss\n",
    "# plt.plot(range(1, epochs + 1), losses, marker='o')\n",
    "# plt.title(\"Training Loss\")\n",
    "# plt.xlabel(\"Epoch\")\n",
    "# plt.ylabel(\"Loss\")\n",
    "# plt.grid()\n",
    "# plt.show()\n",
    "\n",
    "# # Evaluation\n",
    "# model.eval()\n",
    "# y_pred = []\n",
    "# y_true = []\n",
    "\n",
    "# with torch.no_grad():\n",
    "#     for X_batch, y_batch in test_loader:\n",
    "#         X_batch, y_batch = X_batch.to(device), y_batch.to(device)\n",
    "#         outputs = model(X_batch)\n",
    "#         _, predicted = torch.max(outputs, 1)\n",
    "#         y_pred.extend(predicted.cpu().numpy())\n",
    "#         y_true.extend(y_batch.cpu().numpy())\n",
    "\n",
    "# # Metrics\n",
    "# print(\"Accuracy:\", accuracy_score(y_true, y_pred))\n",
    "# print(\"Classification Report:\")\n",
    "# print(classification_report(y_true, y_pred))\n",
    "\n",
    "# # Confusion Matrix\n",
    "# plt.figure(figsize=(8, 6))\n",
    "# sns.heatmap(confusion_matrix(y_true, y_pred), annot=True, fmt='d', cmap='Blues')\n",
    "# plt.title(\"Confusion Matrix\")\n",
    "# plt.xlabel(\"Predicted Labels\")\n",
    "# plt.ylabel(\"True Labels\")\n",
    "# plt.show()\n",
    "\n",
    "# # # Save the model\n",
    "# # torch.save(model.state_dict(), 'neural_net_model.pth')\n",
    "# # print(\"Model saved as 'neural_net_model.pth'\")\n"
   ]
  },
  {
   "cell_type": "markdown",
   "metadata": {},
   "source": [
    "# Evaluation"
   ]
  },
  {
   "cell_type": "code",
   "execution_count": 200,
   "metadata": {},
   "outputs": [],
   "source": [
    "# from sklearn.metrics import accuracy_score, classification_report\n",
    "\n",
    "# # Assuming you already have these variables\n",
    "# # rf_y_pred_test: Predicted labels from Random Forest\n",
    "# # nn_y_pred_test_pytorch: Predicted labels from PyTorch Neural Network (y_pred)\n",
    "# # nn_y_pred_test_tensorflow: Predicted labels from TensorFlow Neural Network (nn_test_preds)\n",
    "# # y_test: True labels (ground truth)\n",
    "\n",
    "# # Calculate accuracies using the predicted labels\n",
    "# rf_accuracy = accuracy_score(y_test, rf_y_pred_test)  # Random Forest Accuracy\n",
    "# nn_accuracy = accuracy_score(y_test, y_pred)  # Neural Network Accuracy (PyTorch)\n",
    "# nn_ten_accuracy = accuracy_score(y_test, nn_test_preds)  # Neural Network Accuracy (TensorFlow)\n",
    "\n",
    "# # Printing the accuracies\n",
    "# print(f\"Random Forest Accuracy: {rf_accuracy:.4f}\")\n",
    "# print(f\"Neural Network Accuracy (PyTorch): {nn_accuracy:.4f}\")\n",
    "# print(f\"Neural Network Accuracy (TensorFlow): {nn_ten_accuracy:.4f}\")\n"
   ]
  },
  {
   "cell_type": "code",
   "execution_count": 201,
   "metadata": {},
   "outputs": [],
   "source": [
    "# # Compare Accuracies\n",
    "# rf_accuracy = accuracy_score(y_test, rf_y_pred_test)  # Corrected variable\n",
    "# nn_accuracy = accuracy_score(y_true, y_pred)\n",
    "\n",
    "# print(f\"Random Forest Accuracy: {rf_accuracy:.4f}\")\n",
    "# print(f\"Neural Network Accuracy Pytorch: {nn_accuracy:.4f}\")\n",
    "# print(f\"Neural Network Accuracy tensorflow: {nn_ten:.4f}\")\n",
    "\n",
    "# if nn_accuracy > rf_accuracy:\n",
    "#     print(\"Neural Network performs better.\")\n",
    "# elif rf_accuracy > nn_accuracy:\n",
    "#     print(\"Random Forest performs better.\")\n",
    "# else:\n",
    "#     print(\"Both models perform equally well.\")\n"
   ]
  },
  {
   "cell_type": "code",
   "execution_count": 202,
   "metadata": {},
   "outputs": [],
   "source": [
    "# import matplotlib.pyplot as plt\n",
    "\n",
    "# # List of model names and their corresponding accuracies\n",
    "# model_names = ['Random Forest', 'Neural Network (PyTorch)', 'Neural Network (TensorFlow)']\n",
    "# accuracies = [rf_accuracy, nn_accuracy, nn_ten_accuracy]\n",
    "\n",
    "# # Create the bar chart\n",
    "# plt.bar(model_names, accuracies, color=['blue', 'orange', 'green'])\n",
    "\n",
    "# # Set the y-axis limit to range from 0 to 1 (accuracy is between 0 and 1)\n",
    "# plt.ylim(0, 1)\n",
    "\n",
    "# # Add labels and title\n",
    "# plt.ylabel('Accuracy')\n",
    "# plt.title('Model Accuracy Comparison')\n",
    "\n",
    "# # Display the bar chart\n",
    "# plt.show()\n"
   ]
  },
  {
   "cell_type": "code",
   "execution_count": 203,
   "metadata": {},
   "outputs": [],
   "source": [
    "# # Bar Chart for Accuracy Comparison\n",
    "# model_names = ['Random Forest', 'Neural Network']\n",
    "# accuracies = [rf_accuracy, nn_accuracy]\n",
    "\n",
    "# plt.bar(model_names, accuracies, color=['blue', 'orange'])\n",
    "# plt.ylim(0, 1)\n",
    "# plt.ylabel('Accuracy')\n",
    "# plt.title('Model Accuracy Comparison')\n",
    "# plt.show()\n"
   ]
  },
  {
   "cell_type": "markdown",
   "metadata": {},
   "source": [
    "# Tunning"
   ]
  },
  {
   "cell_type": "markdown",
   "metadata": {},
   "source": [
    "#### RF tunning"
   ]
  },
  {
   "cell_type": "code",
   "execution_count": 204,
   "metadata": {},
   "outputs": [],
   "source": [
    "# from sklearn.ensemble import RandomForestClassifier\n",
    "# from sklearn.model_selection import GridSearchCV\n",
    "\n",
    "# # Define parameter grid\n",
    "# param_grid = {\n",
    "#     'n_estimators': [100, 200, 500],\n",
    "#     'max_depth': [10, 20, None],\n",
    "#     'min_samples_split': [2, 5, 10],\n",
    "#     'min_samples_leaf': [1, 2, 4],\n",
    "#     'max_features': ['sqrt', 'log2', None],\n",
    "#     'bootstrap': [True, False]\n",
    "# }\n",
    "\n",
    "# # Initialize model\n",
    "# rf = RandomForestClassifier(random_state=42)\n",
    "\n",
    "# # Grid search\n",
    "# grid_search = GridSearchCV(estimator=rf, param_grid=param_grid, cv=5, scoring='accuracy', n_jobs=-1)\n",
    "# grid_search.fit(X_train, y_train)\n",
    "\n",
    "# # Best parameters and score\n",
    "# print(\"Best Parameters:\", grid_search.best_params_)\n",
    "# print(\"Best Accuracy:\", grid_search.best_score_)\n"
   ]
  },
  {
   "cell_type": "code",
   "execution_count": 205,
   "metadata": {},
   "outputs": [],
   "source": [
    "# from sklearn.ensemble import RandomForestClassifier\n",
    "# from sklearn.model_selection import GridSearchCV\n",
    "# from sklearn.metrics import accuracy_score, classification_report\n",
    "\n",
    "# # Define the parameter grid\n",
    "# param_grid = {\n",
    "#     'n_estimators': [100, 200, 500],\n",
    "#     'max_depth': [10, 20, None],\n",
    "#     'min_samples_split': [2, 5, 10],\n",
    "#     'min_samples_leaf': [1, 2, 4],\n",
    "#     'max_features': ['sqrt', 'log2', None],\n",
    "#     # 'bootstrap': [True, False]\n",
    "# }\n",
    "\n",
    "# # Initialize the Random Forest Classifier\n",
    "# rf = RandomForestClassifier(random_state=42)\n",
    "\n",
    "# # Perform Grid Search with 5-fold cross-validation\n",
    "# grid_search = GridSearchCV(estimator=rf, param_grid=param_grid, cv=5, n_jobs=-1, scoring='accuracy')\n",
    "# grid_search.fit(X_train, y_train)\n",
    "\n",
    "# # Best hyperparameters and cross-validated accuracy\n",
    "# print(\"Best Parameters:\", grid_search.best_params_)\n",
    "# print(\"Best Cross-Validated Accuracy:\", grid_search.best_score_)\n",
    "\n",
    "# # Use the best model to predict on the test set\n",
    "# best_rf_model = grid_search.best_estimator_\n",
    "# rf_y_pred_test = best_rf_model.predict(X_test)\n",
    "\n",
    "# rf_accuracy_tuned = accuracy_score(y_test, rf_y_pred_test)\n",
    "\n",
    "# # Evaluate on the test set\n",
    "# print(\"Random Forest - Test Accuracy after Tuning:\", rf_accuracy_tuned)\n",
    "# print(\"Random Forest - Classification Report after Tuning:\")\n",
    "# print(classification_report(y_test, rf_y_pred_test))\n"
   ]
  },
  {
   "cell_type": "code",
   "execution_count": 206,
   "metadata": {},
   "outputs": [],
   "source": [
    "# from sklearn.ensemble import RandomForestClassifier\n",
    "# from sklearn.model_selection import GridSearchCV\n",
    "# from sklearn.metrics import accuracy_score, classification_report\n",
    "\n",
    "# # Define the parameter grid\n",
    "# param_grid = {\n",
    "#     'n_estimators': [100, 200, 300],\n",
    "#     'max_depth': [10, 20, 30],\n",
    "#     'min_samples_split': [2, 5, 10],\n",
    "#     'min_samples_leaf': [1, 2, 4],\n",
    "#     'max_features': ['sqrt', 'log2', None],\n",
    "#     # 'bootstrap': [True, False]\n",
    "# }\n",
    "\n",
    "# # Initialize the Random Forest Classifier\n",
    "# rf = RandomForestClassifier(random_state=42)\n",
    "\n",
    "# # Perform Grid Search with 5-fold cross-validation\n",
    "# grid_search = GridSearchCV(estimator=rf, param_grid=param_grid, cv=5, n_jobs=-1, scoring='accuracy')\n",
    "# grid_search.fit(X_train, y_train)\n",
    "\n",
    "# # Best hyperparameters and cross-validated accuracy\n",
    "# print(\"Best Parameters:\", grid_search.best_params_)\n",
    "# print(\"Best Cross-Validated Accuracy:\", grid_search.best_score_)\n",
    "\n",
    "# # Use the best model to predict on the test set\n",
    "# best_rf_model = grid_search.best_estimator_\n",
    "# rf_y_pred_test = best_rf_model.predict(X_test)\n",
    "\n",
    "# rf_accuracy_tuned = accuracy_score(y_test, rf_y_pred_test)\n",
    "\n",
    "# # Evaluate on the test set\n",
    "# print(\"Random Forest - Test Accuracy after Tuning:\", rf_accuracy_tuned)\n",
    "# print(\"Random Forest - Classification Report after Tuning:\")\n",
    "# print(classification_report(y_test, rf_y_pred_test))\n"
   ]
  },
  {
   "cell_type": "code",
   "execution_count": 207,
   "metadata": {},
   "outputs": [],
   "source": [
    "# # Calculate training accuracy\n",
    "# rf_y_pred_train = best_rf_model.predict(X_train)\n",
    "\n",
    "# # Evaluate on the training set\n",
    "# rf_accuracy_train = accuracy_score(y_train, rf_y_pred_train)\n",
    "\n",
    "# print(\"Random Forest - Training Accuracy after Tuning:\", rf_accuracy_train)\n"
   ]
  },
  {
   "cell_type": "markdown",
   "metadata": {},
   "source": [
    "#### tenorflow"
   ]
  },
  {
   "cell_type": "code",
   "execution_count": 208,
   "metadata": {},
   "outputs": [],
   "source": [
    "# import tensorflow as tf\n",
    "# from tensorflow.keras.models import Sequential\n",
    "# from tensorflow.keras.layers import Dense\n",
    "# from tensorflow.keras.callbacks import EarlyStopping\n",
    "# from sklearn.metrics import accuracy_score, classification_report\n",
    "# import keras_tuner as kt  # Import Keras Tuner\n",
    "\n",
    "# # Define the model builder function for hyperparameter tuning\n",
    "# def build_model(hp):\n",
    "#     model = Sequential()\n",
    "#     # Input Layer\n",
    "#     model.add(Dense(units=hp.Int('units_input', min_value=64, max_value=256, step=32), \n",
    "#                     activation='relu', input_shape=(X_train.shape[1],), name=\"Input_Layer\"))\n",
    "#     # Hidden Layers\n",
    "#     for i in range(hp.Int('num_hidden_layers', 1, 3)):  # 1 to 3 hidden layers\n",
    "#         model.add(Dense(units=hp.Int(f'units_{i}', min_value=32, max_value=128, step=16), \n",
    "#                         activation='relu', name=f\"Hidden_Layer{i+1}\"))\n",
    "#     # Output Layer\n",
    "#     model.add(Dense(1, activation='sigmoid', name=\"Output_Layer\"))\n",
    "\n",
    "#     # Compile the model\n",
    "#     model.compile(\n",
    "#         optimizer=tf.keras.optimizers.Adam(learning_rate=hp.Choice('learning_rate', values=[1e-3, 1e-4, 1e-5])),\n",
    "#         loss='binary_crossentropy',\n",
    "#         metrics=['accuracy']\n",
    "#     )\n",
    "#     return model\n",
    "\n",
    "# # Initialize the tuner\n",
    "# tuner = kt.RandomSearch(\n",
    "#     build_model,\n",
    "#     objective='val_accuracy',\n",
    "#     max_trials=10,  # Number of hyperparameter combinations to try\n",
    "#     executions_per_trial=2,  # Number of models to train for each trial\n",
    "#     directory='hyper_tuning',\n",
    "#     project_name='nn_tuning'\n",
    "# )\n",
    "\n",
    "# # Early stopping to prevent overfitting\n",
    "# early_stop = EarlyStopping(monitor='val_loss', patience=5, restore_best_weights=True, verbose=1)\n",
    "\n",
    "# # Perform the search\n",
    "# tuner.search(X_train, y_train, validation_split=0.2, epochs=50, batch_size=32, callbacks=[early_stop])\n",
    "\n",
    "# # Get the best hyperparameters\n",
    "# best_hps = tuner.get_best_hyperparameters(num_trials=1)[0]\n",
    "\n",
    "# print(f\"\"\"\n",
    "# The optimal number of units in the input layer is {best_hps.get('units_input')}.\n",
    "# The optimal number of hidden layers is {best_hps.get('num_hidden_layers')}.\n",
    "# The optimal learning rate is {best_hps.get('learning_rate')}.\n",
    "# \"\"\")\n",
    "\n",
    "# # Train the best model\n",
    "# best_model = tuner.hypermodel.build(best_hps)\n",
    "# history = best_model.fit(X_train, y_train, validation_split=0.2, epochs=50, batch_size=32, callbacks=[early_stop])\n",
    "\n",
    "# # Evaluate the tuned model on the test set\n",
    "# nn_test_preds = (best_model.predict(X_test) > 0.5).astype(\"int32\")\n",
    "# nn_tenorflow_test_accuracy = accuracy_score(y_test, nn_test_preds)\n",
    "# print(\"Testing Accuracy after Tuning:\", nn_tenorflow_test_accuracy)\n",
    "# print(\"\\nClassification Report (Testing):\\n\", classification_report(y_test, nn_test_preds))\n",
    "\n",
    "\n"
   ]
  },
  {
   "cell_type": "markdown",
   "metadata": {},
   "source": [
    "#### NN tunnung "
   ]
  },
  {
   "cell_type": "code",
   "execution_count": 209,
   "metadata": {},
   "outputs": [],
   "source": [
    "# import torch\n",
    "# import torch.nn as nn\n",
    "# import torch.optim as optim\n",
    "# from sklearn.metrics import accuracy_score\n",
    "# from torch.utils.data import DataLoader, TensorDataset\n",
    "\n",
    "# # Check for GPU availability\n",
    "# device = torch.device(\"cuda\" if torch.cuda.is_available() else \"cpu\")\n",
    "# print(f\"Using device: {device}\")\n",
    "\n",
    "# # Define the Neural Network\n",
    "# class NeuralNet(nn.Module):\n",
    "#     def __init__(self, input_size, hidden_size, output_size):\n",
    "#         super(NeuralNet, self).__init__()\n",
    "#         self.fc1 = nn.Linear(input_size, hidden_size)\n",
    "#         self.relu = nn.ReLU()\n",
    "#         self.fc2 = nn.Linear(hidden_size, output_size)\n",
    "\n",
    "#     def forward(self, x):\n",
    "#         x = self.fc1(x)\n",
    "#         x = self.relu(x)\n",
    "#         x = self.fc2(x)\n",
    "#         return x\n",
    "\n",
    "# # Function to train the model\n",
    "# def train_model(model, train_loader, criterion, optimizer, device, epochs=20):\n",
    "#     model.train()\n",
    "#     for epoch in range(epochs):\n",
    "#         epoch_loss = 0\n",
    "#         for X_batch, y_batch in train_loader:\n",
    "#             X_batch, y_batch = X_batch.to(device), y_batch.to(device)\n",
    "#             optimizer.zero_grad()\n",
    "#             outputs = model(X_batch)\n",
    "#             loss = criterion(outputs, y_batch)\n",
    "#             loss.backward()\n",
    "#             optimizer.step()\n",
    "#             epoch_loss += loss.item()\n",
    "#         print(f\"Epoch {epoch + 1}/{epochs}, Loss: {epoch_loss / len(train_loader):.4f}\")\n",
    "\n",
    "# # Function to evaluate the model\n",
    "# def evaluate_model(model, test_loader, device):\n",
    "#     model.eval()\n",
    "#     y_pred, y_true = [], []\n",
    "#     with torch.no_grad():\n",
    "#         for X_batch, y_batch in test_loader:\n",
    "#             X_batch, y_batch = X_batch.to(device), y_batch.to(device)\n",
    "#             outputs = model(X_batch)\n",
    "#             _, predicted = torch.max(outputs, 1)\n",
    "#             y_pred.extend(predicted.cpu().numpy())\n",
    "#             y_true.extend(y_batch.cpu().numpy())\n",
    "#     return accuracy_score(y_true, y_pred)\n",
    "\n",
    "# # Hyperparameter search\n",
    "# hidden_sizes = [32, 64, 128]\n",
    "# learning_rates = [0.001, 0.01, 0.1]\n",
    "# batch_sizes = [16, 32, 64]\n",
    "\n",
    "# best_accuracy = 0\n",
    "# best_hyperparameters = {}\n",
    "\n",
    "# for hidden_size in hidden_sizes:\n",
    "#     for lr in learning_rates:\n",
    "#         for batch_size in batch_sizes:\n",
    "#             # Prepare data loaders\n",
    "#             train_dataset = TensorDataset(torch.tensor(X_train.values, dtype=torch.float32),\n",
    "#                                            torch.tensor(y_train.values, dtype=torch.long))\n",
    "#             test_dataset = TensorDataset(torch.tensor(X_test.values, dtype=torch.float32),\n",
    "#                                           torch.tensor(y_test.values, dtype=torch.long))\n",
    "#             train_loader = DataLoader(train_dataset, batch_size=batch_size, shuffle=True)\n",
    "#             test_loader = DataLoader(test_dataset, batch_size=batch_size, shuffle=False)\n",
    "\n",
    "#             # Initialize model, loss, and optimizer\n",
    "#             model = NeuralNet(input_size=X_train.shape[1], hidden_size=hidden_size, output_size=2).to(device)\n",
    "#             criterion = nn.CrossEntropyLoss()\n",
    "#             optimizer = optim.Adam(model.parameters(), lr=lr)\n",
    "\n",
    "#             # Train and evaluate\n",
    "#             train_model(model, train_loader, criterion, optimizer, device, epochs=20)\n",
    "#             accuracy = evaluate_model(model, test_loader, device)\n",
    "\n",
    "#             # Save best hyperparameters\n",
    "#             if accuracy > best_accuracy:\n",
    "#                 best_accuracy = accuracy\n",
    "#                 best_hyperparameters = {'hidden_size': hidden_size, 'lr': lr, 'batch_size': batch_size}\n",
    "\n",
    "#             print(f\"Hidden Size: {hidden_size}, LR: {lr}, Batch Size: {batch_size}, Accuracy: {accuracy:.4f}\")\n",
    "\n",
    "# # Output the best hyperparameters\n",
    "# print(f\"Best Hyperparameters: {best_hyperparameters}\")\n",
    "# print(f\"Best Accuracy: {best_accuracy:.4f}\")\n"
   ]
  },
  {
   "cell_type": "markdown",
   "metadata": {},
   "source": [
    "# evaluation"
   ]
  },
  {
   "cell_type": "code",
   "execution_count": 210,
   "metadata": {},
   "outputs": [],
   "source": [
    "# from sklearn.metrics import accuracy_score, classification_report\n",
    "\n",
    "# # After tuning, you already have the best_rf_model (tuned Random Forest model)\n",
    "\n",
    "# # Predict the outcomes on the test set\n",
    "# rf_y_pred_test_tuned = best_rf_model.predict(X_test)\n",
    "\n",
    "# # Calculate accuracy after tuning for the Random Forest model\n",
    "# rf_accuracy_tuned = accuracy_score(y_test, rf_y_pred_test_tuned)\n",
    "\n",
    "\n",
    "# ### delete above\n",
    "\n",
    "# # Print the accuracy after tuning\n",
    "# print(f\"Random Forest Accuracy (Tuned): {rf_accuracy_tuned:.4f}\")\n",
    "\n",
    "# # Optionally, print the classification report for further evaluation\n",
    "# print(\"\\nRandom Forest Classification Report (Tuned):\")\n",
    "# print(classification_report(y_test, rf_y_pred_test_tuned))\n"
   ]
  },
  {
   "cell_type": "code",
   "execution_count": 211,
   "metadata": {},
   "outputs": [],
   "source": [
    "# # Output the best hyperparameters\n",
    "# print(f\"Best Hyperparameters: {best_hyperparameters}\")\n",
    "# print(f\"Best Accuracy: {best_accuracy:.4f}\")\n",
    "\n"
   ]
  },
  {
   "cell_type": "code",
   "execution_count": 212,
   "metadata": {},
   "outputs": [],
   "source": [
    "\n",
    "# # Print the accuracy after tuning\n",
    "# print(f\"TensorFlow Neural Network Accuracy (Tuned): {nn_tenorflow_test_accuracy:.4f}\")\n",
    "\n",
    "# # Optionally, print the classification report for further evaluation\n",
    "# print(\"\\nTensorFlow Neural Network Classification Report (Tuned):\")\n",
    "# print(classification_report(y_test, nn_test_preds))\n"
   ]
  },
  {
   "cell_type": "code",
   "execution_count": 213,
   "metadata": {},
   "outputs": [],
   "source": [
    "# import matplotlib.pyplot as plt\n",
    "\n",
    "# # List of model names and their corresponding accuracies\n",
    "# model_names = ['Random Forest', 'Neural Network (PyTorch)', 'Neural Network (TensorFlow)']\n",
    "# accuracies = [rf_accuracy_tuned, best_accuracy, nn_tenorflow_test_accuracy]\n",
    "\n",
    "# # Create the bar chart\n",
    "# plt.bar(model_names, accuracies, color=['blue', 'orange', 'green'])\n",
    "\n",
    "# # Set the y-axis limit to range from 0 to 1 (accuracy is between 0 and 1)\n",
    "# plt.ylim(0, 1)\n",
    "\n",
    "# # Add labels and title\n",
    "# plt.ylabel('Accuracy')\n",
    "# plt.title('Model Accuracy Comparison')\n",
    "\n",
    "# # Display the bar chart\n",
    "# plt.show()"
   ]
  },
  {
   "cell_type": "markdown",
   "metadata": {},
   "source": [
    "# saving the model"
   ]
  },
  {
   "cell_type": "code",
   "execution_count": 214,
   "metadata": {},
   "outputs": [],
   "source": [
    "# import joblib\n",
    "\n",
    "# # Save the best Random Forest model\n",
    "# joblib.dump(best_rf_model, 'best_random_forest_model.pkl')\n",
    "# print(\"Random Forest model saved successfully!\")\n"
   ]
  },
  {
   "cell_type": "code",
   "execution_count": 215,
   "metadata": {},
   "outputs": [],
   "source": [
    "# # Save the entire model\n",
    "# torch.save(model, 'best_tuned_model_PY.pth')\n",
    "# print(\"Tuned model saved successfully!\")"
   ]
  },
  {
   "cell_type": "code",
   "execution_count": 216,
   "metadata": {},
   "outputs": [],
   "source": [
    "# # Save the tuned model\n",
    "# best_model.save(\"best_tuned_mode_Ten.h5\")\n",
    "# print(\"Tuned model saved as 'best_tuned_model.h5'\")"
   ]
  }
 ],
 "metadata": {
  "kernelspec": {
   "display_name": "Python 3",
   "language": "python",
   "name": "python3"
  },
  "language_info": {
   "codemirror_mode": {
    "name": "ipython",
    "version": 3
   },
   "file_extension": ".py",
   "mimetype": "text/x-python",
   "name": "python",
   "nbconvert_exporter": "python",
   "pygments_lexer": "ipython3",
   "version": "3.11.4"
  }
 },
 "nbformat": 4,
 "nbformat_minor": 2
}
